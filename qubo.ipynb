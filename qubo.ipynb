{
 "cells": [
  {
   "cell_type": "markdown",
   "metadata": {},
   "source": [
    "## QUBO Objective Function\n",
    "\n",
    "Objective function is defined as follows:\n",
    "\n",
    "$$\n",
    "Q(x, \\alpha) = -\\alpha\\sum_{i=1}^{n}{I_i x_i} \n",
    "+ \n",
    "(1 - \\alpha)\\sum_{i, j=1}^{n}{R_{ij} x_i x_j}\n",
    "$$\n",
    "\n",
    "where $x_i$ is a binary variable, $I_i$ is the importance of the $i$-th feature, and $R_{ij}$ is the redundancy between the $i$-th and $j$-th features.\n",
    "\n",
    "Therefore, $Q(\\alpha)$ is formulated as follows:\n",
    "\n",
    "$$\n",
    "Q(\\alpha)\n",
    "= R_{i, j} - \\alpha (R_{i, j} + \\delta_{i, j}I_i)\n",
    "$$\n",
    "\n",
    "where $\\delta_{i, j}$ is the Kronecker delta."
   ]
  },
  {
   "cell_type": "code",
   "execution_count": 1,
   "metadata": {},
   "outputs": [],
   "source": [
    "import pandas as pd\n",
    "import numpy as np\n",
    "\n",
    "PIC_LEN = 4\n",
    "PIC_SIZE = PIC_LEN * PIC_LEN\n",
    "FEATURE_SIZE = 8"
   ]
  },
  {
   "cell_type": "code",
   "execution_count": 2,
   "metadata": {},
   "outputs": [],
   "source": [
    "importance = pd.read_csv('importance.csv')\n",
    "redundancy = pd.read_csv('redundancy.csv')\n",
    "\n",
    "# convert importance to 1-d array, redundancy to 2-d matrix\n",
    "importance = np.array(importance).reshape(-1)\n",
    "redundancy = np.array(redundancy)"
   ]
  },
  {
   "cell_type": "code",
   "execution_count": 3,
   "metadata": {},
   "outputs": [],
   "source": [
    "def qubo_matrix(importance, redundancy, alpha=0.5):\n",
    "    n_features = len(importance)\n",
    "    qubo = np.zeros((n_features, n_features))\n",
    "\n",
    "    for i in range(n_features):\n",
    "        for j in range(n_features):\n",
    "            if i == j:\n",
    "                # Diagonal elements\n",
    "                qubo[i][j] = redundancy[i][j] - alpha * (redundancy[i][j] + importance[i])\n",
    "            else:\n",
    "                # Off-diagonal elements\n",
    "                qubo[i][j] = redundancy[i][j] - alpha * redundancy[i][j]\n",
    "\n",
    "    return qubo"
   ]
  },
  {
   "cell_type": "code",
   "execution_count": 4,
   "metadata": {},
   "outputs": [],
   "source": [
    "quadratic = qubo_matrix(importance, redundancy)"
   ]
  },
  {
   "cell_type": "code",
   "execution_count": 5,
   "metadata": {},
   "outputs": [
    {
     "data": {
      "text/plain": [
       "True"
      ]
     },
     "execution_count": 5,
     "metadata": {},
     "output_type": "execute_result"
    }
   ],
   "source": [
    "# make sure the matrix is hermitian\n",
    "np.allclose(quadratic, quadratic.T)"
   ]
  },
  {
   "cell_type": "markdown",
   "metadata": {},
   "source": [
    "### Classical Method"
   ]
  },
  {
   "cell_type": "code",
   "execution_count": 6,
   "metadata": {},
   "outputs": [],
   "source": [
    "from scipy.optimize import minimize"
   ]
  },
  {
   "cell_type": "code",
   "execution_count": 7,
   "metadata": {},
   "outputs": [],
   "source": [
    "# Define the objective function\n",
    "def objective_function(x, Q):\n",
    "    return np.dot(x, np.dot(Q, x))"
   ]
  },
  {
   "cell_type": "code",
   "execution_count": 8,
   "metadata": {},
   "outputs": [],
   "source": [
    "def classical_solver(alpha):\n",
    "    # initial guess\n",
    "    x0 = np.zeros(len(importance))\n",
    "\n",
    "    # Constraints: binary variables\n",
    "    cons = ({'type': 'eq', 'fun': lambda x: np.mod(x, 1)})\n",
    "    \n",
    "    quadratic = qubo_matrix(importance, redundancy, alpha)\n",
    "\n",
    "    # Solve the problem\n",
    "    result = minimize(objective_function, x0, args=(quadratic), constraints=cons)\n",
    "    return result.x"
   ]
  },
  {
   "cell_type": "markdown",
   "metadata": {},
   "source": [
    "# Quantum Method"
   ]
  },
  {
   "cell_type": "code",
   "execution_count": 9,
   "metadata": {},
   "outputs": [],
   "source": [
    "import numpy as np\n",
    "import copy\n",
    "\n",
    "# Problem modelling imports\n",
    "from docplex.mp.model import Model\n",
    "\n",
    "# Qiskit imports\n",
    "from qiskit_algorithms import QAOA, NumPyMinimumEigensolver\n",
    "from qiskit_algorithms.optimizers import COBYLA\n",
    "from qiskit_algorithms.utils.algorithm_globals import algorithm_globals\n",
    "from qiskit.primitives import Sampler\n",
    "from qiskit_optimization.algorithms import MinimumEigenOptimizer, CplexOptimizer\n",
    "from qiskit_optimization import QuadraticProgram\n",
    "from qiskit_optimization.problems.variable import VarType\n",
    "from qiskit_optimization.converters.quadratic_program_to_qubo import QuadraticProgramToQubo\n",
    "from qiskit_optimization.translators import from_docplex_mp"
   ]
  },
  {
   "cell_type": "code",
   "execution_count": 10,
   "metadata": {},
   "outputs": [],
   "source": [
    "def create_problem(alpha=0.5, num_features=FEATURE_SIZE):\n",
    "    mdl = Model(name='feature_selection')\n",
    "    n_features = len(importance)\n",
    "    x = [mdl.binary_var(\"x%s\" % i) for i in range(len(importance))]\n",
    "    \n",
    "    quadratic = qubo_matrix(importance, redundancy, alpha)\n",
    "    \n",
    "    # Objective function: x^T Q x\n",
    "    objective = mdl.sum(quadratic[i][j] * x[i] * x[j] for i in range(n_features) for j in range(n_features))\n",
    "    mdl.minimize(objective)\n",
    "    \n",
    "    # Constraints: number of features = num_features\n",
    "    mdl.add_constraint(mdl.sum(x) == num_features)\n",
    "    \n",
    "    qp = from_docplex_mp(mdl)\n",
    "    \n",
    "    return qp"
   ]
  },
  {
   "cell_type": "code",
   "execution_count": 11,
   "metadata": {},
   "outputs": [
    {
     "name": "stdout",
     "output_type": "stream",
     "text": [
      "\\ This file has been generated by DOcplex\n",
      "\\ ENCODING=ISO-8859-1\n",
      "\\Problem name: feature_selection\n",
      "\n",
      "Minimize\n",
      " obj: [ - 0.023326853838 x1^2 + 0.002025011282 x1*x2 + 0.000026167986 x1*x3\n",
      "      + 0.000262612593 x1*x4 + 0.005608738872 x1*x5 + 0.001297108378 x1*x6\n",
      "      + 0.000604828779 x1*x7 + 0.000773870421 x1*x8 + 0.006418256247 x1*x9\n",
      "      + 0.000901344489 x1*x10 + 0.006259307669 x1*x11 + 0.000029440434 x1*x12\n",
      "      + 0.007079858536 x1*x13 + 0.003052714638 x1*x14 + 0.000022895859 x1*x15\n",
      "      - 0.102392534515 x2^2 + 0.000700868464 x2*x3 + 0.001071455757 x2*x4\n",
      "      + 0.003052718253 x2*x5 + 0.036839533223 x2*x6 + 0.002850683347 x2*x7\n",
      "      + 0.000633878802 x2*x8 + 0.038691642544 x2*x9 + 0.002508501688 x2*x10\n",
      "      + 0.000711702260 x2*x11 + 0.000120105440 x2*x12 + 0.028970336712 x2*x13\n",
      "      + 0.012469304649 x2*x14 + 0.000093405895 x2*x15 - 0.001139762694 x3^2\n",
      "      + 0.000012259773 x3*x4 + 0.000276929720 x3*x5 + 0.001068154287 x3*x6\n",
      "      + 0.000035821729 x3*x7 + 0.000009492925 x3*x8 + 0.000482186186 x3*x9\n",
      "      + 0.000333345860 x3*x10 + 0.000541330074 x3*x11 + 0.000001374432 x3*x12\n",
      "      + 0.000330224356 x3*x13 + 0.000142463277 x3*x14 + 0.000001068898 x3*x15\n",
      "      - 0.012695609274 x4^2 + 0.003622926647 x4*x5 + 0.007211755410 x4*x6\n",
      "      + 0.000359498109 x4*x7 + 0.000419832885 x4*x8 + 0.004497139710 x4*x9\n",
      "      + 0.003818460463 x4*x10 + 0.000428621860 x4*x11 + 0.000013792921 x4*x12\n",
      "      + 0.001139293022 x4*x13 + 0.005507123985 x4*x14 + 0.000010726775 x4*x15\n",
      "      - 0.172097013225 x5^2 + 0.002019117803 x5*x6 + 0.007013324237 x5*x7\n",
      "      + 0.004295916844 x5*x8 + 0.000669768009 x5*x9 + 0.016149603225 x5*x10\n",
      "      + 0.002242624648 x5*x11 + 0.000719609370 x5*x12 + 0.008491359068 x5*x13\n",
      "      + 0.008423999449 x5*x14 + 0.001092956186 x5*x15 - 0.098586148980 x6^2\n",
      "      + 0.001114192508 x6*x7 + 0.001334842398 x6*x8 + 0.004570438884 x6*x9\n",
      "      + 0.004311554638 x6*x10 + 0.001189724526 x6*x11 + 0.000485047171 x6*x12\n",
      "      + 0.002793891480 x6*x13 + 0.012410955547 x6*x14 + 0.000709828699 x6*x15\n",
      "      - 0.021032903679 x7^2 + 0.000278361988 x7*x8 + 0.000572572512 x7*x9\n",
      "      + 0.002853658456 x7*x10 + 0.000760659917 x7*x11 + 0.000040301437 x7*x12\n",
      "      + 0.000788201783 x7*x13 + 0.003036195412 x7*x14 + 0.000031342464 x7*x15\n",
      "      - 0.006077377221 x8^2 + 0.000770540421 x8*x9 + 0.000855874841 x8*x10\n",
      "      + 0.000331884348 x8*x11 + 0.000010680064 x8*x12 + 0.002566787657 x8*x13\n",
      "      + 0.000715014380 x8*x14 + 0.000008305903 x8*x15 - 0.156817433605 x9^2\n",
      "      + 0.016153843018 x9*x10 + 0.007815683490 x9*x11 + 0.001032442364 x9*x12\n",
      "      + 0.018698740847 x9*x13 + 0.000663615182 x9*x14 + 0.000638070586 x9*x15\n",
      "      - 0.086042084178 x10^2 + 0.000870026775 x10*x11 + 0.001000542272 x10*x12\n",
      "      + 0.008213039783 x10*x13 + 0.028449213806 x10*x14 + 0.000932739643 x10*x15\n",
      "      - 0.023411258187 x11^2 + 0.000048050160 x11*x12 + 0.006386698479 x11*x13\n",
      "      + 0.002010120107 x11*x14 + 0.000037368645 x11*x15 - 0.001557147083 x12^2\n",
      "      + 0.001003684458 x12*x13 + 0.000533697064 x12*x14 + 0.000001202569 x12*x15\n",
      "      - 0.066332704184 x13^2 + 0.011659084446 x13*x14 + 0.000288930592 x13*x15\n",
      "      - 0.041241045436 x14^2 + 0.000124648991 x14*x15 - 0.001209843382 x15^2 ]/2\n",
      "Subject To\n",
      " c0: x0 + x1 + x2 + x3 + x4 + x5 + x6 + x7 + x8 + x9 + x10 + x11 + x12 + x13\n",
      "     + x14 + x15 = 8\n",
      "\n",
      "Bounds\n",
      " 0 <= x0 <= 1\n",
      " 0 <= x1 <= 1\n",
      " 0 <= x2 <= 1\n",
      " 0 <= x3 <= 1\n",
      " 0 <= x4 <= 1\n",
      " 0 <= x5 <= 1\n",
      " 0 <= x6 <= 1\n",
      " 0 <= x7 <= 1\n",
      " 0 <= x8 <= 1\n",
      " 0 <= x9 <= 1\n",
      " 0 <= x10 <= 1\n",
      " 0 <= x11 <= 1\n",
      " 0 <= x12 <= 1\n",
      " 0 <= x13 <= 1\n",
      " 0 <= x14 <= 1\n",
      " 0 <= x15 <= 1\n",
      "\n",
      "Binaries\n",
      " x0 x1 x2 x3 x4 x5 x6 x7 x8 x9 x10 x11 x12 x13 x14 x15\n",
      "End\n",
      "\n"
     ]
    }
   ],
   "source": [
    "qubo = create_problem(alpha=0.5, num_features=FEATURE_SIZE)\n",
    "print(qubo.export_as_lp_string())"
   ]
  },
  {
   "cell_type": "code",
   "execution_count": 12,
   "metadata": {},
   "outputs": [
    {
     "name": "stdout",
     "output_type": "stream",
     "text": [
      "objective function value: -0.25532041097688457\n",
      "variable values: x0=1.0, x1=0.0, x2=0.0, x3=0.0, x4=0.0, x5=1.0, x6=1.0, x7=1.0, x8=0.0, x9=1.0, x10=1.0, x11=1.0, x12=0.0, x13=1.0, x14=0.0, x15=0.0\n",
      "status: SUCCESS\n"
     ]
    }
   ],
   "source": [
    "result = CplexOptimizer().solve(qubo)\n",
    "print(result.prettyprint())"
   ]
  },
  {
   "cell_type": "code",
   "execution_count": 13,
   "metadata": {},
   "outputs": [
    {
     "data": {
      "image/png": "[encoded data removed]",
      "text/plain": [
       "<Figure size 1200x500 with 10 Axes>"
      ]
     },
     "metadata": {},
     "output_type": "display_data"
    }
   ],
   "source": [
    "# convert result to feature mask\n",
    "feature_mask = np.array(result.x)\n",
    "\n",
    "# apply feature mask to data\n",
    "data = pd.read_csv('mnist.csv')\n",
    "\n",
    "# convert to image and label\n",
    "image = data.drop('label', axis=1).values\n",
    "label = data['label']\n",
    "\n",
    "# apply feature mask: convert unselected features to 0\n",
    "image = image * feature_mask\n",
    "\n",
    "# display first 10 images\n",
    "import matplotlib.pyplot as plt\n",
    "fig, axes = plt.subplots(2, 5, figsize=(12, 5))\n",
    "for i, ax in enumerate(axes.flat):\n",
    "    ax.imshow(image[i].reshape(PIC_LEN, PIC_LEN), cmap='binary')\n",
    "    ax.set(title = f\"Label: {label[i]}\")"
   ]
  },
  {
   "cell_type": "code",
   "execution_count": 14,
   "metadata": {},
   "outputs": [],
   "source": [
    "# drop unselected features\n",
    "selected_features = np.where(feature_mask == 1)[0]\n",
    "image_selected = image[:, selected_features]"
   ]
  },
  {
   "cell_type": "code",
   "execution_count": 15,
   "metadata": {},
   "outputs": [
    {
     "data": {
      "text/plain": [
       "0.41064453125"
      ]
     },
     "execution_count": 15,
     "metadata": {},
     "output_type": "execute_result"
    }
   ],
   "source": [
    "# use svm to classify\n",
    "from sklearn.model_selection import train_test_split\n",
    "from sklearn.svm import SVC\n",
    "from sklearn.metrics import accuracy_score\n",
    "\n",
    "# split data into training and testing\n",
    "X_train, X_test, y_train, y_test = train_test_split(image_selected, label, test_size=0.2, random_state=42)\n",
    "\n",
    "# train svm\n",
    "svm = SVC()\n",
    "svm.fit(X_train, y_train)\n",
    "\n",
    "# predict\n",
    "y_pred = svm.predict(X_test)\n",
    "\n",
    "# evaluate\n",
    "accuracy_score(y_test, y_pred)"
   ]
  },
  {
   "cell_type": "code",
   "execution_count": 16,
   "metadata": {},
   "outputs": [
    {
     "data": {
      "text/plain": [
       "0.1474609375"
      ]
     },
     "execution_count": 16,
     "metadata": {},
     "output_type": "execute_result"
    }
   ],
   "source": [
    "# random feature selection\n",
    "import random\n",
    "random.seed(42)\n",
    "random_features = random.sample(range(PIC_SIZE), FEATURE_SIZE)\n",
    "\n",
    "# apply feature mask: convert unselected features to 0\n",
    "image_random = image[:, random_features]\n",
    "\n",
    "# split data into training and testing\n",
    "X_train, X_test, y_train, y_test = train_test_split(image_random, label, test_size=0.2, random_state=42)\n",
    "\n",
    "# train svm\n",
    "svm = SVC()\n",
    "svm.fit(X_train, y_train)\n",
    "\n",
    "# predict\n",
    "y_pred = svm.predict(X_test)\n",
    "\n",
    "# evaluate\n",
    "accuracy_score(y_test, y_pred)"
   ]
  },
  {
   "cell_type": "markdown",
   "metadata": {},
   "source": [
    "## Solving QUBO using Quantum Circuit"
   ]
  },
  {
   "cell_type": "code",
   "execution_count": 17,
   "metadata": {},
   "outputs": [],
   "source": [
    "from qiskit_algorithms.utils import algorithm_globals\n",
    "from qiskit_algorithms import QAOA, NumPyMinimumEigensolver\n",
    "from qiskit_algorithms.optimizers import COBYLA\n",
    "from qiskit.primitives import Sampler\n",
    "from qiskit_optimization.algorithms import (\n",
    "    MinimumEigenOptimizer,\n",
    "    RecursiveMinimumEigenOptimizer,\n",
    "    SolutionSample,\n",
    "    OptimizationResultStatus,\n",
    ")\n",
    "from qiskit_optimization import QuadraticProgram\n",
    "from qiskit_optimization.converters import QuadraticProgramToQubo\n",
    "from qiskit.visualization import plot_histogram\n",
    "from typing import List, Tuple\n",
    "import numpy as np"
   ]
  },
  {
   "cell_type": "code",
   "execution_count": 18,
   "metadata": {},
   "outputs": [
    {
     "data": {
      "text/plain": [
       "<LinearConstraint: x_0 + x_1 + x_10 + x_11 + x_12 + x_13 + x_14 + x_1... == 8 'c0'>"
      ]
     },
     "execution_count": 18,
     "metadata": {},
     "output_type": "execute_result"
    }
   ],
   "source": [
    "qubo = QuadraticProgram()\n",
    "\n",
    "# add PIC_SIZE binary variables\n",
    "for i in range(PIC_SIZE):\n",
    "    qubo.binary_var(f'x_{i}')\n",
    "\n",
    "# add objective function: minimize x^T Q x\n",
    "qubo_m = qubo_matrix(importance, redundancy, alpha=0.5)\n",
    "\n",
    "# minimize x^T Q x\n",
    "qubo.minimize(\n",
    "    linear=[0] * PIC_SIZE,\n",
    "    quadratic=qubo_m,\n",
    ")\n",
    "\n",
    "# constraint: number of features = FEATURE_SIZE\n",
    "qubo.linear_constraint(\n",
    "    linear=[1] * PIC_SIZE,\n",
    "    sense='==',\n",
    "    rhs=FEATURE_SIZE,\n",
    ")"
   ]
  },
  {
   "cell_type": "code",
   "execution_count": 19,
   "metadata": {},
   "outputs": [],
   "source": [
    "op, offset = QuadraticProgramToQubo().convert(qubo).to_ising()"
   ]
  },
  {
   "cell_type": "code",
   "execution_count": 20,
   "metadata": {},
   "outputs": [],
   "source": [
    "qp = QuadraticProgram()\n",
    "qp.from_ising(op, offset, linear=True)"
   ]
  },
  {
   "cell_type": "code",
   "execution_count": 21,
   "metadata": {},
   "outputs": [
    {
     "name": "stdout",
     "output_type": "stream",
     "text": [
      "\\ This file has been generated by DOcplex\n",
      "\\ ENCODING=ISO-8859-1\n",
      "\\Problem name: CPLEX\n",
      "\n",
      "Minimize\n",
      " obj: - 24.056403116659 x0 - 24.068066543578 x1 - 24.107599383917 x2\n",
      "      - 24.056972998006 x3 - 24.062750921296 x4 - 24.142451623271 x5\n",
      "      - 24.105696191149 x6 - 24.066919568499 x7 - 24.059441805270 x8\n",
      "      - 24.134811833462 x9 - 24.099424158748 x10 - 24.068108745753 x11\n",
      "      - 24.057181690201 x12 - 24.089569468751 x13 - 24.077023639377 x14\n",
      "      - 24.057008038350 x15 + [ 6.415040831109 x0*x1 + 6.415040831109 x0*x2\n",
      "      + 6.415040831109 x0*x3 + 6.415040831109 x0*x4 + 6.415040831109 x0*x5\n",
      "      + 6.415040831109 x0*x6 + 6.415040831109 x0*x7 + 6.415040831109 x0*x8\n",
      "      + 6.415040831109 x0*x9 + 6.415040831109 x0*x10 + 6.415040831109 x0*x11\n",
      "      + 6.415040831109 x0*x12 + 6.415040831109 x0*x13 + 6.415040831109 x0*x14\n",
      "      + 6.415040831109 x0*x15 + 6.417065842391 x1*x2 + 6.415066999095 x1*x3\n",
      "      + 6.415303443702 x1*x4 + 6.420649569981 x1*x5 + 6.416337939487 x1*x6\n",
      "      + 6.415645659888 x1*x7 + 6.415814701531 x1*x8 + 6.421459087356 x1*x9\n",
      "      + 6.415942175598 x1*x10 + 6.421300138779 x1*x11 + 6.415070271544 x1*x12\n",
      "      + 6.422120689645 x1*x13 + 6.418093545747 x1*x14 + 6.415063726968 x1*x15\n",
      "      + 6.415741699573 x2*x3 + 6.416112286866 x2*x4 + 6.418093549362 x2*x5\n",
      "      + 6.451880364332 x2*x6 + 6.417891514456 x2*x7 + 6.415674709911 x2*x8\n",
      "      + 6.453732473653 x2*x9 + 6.417549332797 x2*x10 + 6.415752533369 x2*x11\n",
      "      + 6.415160936549 x2*x12 + 6.444011167821 x2*x13 + 6.427510135759 x2*x14\n",
      "      + 6.415134237004 x2*x15 + 6.415053090882 x3*x4 + 6.415317760829 x3*x5\n",
      "      + 6.416108985396 x3*x6 + 6.415076652838 x3*x7 + 6.415050324034 x3*x8\n",
      "      + 6.415523017295 x3*x9 + 6.415374176969 x3*x10 + 6.415582161183 x3*x11\n",
      "      + 6.415042205541 x3*x12 + 6.415371055465 x3*x13 + 6.415183294386 x3*x14\n",
      "      + 6.415041900007 x3*x15 + 6.418663757756 x4*x5 + 6.422252586519 x4*x6\n",
      "      + 6.415400329218 x4*x7 + 6.415460663994 x4*x8 + 6.419537970819 x4*x9\n",
      "      + 6.418859291572 x4*x10 + 6.415469452969 x4*x11 + 6.415054624031 x4*x12\n",
      "      + 6.416180124131 x4*x13 + 6.420547955095 x4*x14 + 6.415051557884 x4*x15\n",
      "      + 6.417059948912 x5*x6 + 6.422054155346 x5*x7 + 6.419336747953 x5*x8\n",
      "      + 6.415710599118 x5*x9 + 6.431190434334 x5*x10 + 6.417283455757 x5*x11\n",
      "      + 6.415760440479 x5*x12 + 6.423532190178 x5*x13 + 6.423464830558 x5*x14\n",
      "      + 6.416133787295 x5*x15 + 6.416155023617 x6*x7 + 6.416375673507 x6*x8\n",
      "      + 6.419611269993 x6*x9 + 6.419352385747 x6*x10 + 6.416230555635 x6*x11\n",
      "      + 6.415525878280 x6*x12 + 6.417834722590 x6*x13 + 6.427451786656 x6*x14\n",
      "      + 6.415750659808 x6*x15 + 6.415319193097 x7*x8 + 6.415613403621 x7*x9\n",
      "      + 6.417894489565 x7*x10 + 6.415801491026 x7*x11 + 6.415081132546 x7*x12\n",
      "      + 6.415829032892 x7*x13 + 6.418077026521 x7*x14 + 6.415072173573 x7*x15\n",
      "      + 6.415811371530 x8*x9 + 6.415896705950 x8*x10 + 6.415372715457 x8*x11\n",
      "      + 6.415051511173 x8*x12 + 6.417607618766 x8*x13 + 6.415755845489 x8*x14\n",
      "      + 6.415049137012 x8*x15 + 6.431194674127 x9*x10 + 6.422856514599 x9*x11\n",
      "      + 6.416073273473 x9*x12 + 6.433739571956 x9*x13 + 6.415704446291 x9*x14\n",
      "      + 6.415678901695 x9*x15 + 6.415910857884 x10*x11 + 6.416041373381 x10*x12\n",
      "      + 6.423253870892 x10*x13 + 6.443490044915 x10*x14 + 6.415973570752 x10*x15\n",
      "      + 6.415088881269 x11*x12 + 6.421427529588 x11*x13 + 6.417050951217 x11*x14\n",
      "      + 6.415078199754 x11*x15 + 6.416044515567 x12*x13 + 6.415574528173 x12*x14\n",
      "      + 6.415042033678 x12*x15 + 6.426699915555 x13*x14 + 6.415329761701 x13*x15\n",
      "      + 6.415165480100 x14*x15 ]/2 + 102.640653297745\n",
      "Subject To\n",
      "\n",
      "Bounds\n",
      " 0 <= x0 <= 1\n",
      " 0 <= x1 <= 1\n",
      " 0 <= x2 <= 1\n",
      " 0 <= x3 <= 1\n",
      " 0 <= x4 <= 1\n",
      " 0 <= x5 <= 1\n",
      " 0 <= x6 <= 1\n",
      " 0 <= x7 <= 1\n",
      " 0 <= x8 <= 1\n",
      " 0 <= x9 <= 1\n",
      " 0 <= x10 <= 1\n",
      " 0 <= x11 <= 1\n",
      " 0 <= x12 <= 1\n",
      " 0 <= x13 <= 1\n",
      " 0 <= x14 <= 1\n",
      " 0 <= x15 <= 1\n",
      "\n",
      "Binaries\n",
      " x0 x1 x2 x3 x4 x5 x6 x7 x8 x9 x10 x11 x12 x13 x14 x15\n",
      "End\n",
      "\n"
     ]
    }
   ],
   "source": [
    "print(qp.export_as_lp_string())"
   ]
  },
  {
   "cell_type": "code",
   "execution_count": 22,
   "metadata": {},
   "outputs": [],
   "source": [
    "algorithm_globals.random_seed = 10598\n",
    "qaoa_mes = QAOA(sampler=Sampler(), optimizer=COBYLA(), initial_point=[0.0, 0.0])\n",
    "exact_mes = NumPyMinimumEigensolver()"
   ]
  },
  {
   "cell_type": "code",
   "execution_count": null,
   "metadata": {},
   "outputs": [],
   "source": []
  },
  {
   "cell_type": "markdown",
   "metadata": {},
   "source": []
  },
  {
   "cell_type": "code",
   "execution_count": 23,
   "metadata": {},
   "outputs": [],
   "source": [
    "qaoa = MinimumEigenOptimizer(qaoa_mes)  # using QAOA\n",
    "exact = MinimumEigenOptimizer(exact_mes) # using exact classical eigensolver"
   ]
  },
  {
   "cell_type": "code",
   "execution_count": 24,
   "metadata": {},
   "outputs": [],
   "source": [
    "qaoa_result = qaoa.solve(qp)"
   ]
  },
  {
   "cell_type": "code",
   "execution_count": 25,
   "metadata": {},
   "outputs": [],
   "source": [
    "exact_result = exact.solve(qp)"
   ]
  },
  {
   "cell_type": "code",
   "execution_count": 26,
   "metadata": {},
   "outputs": [],
   "source": [
    "# convert result to feature mask\n",
    "feature_mask = np.array(qaoa_result.x)"
   ]
  },
  {
   "cell_type": "code",
   "execution_count": 27,
   "metadata": {},
   "outputs": [],
   "source": [
    "# apply feature mask to data, drop unselected features\n",
    "selected_features = np.where(feature_mask == 1)[0]\n",
    "image_selected = image[:, selected_features]"
   ]
  },
  {
   "cell_type": "code",
   "execution_count": 28,
   "metadata": {},
   "outputs": [
    {
     "name": "stdout",
     "output_type": "stream",
     "text": [
      "X_train: (8192, 8)\n",
      "Accuracy: 0.41064453125\n"
     ]
    }
   ],
   "source": [
    "# split data into training and testing\n",
    "X_train, X_test, y_train, y_test = train_test_split(image_selected, label, test_size=0.2, random_state=42)\n",
    "\n",
    "# print data shape\n",
    "print(f\"X_train: {X_train.shape}\")\n",
    "\n",
    "# train svm\n",
    "svm = SVC()\n",
    "svm.fit(X_train, y_train)\n",
    "\n",
    "# predict\n",
    "y_pred = svm.predict(X_test)\n",
    "\n",
    "# evaluate\n",
    "print(f\"Accuracy: {accuracy_score(y_test, y_pred)}\")"
   ]
  },
  {
   "cell_type": "code",
   "execution_count": 29,
   "metadata": {},
   "outputs": [
    {
     "name": "stdout",
     "output_type": "stream",
     "text": [
      "X_train: (8192, 16)\n",
      "Accuracy: 0.40625\n"
     ]
    }
   ],
   "source": [
    "# train with original data\n",
    "X_train, X_test, y_train, y_test = train_test_split(image, label, test_size=0.2, random_state=42)\n",
    "\n",
    "print(f\"X_train: {X_train.shape}\")\n",
    "\n",
    "# train svm\n",
    "svm = SVC()\n",
    "svm.fit(X_train, y_train)\n",
    "\n",
    "# predict\n",
    "y_pred = svm.predict(X_test)\n",
    "\n",
    "# evaluate\n",
    "print(f\"Accuracy: {accuracy_score(y_test, y_pred)}\")"
   ]
  },
  {
   "cell_type": "markdown",
   "metadata": {},
   "source": [
    "## IBM Simulator"
   ]
  },
  {
   "cell_type": "code",
   "execution_count": 30,
   "metadata": {},
   "outputs": [],
   "source": [
    "from qiskit_optimization.converters import QuadraticProgramToQubo\n",
    "\n",
    "qubo = create_problem(alpha=0.5, num_features=FEATURE_SIZE)\n",
    "qubo = QuadraticProgramToQubo().convert(qubo)"
   ]
  },
  {
   "cell_type": "code",
   "execution_count": 31,
   "metadata": {},
   "outputs": [],
   "source": [
    "# General imports\n",
    "import numpy as np\n",
    "\n",
    "# Pre-defined ansatz circuit, operator class and visualization tools\n",
    "from qiskit.circuit.library import QAOAAnsatz\n",
    "from qiskit.quantum_info import SparsePauliOp\n",
    "from qiskit.visualization import plot_distribution\n",
    "\n",
    "# Qiskit Runtime\n",
    "from qiskit_ibm_runtime import QiskitRuntimeService\n",
    "from qiskit_ibm_runtime import Estimator, Sampler, Session, Options\n",
    "\n",
    "# SciPy minimizer routine\n",
    "from scipy.optimize import minimize"
   ]
  },
  {
   "cell_type": "code",
   "execution_count": 32,
   "metadata": {},
   "outputs": [],
   "source": [
    "service = QiskitRuntimeService(channel='ibm_cloud')"
   ]
  },
  {
   "cell_type": "code",
   "execution_count": 33,
   "metadata": {},
   "outputs": [],
   "source": [
    "backend=service.backend(name='ibmq_qasm_simulator')"
   ]
  },
  {
   "cell_type": "code",
   "execution_count": 34,
   "metadata": {},
   "outputs": [],
   "source": [
    "hamiltonian = qubo.to_ising()[0]"
   ]
  },
  {
   "cell_type": "code",
   "execution_count": 35,
   "metadata": {},
   "outputs": [],
   "source": [
    "ansatz = QAOAAnsatz(hamiltonian, reps=2)"
   ]
  },
  {
   "cell_type": "code",
   "execution_count": 36,
   "metadata": {},
   "outputs": [],
   "source": [
    "def cost_func(params, ansatz, hamiltonian, estimator):\n",
    "    \"\"\"Return estimate of energy from estimator\n",
    "\n",
    "    Parameters:\n",
    "        params (ndarray): Array of ansatz parameters\n",
    "        ansatz (QuantumCircuit): Parameterized ansatz circuit\n",
    "        hamiltonian (SparsePauliOp): Operator representation of Hamiltonian\n",
    "        estimator (Estimator): Estimator primitive instance\n",
    "\n",
    "    Returns:\n",
    "        float: Energy estimate\n",
    "    \"\"\"\n",
    "    cost = estimator.run(ansatz, hamiltonian, parameter_values=params).result().values[0]\n",
    "    return cost"
   ]
  },
  {
   "cell_type": "code",
   "execution_count": 37,
   "metadata": {},
   "outputs": [],
   "source": [
    "options = Options()\n",
    "options.execution.shots = 10000\n",
    "\n",
    "session = Session(backend=backend)\n",
    "\n",
    "estimator = Estimator(session=session, backend=backend, options=options)\n",
    "sampler = Sampler(session=session, backend=backend, options=options)"
   ]
  },
  {
   "cell_type": "code",
   "execution_count": 38,
   "metadata": {},
   "outputs": [],
   "source": [
    "# initial parameters\n",
    "x0 = np.zeros(ansatz.num_parameters)"
   ]
  },
  {
   "cell_type": "code",
   "execution_count": 39,
   "metadata": {},
   "outputs": [],
   "source": [
    "res = minimize(\n",
    "    cost_func,\n",
    "    x0,\n",
    "    args=(ansatz, hamiltonian, estimator),\n",
    "    method='COBYLA',\n",
    ")"
   ]
  },
  {
   "cell_type": "code",
   "execution_count": 40,
   "metadata": {},
   "outputs": [
    {
     "data": {
      "text/plain": [
       " message: Optimization terminated successfully.\n",
       " success: True\n",
       "  status: 1\n",
       "     fun: -5.652439114509998\n",
       "       x: [-1.057e-01  3.148e-01 -1.494e-01  2.446e-02]\n",
       "    nfev: 53\n",
       "   maxcv: 0.0"
      ]
     },
     "execution_count": 40,
     "metadata": {},
     "output_type": "execute_result"
    }
   ],
   "source": [
    "res"
   ]
  },
  {
   "cell_type": "code",
   "execution_count": 41,
   "metadata": {},
   "outputs": [],
   "source": [
    "qc = ansatz.assign_parameters(res.x)"
   ]
  },
  {
   "cell_type": "code",
   "execution_count": 42,
   "metadata": {},
   "outputs": [],
   "source": [
    "qc.measure_all()"
   ]
  },
  {
   "cell_type": "code",
   "execution_count": 43,
   "metadata": {},
   "outputs": [],
   "source": [
    "samp_dist = sampler.run(qc).result().quasi_dists[0]"
   ]
  },
  {
   "cell_type": "code",
   "execution_count": 44,
   "metadata": {},
   "outputs": [
    {
     "data": {
      "text/plain": [
       "SamplerResult(quasi_dists=[{21037: 0.0001, 32771: 0.0001, 3765: 0.0001, 30771: 0.0001, 11625: 0.0001, 60080: 0.0001, 30246: 0.0001, 14044: 0.0001, 23150: 0.0001, 54407: 0.0001, 58288: 0.0001, 6581: 0.0001, 45404: 0.0001, 10710: 0.0001, 29443: 0.0001, 50012: 0.0001, 46359: 0.0001, 25277: 0.0001, 23175: 0.0001, 3917: 0.0001, 15017: 0.0001, 13430: 0.0001, 60810: 0.0001, 13234: 0.0001, 61096: 0.0001, 4683: 0.0001, 54628: 0.0001, 29127: 0.0001, 36804: 0.0001, 37779: 0.0001, 8591: 0.0001, 7657: 0.0001, 1878: 0.0001, 31001: 0.0001, 42648: 0.0001, 37966: 0.0001, 18909: 0.0001, 54608: 0.0001, 33769: 0.0001, 22504: 0.0002, 37609: 0.0001, 1183: 0.0001, 49945: 0.0001, 14114: 0.0001, 1743: 0.0001, 41051: 0.0001, 49387: 0.0001, 52456: 0.0001, 47389: 0.0001, 28060: 0.0001, 5477: 0.0001, 26254: 0.0001, 32129: 0.0001, 24795: 0.0001, 22328: 0.0001, 41433: 0.0001, 9701: 0.0001, 32895: 0.0001, 27809: 0.0001, 59420: 0.0001, 43618: 0.0001, 22586: 0.0001, 59715: 0.0002, 53819: 0.0001, 35228: 0.0001, 42481: 0.0001, 57879: 0.0001, 52301: 0.0001, 21685: 0.0001, 17142: 0.0001, 14399: 0.0001, 44218: 0.0001, 12138: 0.0001, 40097: 0.0001, 50128: 0.0001, 38516: 0.0001, 10684: 0.0001, 23094: 0.0001, 57644: 0.0001, 18100: 0.0001, 12170: 0.0001, 36698: 0.0001, 23284: 0.0001, 23882: 0.0001, 28764: 0.0001, 37511: 0.0001, 62850: 0.0001, 38279: 0.0001, 19340: 0.0001, 28428: 0.0001, 48332: 0.0001, 14801: 0.0001, 6829: 0.0001, 4603: 0.0001, 61188: 0.0001, 49829: 0.0001, 37683: 0.0001, 7778: 0.0001, 62178: 0.0001, 64352: 0.0001, 40772: 0.0001, 63892: 0.0001, 62103: 0.0001, 4021: 0.0001, 57699: 0.0001, 18199: 0.0001, 11162: 0.0001, 19681: 0.0001, 18115: 0.0001, 54813: 0.0001, 53628: 0.0001, 11102: 0.0001, 3258: 0.0001, 36986: 0.0001, 50846: 0.0001, 24893: 0.0001, 45895: 0.0001, 27214: 0.0001, 6717: 0.0001, 47590: 0.0001, 60185: 0.0001, 6524: 0.0001, 19733: 0.0001, 37182: 0.0001, 21655: 0.0001, 19892: 0.0001, 49995: 0.0001, 53486: 0.0001, 51518: 0.0001, 32545: 0.0001, 42712: 0.0001, 25436: 0.0001, 37109: 0.0001, 11860: 0.0001, 7928: 0.0001, 23703: 0.0001, 59265: 0.0001, 11035: 0.0001, 45844: 0.0001, 41564: 0.0001, 64033: 0.0001, 62493: 0.0001, 29844: 0.0001, 48368: 0.0001, 57962: 0.0001, 30018: 0.0001, 43488: 0.0001, 7953: 0.0001, 58524: 0.0001, 22374: 0.0001, 58913: 0.0001, 37785: 0.0001, 17857: 0.0001, 25497: 0.0001, 23980: 0.0001, 38059: 0.0001, 45964: 0.0001, 23000: 0.0001, 8399: 0.0001, 58691: 0.0001, 35523: 0.0001, 46694: 0.0001, 40116: 0.0001, 45767: 0.0001, 25423: 0.0001, 30775: 0.0001, 58674: 0.0001, 63530: 0.0001, 30002: 0.0001, 35195: 0.0001, 5595: 0.0001, 18266: 0.0001, 54044: 0.0001, 14445: 0.0001, 12843: 0.0001, 29932: 0.0001, 64530: 0.0001, 19815: 0.0001, 21396: 0.0001, 45961: 0.0001, 60228: 0.0001, 34412: 0.0001, 41718: 0.0001, 11572: 0.0001, 2034: 0.0001, 32003: 0.0001, 40493: 0.0001, 21443: 0.0001, 28909: 0.0001, 22649: 0.0001, 5614: 0.0001, 29197: 0.0001, 15439: 0.0001, 51974: 0.0001, 41402: 0.0001, 26608: 0.0001, 48179: 0.0001, 43418: 0.0001, 974: 0.0001, 21405: 0.0001, 61120: 0.0001, 12755: 0.0001, 15316: 0.0001, 39019: 0.0001, 27406: 0.0001, 47778: 0.0001, 62732: 0.0001, 33613: 0.0001, 7771: 0.0001, 13221: 0.0001, 26986: 0.0001, 28434: 0.0001, 20875: 0.0001, 62584: 0.0001, 51855: 0.0001, 62564: 0.0001, 56108: 0.0001, 38982: 0.0001, 27858: 0.0001, 58125: 0.0001, 57899: 0.0001, 51617: 0.0001, 34759: 0.0001, 8367: 0.0001, 42794: 0.0001, 6000: 0.0001, 5789: 0.0001, 23884: 0.0001, 10589: 0.0001, 45411: 0.0001, 28726: 0.0002, 29966: 0.0001, 36186: 0.0001, 53670: 0.0001, 36084: 0.0001, 19956: 0.0001, 21047: 0.0001, 11728: 0.0001, 53740: 0.0001, 31952: 0.0001, 30248: 0.0001, 39896: 0.0001, 54000: 0.0001, 50029: 0.0001, 15705: 0.0001, 17243: 0.0001, 3198: 0.0001, 43238: 0.0002, 58700: 0.0001, 4785: 0.0001, 57740: 0.0001, 57571: 0.0001, 38217: 0.0001, 2906: 0.0001, 43294: 0.0001, 40485: 0.0001, 29133: 0.0001, 49501: 0.0001, 42724: 0.0001, 10041: 0.0001, 8943: 0.0001, 2541: 0.0001, 11559: 0.0001, 25446: 0.0001, 28361: 0.0001, 31171: 0.0001, 27506: 0.0001, 21052: 0.0001, 52376: 0.0001, 15683: 0.0001, 9155: 0.0001, 11053: 0.0001, 43414: 0.0001, 14124: 0.0001, 4841: 0.0001, 20233: 0.0001, 6899: 0.0001, 39523: 0.0001, 9708: 0.0001, 2991: 0.0001, 61038: 0.0001, 494: 0.0001, 16703: 0.0001, 28773: 0.0001, 22287: 0.0001, 54558: 0.0001, 42812: 0.0001, 13073: 0.0001, 19142: 0.0001, 47288: 0.0001, 7843: 0.0001, 38556: 0.0001, 3050: 0.0001, 24244: 0.0001, 11421: 0.0001, 30088: 0.0001, 35887: 0.0001, 14905: 0.0001, 11081: 0.0001, 27659: 0.0002, 36075: 0.0001, 33691: 0.0001, 11597: 0.0001, 46857: 0.0001, 28074: 0.0001, 33689: 0.0001, 61320: 0.0001, 23460: 0.0001, 47717: 0.0001, 22637: 0.0001, 25179: 0.0001, 27553: 0.0001, 60483: 0.0001, 32390: 0.0001, 36534: 0.0001, 25292: 0.0001, 54088: 0.0001, 27410: 0.0001, 60049: 0.0001, 29827: 0.0001, 39022: 0.0001, 50808: 0.0001, 31816: 0.0001, 10073: 0.0001, 5843: 0.0001, 36374: 0.0001, 42705: 0.0001, 44045: 0.0001, 64007: 0.0001, 30828: 0.0001, 49308: 0.0001, 64020: 0.0001, 29786: 0.0001, 21179: 0.0001, 46985: 0.0001, 46469: 0.0001, 31896: 0.0001, 42825: 0.0001, 25017: 0.0001, 12016: 0.0001, 19305: 0.0001, 4727: 0.0001, 14557: 0.0001, 27541: 0.0001, 45214: 0.0001, 9084: 0.0001, 35902: 0.0001, 34744: 0.0001, 52017: 0.0002, 39585: 0.0001, 56330: 0.0001, 18743: 0.0001, 31426: 0.0001, 7058: 0.0001, 22932: 0.0001, 35535: 0.0001, 13961: 0.0001, 40487: 0.0001, 29798: 0.0001, 59533: 0.0001, 47190: 0.0001, 28321: 0.0001, 20253: 0.0001, 37810: 0.0001, 59640: 0.0001, 38290: 0.0001, 10620: 0.0001, 40602: 0.0001, 3167: 0.0001, 58020: 0.0001, 39501: 0.0001, 59036: 0.0001, 42547: 0.0001, 13628: 0.0001, 25289: 0.0001, 9549: 0.0001, 29238: 0.0001, 11324: 0.0001, 45719: 0.0001, 3004: 0.0001, 21621: 0.0001, 41587: 0.0001, 48225: 0.0001, 25570: 0.0001, 38233: 0.0001, 44077: 0.0001, 54421: 0.0001, 31002: 0.0001, 20662: 0.0001, 41191: 0.0001, 1819: 0.0001, 23866: 0.0001, 19365: 0.0001, 53833: 0.0001, 35762: 0.0001, 39966: 0.0002, 26185: 0.0001, 21916: 0.0001, 31331: 0.0001, 16162: 0.0001, 53152: 0.0001, 11107: 0.0001, 63120: 0.0001, 29606: 0.0001, 32160: 0.0001, 60290: 0.0001, 44087: 0.0001, 43291: 0.0001, 46125: 0.0001, 5229: 0.0001, 2997: 0.0001, 19615: 0.0001, 2895: 0.0001, 15133: 0.0001, 27618: 0.0001, 17843: 0.0001, 24129: 0.0001, 36990: 0.0001, 50071: 0.0001, 13008: 0.0001, 39348: 0.0001, 6814: 0.0001, 15627: 0.0001, 39534: 0.0001, 40455: 0.0001, 31029: 0.0001, 9571: 0.0001, 28905: 0.0001, 1019: 0.0001, 30781: 0.0001, 10744: 0.0001, 10483: 0.0001, 42106: 0.0001, 21360: 0.0001, 56769: 0.0001, 31278: 0.0001, 15073: 0.0001, 34733: 0.0001, 48778: 0.0001, 42920: 0.0001, 39751: 0.0001, 14825: 0.0001, 19595: 0.0001, 26437: 0.0001, 16815: 0.0001, 2367: 0.0001, 29587: 0.0001, 7827: 0.0001, 48236: 0.0001, 51021: 0.0001, 62533: 0.0001, 63532: 0.0001, 25415: 0.0001, 41841: 0.0001, 35438: 0.0001, 20322: 0.0002, 52834: 0.0001, 10014: 0.0001, 9083: 0.0001, 15027: 0.0001, 53453: 0.0001, 41209: 0.0001, 26456: 0.0001, 49770: 0.0001, 60170: 0.0001, 50371: 0.0001, 23400: 0.0001, 9210: 0.0002, 25305: 0.0001, 31242: 0.0001, 14670: 0.0001, 18771: 0.0001, 43459: 0.0001, 23800: 0.0001, 8002: 0.0001, 12397: 0.0001, 50223: 0.0001, 59139: 0.0001, 20697: 0.0001, 29241: 0.0001, 56456: 0.0001, 37283: 0.0001, 51395: 0.0001, 52993: 0.0001, 54548: 0.0001, 61475: 0.0001, 44153: 0.0001, 18885: 0.0001, 35690: 0.0001, 36525: 0.0001, 41133: 0.0001, 57576: 0.0002, 42676: 0.0001, 46110: 0.0002, 52673: 0.0001, 22132: 0.0001, 42542: 0.0001, 53905: 0.0001, 45810: 0.0001, 12410: 0.0001, 47810: 0.0001, 26810: 0.0001, 39113: 0.0001, 14460: 0.0001, 33778: 0.0001, 52882: 0.0001, 35119: 0.0001, 28067: 0.0001, 7223: 0.0001, 23777: 0.0002, 13977: 0.0001, 32522: 0.0001, 26198: 0.0001, 1989: 0.0001, 44992: 0.0001, 11626: 0.0001, 23063: 0.0001, 9929: 0.0001, 45537: 0.0001, 30256: 0.0001, 59626: 0.0001, 12082: 0.0001, 44309: 0.0001, 22682: 0.0001, 56609: 0.0001, 5362: 0.0002, 22769: 0.0001, 59779: 0.0001, 8065: 0.0001, 32608: 0.0001, 35215: 0.0001, 59516: 0.0001, 12132: 0.0002, 37684: 0.0001, 43909: 0.0001, 4839: 0.0001, 55016: 0.0001, 41781: 0.0001, 49620: 0.0001, 45835: 0.0001, 29725: 0.0001, 22030: 0.0001, 24067: 0.0001, 42557: 0.0001, 63683: 0.0001, 46532: 0.0001, 11186: 0.0001, 30368: 0.0002, 39668: 0.0001, 29123: 0.0001, 36506: 0.0001, 15961: 0.0001, 46754: 0.0001, 48204: 0.0001, 6558: 0.0001, 57557: 0.0001, 58598: 0.0001, 60964: 0.0001, 16172: 0.0001, 25390: 0.0001, 43410: 0.0001, 63184: 0.0001, 19614: 0.0001, 30763: 0.0001, 60500: 0.0001, 2298: 0.0001, 34197: 0.0001, 49395: 0.0001, 46091: 0.0001, 47474: 0.0001, 38642: 0.0001, 22893: 0.0001, 50518: 0.0001, 65168: 0.0001, 47259: 0.0001, 30036: 0.0001, 46390: 0.0001, 25291: 0.0001, 41461: 0.0001, 39754: 0.0001, 43356: 0.0001, 20970: 0.0002, 57383: 0.0001, 50804: 0.0001, 26827: 0.0001, 43194: 0.0001, 3755: 0.0001, 47204: 0.0001, 39003: 0.0001, 57743: 0.0001, 18635: 0.0001, 18587: 0.0001, 15301: 0.0001, 6822: 0.0001, 24894: 0.0001, 7777: 0.0001, 18906: 0.0001, 2804: 0.0001, 8083: 0.0001, 33671: 0.0001, 46531: 0.0001, 54938: 0.0001, 38093: 0.0001, 7322: 0.0001, 58828: 0.0001, 49337: 0.0001, 29081: 0.0001, 25678: 0.0001, 11116: 0.0001, 11535: 0.0001, 37735: 0.0001, 14889: 0.0001, 38196: 0.0001, 13398: 0.0001, 7664: 0.0001, 30925: 0.0001, 28173: 0.0001, 13483: 0.0001, 29496: 0.0001, 48163: 0.0001, 29940: 0.0001, 51562: 0.0001, 26452: 0.0001, 39446: 0.0001, 42165: 0.0001, 8507: 0.0001, 8081: 0.0001, 34015: 0.0001, 18062: 0.0001, 54948: 0.0001, 13870: 0.0001, 507: 0.0002, 23416: 0.0001, 57976: 0.0002, 64148: 0.0001, 59659: 0.0001, 18278: 0.0001, 19262: 0.0002, 31313: 0.0001, 4068: 0.0001, 33654: 0.0001, 2682: 0.0001, 7536: 0.0001, 45676: 0.0001, 31247: 0.0001, 12921: 0.0001, 12240: 0.0001, 34135: 0.0001, 31352: 0.0001, 40332: 0.0001, 45432: 0.0001, 1788: 0.0001, 19299: 0.0001, 26593: 0.0001, 53680: 0.0001, 14221: 0.0001, 55648: 0.0001, 46234: 0.0001, 28990: 0.0001, 10944: 0.0001, 58526: 0.0001, 50906: 0.0001, 59332: 0.0001, 49463: 0.0001, 42465: 0.0001, 21566: 0.0001, 25308: 0.0001, 58757: 0.0001, 13522: 0.0001, 28017: 0.0001, 27675: 0.0001, 21419: 0.0001, 39377: 0.0001, 46211: 0.0001, 41866: 0.0001, 5310: 0.0001, 5406: 0.0001, 54085: 0.0001, 18373: 0.0001, 47816: 0.0001, 19100: 0.0001, 12995: 0.0001, 59588: 0.0001, 35686: 0.0001, 13766: 0.0002, 19662: 0.0001, 39451: 0.0001, 12710: 0.0001, 9194: 0.0001, 25462: 0.0001, 44336: 0.0001, 58539: 0.0001, 38577: 0.0001, 11561: 0.0001, 41958: 0.0001, 47315: 0.0001, 30945: 0.0001, 44428: 0.0001, 9965: 0.0001, 37703: 0.0001, 58701: 0.0001, 54572: 0.0001, 43714: 0.0001, 48728: 0.0001, 2007: 0.0001, 27411: 0.0001, 38573: 0.0001, 36201: 0.0001, 58597: 0.0001, 58014: 0.0001, 47181: 0.0001, 31282: 0.0001, 29876: 0.0001, 9174: 0.0001, 12951: 0.0001, 20138: 0.0001, 19062: 0.0001, 37721: 0.0001, 29255: 0.0001, 41434: 0.0001, 45379: 0.0001, 4327: 0.0001, 36377: 0.0001, 40275: 0.0001, 51014: 0.0001, 51727: 0.0001, 57500: 0.0001, 30259: 0.0001, 42917: 0.0001, 40120: 0.0001, 43628: 0.0001, 10666: 0.0001, 5821: 0.0001, 35132: 0.0001, 34359: 0.0001, 14383: 0.0001, 7405: 0.0001, 15417: 0.0001, 51404: 0.0001, 64581: 0.0001, 23737: 0.0001, 7089: 0.0001, 52564: 0.0001, 45227: 0.0001, 42883: 0.0001, 19395: 0.0001, 23818: 0.0001, 28185: 0.0001, 61625: 0.0001, 8937: 0.0001, 47496: 0.0001, 45416: 0.0001, 22857: 0.0001, 45660: 0.0001, 19111: 0.0001, 31620: 0.0001, 59843: 0.0001, 28340: 0.0001, 3189: 0.0001, 54722: 0.0001, 8022: 0.0001, 2647: 0.0001, 49979: 0.0001, 1727: 0.0001, 61920: 0.0001, 22126: 0.0001, 58415: 0.0001, 54854: 0.0001, 20280: 0.0001, 41867: 0.0001, 21207: 0.0001, 13869: 0.0001, 29882: 0.0001, 38306: 0.0001, 23838: 0.0001, 58982: 0.0001, 38027: 0.0001, 46474: 0.0001, 37302: 0.0001, 50149: 0.0001, 50540: 0.0001, 30533: 0.0001, 13289: 0.0001, 27841: 0.0001, 17239: 0.0001, 45230: 0.0001, 39609: 0.0001, 28291: 0.0001, 19060: 0.0001, 65090: 0.0001, 7641: 0.0001, 8099: 0.0001, 15810: 0.0001, 23008: 0.0001, 25458: 0.0001, 7800: 0.0001, 33917: 0.0001, 50703: 0.0002, 55347: 0.0001, 30252: 0.0001, 42890: 0.0001, 26442: 0.0001, 36529: 0.0001, 56490: 0.0001, 41908: 0.0001, 20436: 0.0002, 29976: 0.0001, 4537: 0.0001, 51656: 0.0001, 7651: 0.0001, 35568: 0.0001, 25829: 0.0001, 43673: 0.0001, 26918: 0.0001, 49822: 0.0002, 64080: 0.0002, 5822: 0.0001, 62038: 0.0001, 47654: 0.0001, 24145: 0.0001, 62627: 0.0001, 15405: 0.0001, 46930: 0.0001, 35612: 0.0001, 44311: 0.0001, 17503: 0.0001, 45921: 0.0001, 2809: 0.0001, 11632: 0.0001, 34294: 0.0001, 54640: 0.0001, 50008: 0.0001, 21133: 0.0001, 40384: 0.0001, 26963: 0.0001, 56012: 0.0001, 12043: 0.0001, 47938: 0.0001, 30214: 0.0001, 40146: 0.0001, 14947: 0.0001, 33206: 0.0001, 37497: 0.0001, 9502: 0.0001, 30228: 0.0001, 7517: 0.0001, 50869: 0.0001, 14517: 0.0002, 49842: 0.0002, 2507: 0.0001, 18827: 0.0001, 36816: 0.0001, 53721: 0.0001, 64028: 0.0001, 46123: 0.0001, 39437: 0.0001, 53799: 0.0001, 10972: 0.0001, 14757: 0.0001, 10606: 0.0001, 37547: 0.0001, 53323: 0.0001, 58906: 0.0001, 15329: 0.0001, 3973: 0.0001, 3956: 0.0001, 4787: 0.0001, 10611: 0.0001, 57965: 0.0001, 37975: 0.0001, 31921: 0.0001, 36442: 0.0001, 43293: 0.0001, 983: 0.0002, 51108: 0.0002, 29368: 0.0001, 50236: 0.0001, 56412: 0.0001, 30873: 0.0001, 41818: 0.0001, 22341: 0.0001, 53916: 0.0001, 48354: 0.0001, 48716: 0.0001, 60530: 0.0001, 48677: 0.0001, 36035: 0.0001, 58414: 0.0001, 21926: 0.0002, 51482: 0.0001, 59713: 0.0001, 34531: 0.0001, 37997: 0.0001, 50065: 0.0001, 53655: 0.0001, 22291: 0.0001, 9534: 0.0001, 1526: 0.0001, 40357: 0.0001, 24361: 0.0001, 43038: 0.0001, 27448: 0.0001, 22068: 0.0001, 21266: 0.0001, 45591: 0.0001, 12623: 0.0001, 41139: 0.0001, 27772: 0.0001, 19403: 0.0001, 19353: 0.0001, 40771: 0.0001, 39729: 0.0001, 63058: 0.0001, 56080: 0.0001, 50359: 0.0001, 48390: 0.0001, 38634: 0.0001, 25328: 0.0001, 22294: 0.0001, 41531: 0.0001, 33403: 0.0001, 63368: 0.0001, 59555: 0.0001, 63761: 0.0001, 38501: 0.0001, 17755: 0.0001, 48524: 0.0001, 19790: 0.0001, 39243: 0.0001, 48484: 0.0001, 19161: 0.0001, 2780: 0.0001, 10875: 0.0001, 34634: 0.0001, 47173: 0.0001, 51909: 0.0003, 61619: 0.0001, 31626: 0.0001, 10473: 0.0001, 60439: 0.0001, 56076: 0.0001, 59558: 0.0001, 60547: 0.0001, 42259: 0.0001, 23627: 0.0001, 40626: 0.0001, 47268: 0.0001, 59768: 0.0001, 14136: 0.0001, 52129: 0.0002, 47130: 0.0001, 56065: 0.0001, 46470: 0.0001, 39153: 0.0001, 26073: 0.0001, 26055: 0.0001, 33243: 0.0001, 37111: 0.0001, 56114: 0.0002, 51637: 0.0001, 47968: 0.0002, 8607: 0.0001, 14381: 0.0001, 61622: 0.0001, 23122: 0.0001, 1359: 0.0001, 18603: 0.0001, 22607: 0.0001, 49270: 0.0001, 13767: 0.0001, 30805: 0.0001, 37789: 0.0001, 35278: 0.0001, 5578: 0.0001, 42302: 0.0001, 20917: 0.0001, 885: 0.0001, 58181: 0.0001, 47757: 0.0001, 3806: 0.0001, 38006: 0.0001, 21173: 0.0001, 37737: 0.0001, 11500: 0.0001, 17898: 0.0002, 52250: 0.0001, 14964: 0.0001, 25629: 0.0001, 58013: 0.0001, 20231: 0.0001, 42328: 0.0001, 24229: 0.0001, 30478: 0.0001, 34131: 0.0001, 9885: 0.0001, 1969: 0.0001, 60584: 0.0001, 28784: 0.0001, 47689: 0.0001, 55059: 0.0001, 14941: 0.0001, 14989: 0.0001, 46387: 0.0001, 52558: 0.0001, 42141: 0.0001, 7876: 0.0001, 43541: 0.0001, 13146: 0.0001, 46151: 0.0001, 38339: 0.0001, 58832: 0.0001, 43496: 0.0001, 58344: 0.0001, 46424: 0.0001, 43134: 0.0001, 3646: 0.0001, 7338: 0.0001, 22747: 0.0001, 22481: 0.0001, 59041: 0.0001, 30288: 0.0002, 15268: 0.0001, 51526: 0.0001, 64648: 0.0001, 61857: 0.0001, 14331: 0.0001, 61752: 0.0001, 38550: 0.0001, 32264: 0.0001, 37645: 0.0001, 50574: 0.0001, 36133: 0.0001, 32648: 0.0001, 36693: 0.0001, 7626: 0.0001, 62020: 0.0001, 38131: 0.0001, 21166: 0.0001, 45465: 0.0001, 49277: 0.0001, 45702: 0.0001, 45532: 0.0001, 59683: 0.0001, 41305: 0.0001, 33615: 0.0001, 5429: 0.0001, 36585: 0.0001, 20693: 0.0001, 13227: 0.0001, 39762: 0.0001, 21287: 0.0001, 50509: 0.0001, 44814: 0.0001, 36155: 0.0001, 7878: 0.0001, 26228: 0.0001, 61590: 0.0001, 17852: 0.0001, 43696: 0.0001, 39764: 0.0001, 40131: 0.0001, 2847: 0.0001, 29810: 0.0001, 51602: 0.0001, 12501: 0.0001, 38324: 0.0001, 55720: 0.0001, 50488: 0.0001, 30309: 0.0001, 35367: 0.0001, 6112: 0.0001, 22837: 0.0001, 42107: 0.0001, 21411: 0.0001, 35444: 0.0001, 40100: 0.0001, 4601: 0.0001, 19080: 0.0001, 42675: 0.0001, 63392: 0.0001, 25182: 0.0002, 6611: 0.0001, 18922: 0.0001, 25139: 0.0001, 38840: 0.0001, 13670: 0.0001, 44625: 0.0001, 32393: 0.0001, 55446: 0.0001, 44554: 0.0001, 57684: 0.0001, 1695: 0.0001, 60466: 0.0001, 58100: 0.0001, 40769: 0.0001, 32270: 0.0001, 46220: 0.0001, 55736: 0.0001, 17207: 0.0001, 49247: 0.0001, 17342: 0.0001, 51064: 0.0001, 55650: 0.0001, 23242: 0.0001, 38369: 0.0001, 21858: 0.0001, 7574: 0.0001, 23581: 0.0001, 15461: 0.0001, 32957: 0.0002, 34941: 0.0001, 44368: 0.0001, 25556: 0.0001, 36455: 0.0001, 7962: 0.0001, 23131: 0.0001, 4943: 0.0001, 4070: 0.0001, 17321: 0.0001, 14068: 0.0001, 60177: 0.0001, 13561: 0.0001, 46095: 0.0001, 40166: 0.0001, 55405: 0.0001, 39462: 0.0001, 19211: 0.0001, 29199: 0.0001, 36682: 0.0001, 51770: 0.0001, 23690: 0.0001, 45936: 0.0001, 18083: 0.0001, 1499: 0.0001, 37198: 0.0001, 28360: 0.0001, 44002: 0.0001, 4571: 0.0001, 47209: 0.0002, 27074: 0.0001, 56099: 0.0001, 26420: 0.0001, 16009: 0.0001, 6967: 0.0001, 45969: 0.0001, 11721: 0.0001, 42894: 0.0001, 45765: 0.0001, 21475: 0.0001, 60808: 0.0001, 22770: 0.0001, 64833: 0.0001, 10104: 0.0001, 9359: 0.0001, 25324: 0.0001, 29305: 0.0002, 48006: 0.0001, 12990: 0.0001, 33131: 0.0001, 31318: 0.0001, 33982: 0.0001, 3375: 0.0001, 25693: 0.0001, 42067: 0.0001, 46099: 0.0001, 49578: 0.0001, 14694: 0.0001, 36658: 0.0001, 47273: 0.0001, 27346: 0.0001, 28874: 0.0001, 7857: 0.0001, 22906: 0.0001, 26844: 0.0001, 23829: 0.0001, 7890: 0.0001, 34522: 0.0001, 26028: 0.0001, 61090: 0.0001, 55380: 0.0001, 25897: 0.0001, 21145: 0.0001, 40326: 0.0001, 59074: 0.0001, 9838: 0.0001, 23955: 0.0001, 3019: 0.0001, 11117: 0.0001, 46721: 0.0001, 6735: 0.0002, 5534: 0.0001, 35214: 0.0001, 28750: 0.0001, 24000: 0.0001, 23603: 0.0001, 15630: 0.0001, 59628: 0.0001, 17999: 0.0001, 25553: 0.0002, 35603: 0.0001, 60442: 0.0001, 40562: 0.0001, 34635: 0.0001, 52557: 0.0001, 55498: 0.0001, 63912: 0.0001, 25298: 0.0002, 5041: 0.0001, 33083: 0.0001, 18938: 0.0001, 8810: 0.0001, 39694: 0.0001, 5453: 0.0001, 45556: 0.0001, 44816: 0.0001, 29923: 0.0001, 29805: 0.0001, 29352: 0.0001, 39254: 0.0001, 6859: 0.0001, 9461: 0.0001, 62117: 0.0001, 36550: 0.0001, 27878: 0.0001, 12629: 0.0001, 39126: 0.0002, 24115: 0.0001, 51820: 0.0001, 17743: 0.0001, 54055: 0.0001, 37603: 0.0001, 51783: 0.0001, 24926: 0.0002, 48165: 0.0001, 37491: 0.0001, 30268: 0.0001, 49423: 0.0001, 20117: 0.0001, 37771: 0.0001, 19185: 0.0001, 7414: 0.0001, 24177: 0.0001, 41567: 0.0001, 42595: 0.0001, 14874: 0.0001, 48412: 0.0001, 61860: 0.0001, 34785: 0.0002, 10845: 0.0002, 38512: 0.0001, 42710: 0.0001, 2825: 0.0001, 35151: 0.0001, 11745: 0.0001, 23889: 0.0001, 39530: 0.0001, 30490: 0.0001, 47370: 0.0001, 10551: 0.0001, 2207: 0.0001, 42449: 0.0001, 46914: 0.0001, 58149: 0.0001, 21452: 0.0001, 2543: 0.0001, 55327: 0.0001, 24206: 0.0001, 37691: 0.0001, 31370: 0.0001, 21786: 0.0001, 52556: 0.0001, 4020: 0.0001, 25061: 0.0001, 51684: 0.0001, 46378: 0.0001, 25269: 0.0001, 42190: 0.0001, 24990: 0.0002, 62021: 0.0001, 18392: 0.0001, 46505: 0.0001, 48358: 0.0001, 48209: 0.0001, 35423: 0.0001, 20670: 0.0001, 46380: 0.0001, 58276: 0.0001, 20978: 0.0001, 5463: 0.0001, 46690: 0.0001, 14108: 0.0001, 36630: 0.0001, 33022: 0.0001, 15586: 0.0001, 59112: 0.0001, 46670: 0.0001, 38358: 0.0001, 21223: 0.0001, 21829: 0.0001, 43856: 0.0001, 15502: 0.0001, 31062: 0.0001, 58992: 0.0001, 4965: 0.0001, 47762: 0.0001, 57913: 0.0001, 4477: 0.0001, 41592: 0.0001, 45197: 0.0001, 23203: 0.0001, 48961: 0.0001, 21351: 0.0001, 23134: 0.0001, 33263: 0.0001, 53546: 0.0001, 35243: 0.0001, 42475: 0.0001, 30985: 0.0001, 20811: 0.0001, 59842: 0.0001, 38644: 0.0001, 28230: 0.0002, 19433: 0.0002, 7707: 0.0001, 45662: 0.0001, 55184: 0.0002, 50462: 0.0001, 58588: 0.0001, 11694: 0.0001, 46052: 0.0001, 58058: 0.0001, 27722: 0.0001, 64100: 0.0001, 1459: 0.0001, 19243: 0.0001, 21277: 0.0001, 42650: 0.0001, 24272: 0.0001, 56872: 0.0001, 3548: 0.0001, 1461: 0.0001, 63525: 0.0002, 47793: 0.0001, 28099: 0.0001, 25510: 0.0003, 51116: 0.0001, 41205: 0.0003, 20056: 0.0001, 52650: 0.0001, 32544: 0.0001, 61965: 0.0002, 55429: 0.0001, 45099: 0.0001, 56073: 0.0001, 11139: 0.0001, 26910: 0.0001, 38376: 0.0001, 59700: 0.0001, 58904: 0.0001, 29802: 0.0001, 25833: 0.0001, 38563: 0.0003, 17383: 0.0001, 1963: 0.0002, 46658: 0.0001, 54946: 0.0001, 18599: 0.0001, 38087: 0.0001, 49367: 0.0001, 26894: 0.0001, 38768: 0.0001, 14638: 0.0001, 28751: 0.0002, 27337: 0.0001, 46648: 0.0001, 45725: 0.0001, 59232: 0.0001, 55892: 0.0001, 28999: 0.0001, 14635: 0.0001, 53976: 0.0001, 43193: 0.0001, 6955: 0.0002, 36423: 0.0001, 21807: 0.0001, 54851: 0.0001, 14704: 0.0001, 48344: 0.0001, 43237: 0.0001, 42646: 0.0001, 5335: 0.0001, 52741: 0.0001, 58452: 0.0002, 12630: 0.0001, 36019: 0.0001, 42105: 0.0002, 28336: 0.0001, 41198: 0.0002, 55693: 0.0001, 49590: 0.0001, 47686: 0.0001, 27276: 0.0001, 32324: 0.0001, 36502: 0.0001, 31056: 0.0001, 50463: 0.0001, 27464: 0.0001, 53411: 0.0003, 64260: 0.0001, 15646: 0.0002, 35497: 0.0001, 11611: 0.0001, 40784: 0.0001, 24685: 0.0001, 24917: 0.0001, 9775: 0.0002, 28426: 0.0001, 52521: 0.0001, 45087: 0.0001, 52885: 0.0001, 44310: 0.0002, 58196: 0.0001, 35194: 0.0001, 13739: 0.0001, 22069: 0.0001, 62056: 0.0001, 62012: 0.0001, 51499: 0.0002, 16034: 0.0002, 52905: 0.0002, 53342: 0.0002, 41346: 0.0001, 22357: 0.0001, 15722: 0.0001, 55381: 0.0001, 21464: 0.0002, 16197: 0.0001, 2775: 0.0003, 29045: 0.0001, 42526: 0.0002, 1022: 0.0001, 7450: 0.0001, 23195: 0.0001, 35540: 0.0001, 45717: 0.0001, 23148: 0.0001, 48808: 0.0001, 40501: 0.0001, 26436: 0.0001, 27521: 0.0001, 64104: 0.0001, 35917: 0.0001, 41206: 0.0001, 46627: 0.0003, 56965: 0.0001, 38609: 0.0001, 13260: 0.0002, 55699: 0.0001, 65029: 0.0001, 18040: 0.0001, 61936: 0.0001, 26197: 0.0001, 37363: 0.0001, 58546: 0.0002, 31090: 0.0001, 40325: 0.0001, 18917: 0.0001, 44004: 0.0001, 10986: 0.0001, 46048: 0.0002, 24695: 0.0001, 25206: 0.0001, 37769: 0.0001, 51737: 0.0001, 11595: 0.0001, 37740: 0.0001, 7064: 0.0001, 41394: 0.0001, 18094: 0.0001, 13266: 0.0001, 62404: 0.0001, 51429: 0.0002, 20921: 0.0001, 25068: 0.0001, 64157: 0.0001, 20026: 0.0001, 33017: 0.0001, 28421: 0.0001, 4463: 0.0001, 21628: 0.0001, 29420: 0.0001, 28442: 0.0001, 11125: 0.0001, 12037: 0.0002, 3914: 0.0001, 38354: 0.0001, 46132: 0.0001, 37647: 0.0001, 5580: 0.0001, 2540: 0.0001, 9845: 0.0001, 28790: 0.0001, 52684: 0.0001, 58161: 0.0001, 55744: 0.0001, 48520: 0.0001, 51798: 0.0001, 57737: 0.0001, 25691: 0.0001, 55972: 0.0001, 12984: 0.0001, 2879: 0.0002, 43864: 0.0002, 31428: 0.0001, 32176: 0.0001, 20719: 0.0001, 55649: 0.0002, 44611: 0.0001, 43472: 0.0002, 47760: 0.0001, 57098: 0.0001, 7277: 0.0001, 20270: 0.0001, 62561: 0.0001, 10044: 0.0001, 9564: 0.0001, 55394: 0.0001, 49338: 0.0001, 59154: 0.0002, 50581: 0.0001, 26577: 0.0001, 17253: 0.0001, 40521: 0.0001, 57451: 0.0001, 5909: 0.0001, 22647: 0.0002, 42100: 0.0001, 30410: 0.0001, 57647: 0.0001, 25786: 0.0001, 52378: 0.0002, 53447: 0.0001, 54819: 0.0001, 29878: 0.0001, 57458: 0.0001, 15559: 0.0001, 62305: 0.0001, 27376: 0.0001, 50147: 0.0001, 51882: 0.0001, 59694: 0.0001, 55682: 0.0001, 7259: 0.0002, 44229: 0.0001, 5948: 0.0001, 15233: 0.0001, 21362: 0.0001, 37745: 0.0001, 41330: 0.0001, 25449: 0.0001, 59561: 0.0001, 60497: 0.0001, 11886: 0.0001, 44152: 0.0002, 6382: 0.0003, 22749: 0.0001, 46787: 0.0001, 21329: 0.0001, 48660: 0.0001, 29032: 0.0001, 44307: 0.0001, 25507: 0.0001, 50237: 0.0002, 42388: 0.0001, 61842: 0.0001, 49513: 0.0001, 51486: 0.0001, 59481: 0.0001, 6023: 0.0003, 39340: 0.0001, 5707: 0.0001, 13529: 0.0001, 61532: 0.0001, 10647: 0.0001, 12537: 0.0001, 26781: 0.0002, 40519: 0.0001, 39525: 0.0001, 55382: 0.0002, 64769: 0.0002, 28765: 0.0002, 9914: 0.0001, 48840: 0.0001, 8563: 0.0002, 29965: 0.0001, 47328: 0.0001, 35572: 0.0003, 42393: 0.0003, 31366: 0.0001, 36297: 0.0001, 42759: 0.0001, 831: 0.0002, 28312: 0.0001, 51030: 0.0001, 45642: 0.0001, 20022: 0.0001, 36824: 0.0001, 47924: 0.0001, 13622: 0.0001, 46692: 0.0002, 4587: 0.0002, 19896: 0.0001, 7523: 0.0001, 35031: 0.0001, 9399: 0.0001, 30094: 0.0001, 61499: 0.0001, 48198: 0.0001, 31489: 0.0001, 28190: 0.0001, 5750: 0.0001, 10355: 0.0001, 38710: 0.0001, 41682: 0.0002, 8797: 0.0001, 26052: 0.0001, 9192: 0.0001, 42758: 0.0001, 5531: 0.0002, 35702: 0.0001, 47685: 0.0001, 26027: 0.0001, 27189: 0.0001, 43809: 0.0002, 33995: 0.0001, 56546: 0.0001, 40020: 0.0001, 42070: 0.0001, 42766: 0.0001, 20161: 0.0001, 12855: 0.0001, 21775: 0.0002, 31267: 0.0002, 8917: 0.0001, 11760: 0.0001, 46986: 0.0001, 19920: 0.0001, 3766: 0.0001, 47627: 0.0002, 19672: 0.0001, 35047: 0.0001, 34939: 0.0001, 61248: 0.0002, 62606: 0.0001, 3891: 0.0001, 8097: 0.0001, 14862: 0.0001, 14533: 0.0001, 35251: 0.0001, 41886: 0.0001, 26864: 0.0001, 36150: 0.0001, 48066: 0.0001, 34971: 0.0001, 9109: 0.0001, 45683: 0.0001, 3506: 0.0001, 21619: 0.0001, 9803: 0.0001, 34395: 0.0001, 17139: 0.0001, 22169: 0.0002, 20966: 0.0001, 46650: 0.0001, 22830: 0.0002, 34770: 0.0003, 17265: 0.0001, 47432: 0.0001, 46142: 0.0002, 25212: 0.0001, 24114: 0.0001, 59021: 0.0001, 54309: 0.0001, 639: 0.0001, 47276: 0.0001, 25363: 0.0002, 57836: 0.0001, 5059: 0.0001, 14407: 0.0001, 38730: 0.0003, 27673: 0.0001, 37106: 0.0001, 47629: 0.0001, 12233: 0.0001, 19924: 0.0001, 16140: 0.0001, 11051: 0.0002, 61344: 0.0001, 22886: 0.0001, 42603: 0.0002, 54616: 0.0001, 11651: 0.0001, 52754: 0.0001, 34517: 0.0001, 27466: 0.0001, 45323: 0.0001, 21597: 0.0001, 26232: 0.0001, 30962: 0.0001, 48272: 0.0001, 27403: 0.0001, 27930: 0.0002, 48387: 0.0001, 7950: 0.0001, 7382: 0.0001, 51773: 0.0001, 33887: 0.0002, 26289: 0.0003, 58218: 0.0001, 53622: 0.0001, 19993: 0.0001, 15736: 0.0001, 37295: 0.0001, 64657: 0.0001, 29288: 0.0001, 28220: 0.0001, 45296: 0.0001, 14276: 0.0001, 9675: 0.0001, 39545: 0.0001, 59740: 0.0001, 11943: 0.0001, 3883: 0.0001, 3021: 0.0001, 37868: 0.0001, 61714: 0.0001, 22619: 0.0001, 24915: 0.0001, 25802: 0.0002, 29579: 0.0002, 28210: 0.0002, 46131: 0.0001, 34108: 0.0001, 47265: 0.0001, 11108: 0.0001, 55500: 0.0001, 40003: 0.0001, 6573: 0.0001, 14669: 0.0002, 23758: 0.0001, 7530: 0.0001, 28080: 0.0001, 38321: 0.0001, 15162: 0.0002, 40229: 0.0003, 54100: 0.0001, 25445: 0.0004, 16727: 0.0001, 30098: 0.0001, 44464: 0.0001, 18238: 0.0002, 1647: 0.0001, 53815: 0.0001, 55745: 0.0002, 19867: 0.0001, 17147: 0.0001, 42856: 0.0001, 31142: 0.0001, 40246: 0.0001, 29571: 0.0002, 39378: 0.0002, 64518: 0.0002, 34091: 0.0001, 63654: 0.0001, 44344: 0.0001, 50972: 0.0001, 42380: 0.0001, 49406: 0.0001, 39830: 0.0001, 25287: 0.0001, 57742: 0.0001, 43241: 0.0001, 49790: 0.0001, 38679: 0.0001, 44836: 0.0001, 42265: 0.0001, 20823: 0.0002, 51034: 0.0001, 29263: 0.0001, 37014: 0.0001, 16352: 0.0001, 14066: 0.0001, 40236: 0.0002, 22842: 0.0001, 60225: 0.0001, 9980: 0.0001, 19691: 0.0001, 35033: 0.0001, 17869: 0.0002, 29738: 0.0001, 39396: 0.0001, 45970: 0.0001, 62279: 0.0001, 18802: 0.0001, 46154: 0.0001, 62004: 0.0001, 24813: 0.0001, 20933: 0.0001, 52785: 0.0001, 44641: 0.0001, 64266: 0.0001, 62745: 0.0001, 21874: 0.0001, 18139: 0.0001, 2519: 0.0002, 42101: 0.0001, 50084: 0.0001, 25647: 0.0002, 29134: 0.0001, 20152: 0.0001, 64592: 0.0001, 12762: 0.0001, 22284: 0.0001, 37498: 0.0002, 29835: 0.0002, 45398: 0.0001, 43116: 0.0001, 35614: 0.0001, 38219: 0.0002, 11867: 0.0001, 45500: 0.0001, 64274: 0.0001, 64897: 0.0001, 29394: 0.0001, 14877: 0.0002, 19675: 0.0001, 31156: 0.0001, 44118: 0.0001, 46630: 0.0001, 15124: 0.0001, 14733: 0.0002, 49610: 0.0001, 26225: 0.0001, 59445: 0.0001, 15186: 0.0001, 20726: 0.0002, 20910: 0.0001, 25950: 0.0001, 39963: 0.0001, 57518: 0.0001, 1947: 0.0001, 55777: 0.0001, 45992: 0.0001, 19021: 0.0001, 40212: 0.0001, 59688: 0.0001, 29105: 0.0002, 22133: 0.0001, 2922: 0.0001, 31792: 0.0001, 62498: 0.0001, 2022: 0.0001, 51383: 0.0001, 3618: 0.0001, 49723: 0.0001, 35526: 0.0002, 31905: 0.0001, 62529: 0.0001, 43411: 0.0001, 18782: 0.0001, 10962: 0.0001, 22352: 0.0001, 3032: 0.0001, 47905: 0.0002, 47490: 0.0001, 42201: 0.0001, 51292: 0.0002, 6050: 0.0001, 36184: 0.0002, 40044: 0.0001, 62913: 0.0001, 10859: 0.0001, 40360: 0.0002, 58011: 0.0001, 49877: 0.0002, 64976: 0.0001, 51802: 0.0001, 20827: 0.0001, 50597: 0.0001, 26391: 0.0001, 64641: 0.0001, 50545: 0.0001, 38795: 0.0001, 17724: 0.0001, 22158: 0.0002, 36792: 0.0001, 13525: 0.0001, 45666: 0.0001, 37827: 0.0001, 38328: 0.0001, 46744: 0.0001, 14022: 0.0002, 15141: 0.0002, 21702: 0.0001, 40459: 0.0001, 49735: 0.0001, 14455: 0.0001, 44115: 0.0002, 7059: 0.0001, 27478: 0.0001, 58258: 0.0001, 24325: 0.0001, 36577: 0.0001, 35179: 0.0001, 26010: 0.0001, 61904: 0.0001, 35638: 0.0001, 43873: 0.0001, 50648: 0.0001, 2789: 0.0001, 57692: 0.0001, 44194: 0.0001, 64132: 0.0001, 45630: 0.0001, 33784: 0.0001, 10478: 0.0001, 7602: 0.0002, 36280: 0.0001, 19625: 0.0001, 43129: 0.0002, 43850: 0.0001, 50604: 0.0002, 4981: 0.0002, 47330: 0.0001, 58074: 0.0001, 18353: 0.0001, 59977: 0.0001, 58820: 0.0001, 6866: 0.0001, 18315: 0.0001, 47712: 0.0001, 12606: 0.0001, 12035: 0.0001, 16621: 0.0001, 39111: 0.0003, 11148: 0.0001, 51772: 0.0001, 33517: 0.0001, 52166: 0.0001, 9577: 0.0001, 55438: 0.0001, 62554: 0.0001, 14214: 0.0002, 35919: 0.0001, 18354: 0.0001, 24948: 0.0001, 45339: 0.0001, 50606: 0.0001, 48833: 0.0001, 44595: 0.0001, 53730: 0.0001, 37998: 0.0001, 12638: 0.0002, 19364: 0.0001, 19697: 0.0002, 12534: 0.0001, 34261: 0.0001, 15018: 0.0001, 13290: 0.0001, 42608: 0.0001, 50059: 0.0001, 54659: 0.0001, 50872: 0.0001, 34521: 0.0002, 56548: 0.0001, 47163: 0.0001, 20717: 0.0001, 42434: 0.0001, 41167: 0.0001, 7013: 0.0001, 31828: 0.0001, 53527: 0.0002, 48168: 0.0002, 45893: 0.0001, 22813: 0.0002, 51017: 0.0001, 35066: 0.0001, 43461: 0.0002, 24099: 0.0001, 11203: 0.0001, 60872: 0.0002, 44244: 0.0002, 6765: 0.0001, 4719: 0.0001, 40609: 0.0001, 58018: 0.0001, 38548: 0.0002, 49851: 0.0001, 20234: 0.0001, 23984: 0.0001, 9163: 0.0001, 58336: 0.0001, 11414: 0.0001, 34617: 0.0001, 63872: 0.0001, 34350: 0.0001, 28370: 0.0001, 54068: 0.0001, 52578: 0.0002, 8012: 0.0001, 58652: 0.0003, 40680: 0.0001, 30885: 0.0002, 44103: 0.0002, 51084: 0.0001, 2430: 0.0001, 7117: 0.0001, 47197: 0.0001, 13624: 0.0001, 60076: 0.0002, 59474: 0.0001, 32018: 0.0001, 57635: 0.0001, 29586: 0.0001, 54836: 0.0001, 49785: 0.0001, 37093: 0.0001, 14089: 0.0002, 5096: 0.0001, 37238: 0.0002, 45746: 0.0002, 19804: 0.0002, 53044: 0.0001, 36586: 0.0001, 1532: 0.0001, 45161: 0.0001, 47016: 0.0001, 21402: 0.0001, 19252: 0.0001, 59793: 0.0001, 50362: 0.0001, 12210: 0.0001, 50482: 0.0001, 53774: 0.0002, 59778: 0.0001, 9822: 0.0003, 51817: 0.0001, 38260: 0.0001, 37355: 0.0001, 37407: 0.0001, 58826: 0.0002, 38477: 0.0001, 5739: 0.0003, 54443: 0.0002, 23492: 0.0001, 21606: 0.0001, 27059: 0.0001, 52777: 0.0001, 13255: 0.0001, 57963: 0.0001, 16264: 0.0001, 41835: 0.0001, 3558: 0.0002, 38428: 0.0001, 37243: 0.0001, 48002: 0.0002, 16152: 0.0002, 22641: 0.0001, 25494: 0.0002, 17131: 0.0001, 46613: 0.0001, 18872: 0.0001, 56904: 0.0001, 53466: 0.0001, 50819: 0.0001, 52070: 0.0001, 29862: 0.0001, 54481: 0.0002, 47324: 0.0001, 22961: 0.0001, 57942: 0.0001, 45271: 0.0001, 22216: 0.0001, 59624: 0.0003, 42580: 0.0001, 22289: 0.0001, 26258: 0.0001, 43126: 0.0001, 17838: 0.0001, 28416: 0.0001, 22985: 0.0001, 34701: 0.0001, 13619: 0.0001, 31053: 0.0003, 43417: 0.0001, 11853: 0.0002, 27888: 0.0002, 17877: 0.0001, 9212: 0.0001, 51923: 0.0001, 15796: 0.0001, 51258: 0.0001, 45288: 0.0001, 14033: 0.0002, 44148: 0.0002, 37341: 0.0001, 31848: 0.0001, 42354: 0.0001, 3927: 0.0001, 55589: 0.0002, 26572: 0.0001, 21875: 0.0001, 41111: 0.0001, 14793: 0.0001, 28430: 0.0002, 36380: 0.0001, 43896: 0.0001, 21909: 0.0001, 2510: 0.0001, 55536: 0.0001, 55565: 0.0001, 10123: 0.0001, 3029: 0.0002, 30593: 0.0001, 39195: 0.0001, 34413: 0.0001, 22620: 0.0001, 55390: 0.0001, 29283: 0.0001, 61747: 0.0001, 62981: 0.0002, 11192: 0.0002, 18038: 0.0001, 60594: 0.0002, 41387: 0.0003, 25511: 0.0002, 58213: 0.0001, 35998: 0.0001, 16861: 0.0001, 43783: 0.0001, 21279: 0.0002, 7858: 0.0001, 18165: 0.0001, 10197: 0.0001, 7229: 0.0001, 60931: 0.0002, 24078: 0.0001, 47522: 0.0001, 50812: 0.0002, 52780: 0.0001, 38371: 0.0001, 4081: 0.0001, 982: 0.0001, 8048: 0.0001, 38055: 0.0001, 57997: 0.0002, 29987: 0.0001, 44111: 0.0001, 39864: 0.0001, 62742: 0.0001, 58958: 0.0001, 36275: 0.0001, 25247: 0.0001, 34708: 0.0001, 29910: 0.0001, 3941: 0.0001, 18525: 0.0001, 56366: 0.0002, 44850: 0.0001, 21100: 0.0001, 43257: 0.0002, 19891: 0.0001, 46249: 0.0002, 57226: 0.0001, 46163: 0.0001, 40241: 0.0001, 23877: 0.0001, 38937: 0.0001, 48173: 0.0001, 40297: 0.0001, 43813: 0.0001, 42410: 0.0001, 12102: 0.0001, 6782: 0.0001, 9671: 0.0001, 13538: 0.0001, 28795: 0.0001, 48216: 0.0001, 2846: 0.0001, 2447: 0.0001, 25976: 0.0001, 33274: 0.0001, 38029: 0.0001, 7445: 0.0001, 40036: 0.0001, 20249: 0.0001, 21675: 0.0001, 12746: 0.0001, 39720: 0.0001, 45772: 0.0001, 30876: 0.0001, 48416: 0.0001, 14192: 0.0001, 19633: 0.0001, 18975: 0.0001, 52624: 0.0001, 6627: 0.0001, 53561: 0.0002, 51514: 0.0002, 41404: 0.0001, 27429: 0.0001, 46865: 0.0001, 22734: 0.0001, 54497: 0.0001, 4823: 0.0001, 62688: 0.0001, 28916: 0.0001, 38553: 0.0001, 47399: 0.0001, 11075: 0.0001, 44432: 0.0001, 55449: 0.0002, 11473: 0.0001, 5018: 0.0001, 21421: 0.0001, 9582: 0.0001, 7356: 0.0001, 62520: 0.0001, 29648: 0.0001, 47247: 0.0001, 9193: 0.0001, 25460: 0.0001, 51377: 0.0002, 48836: 0.0001, 39590: 0.0001, 35800: 0.0001, 5747: 0.0001, 51944: 0.0001, 7516: 0.0001, 22698: 0.0001, 20856: 0.0001, 42652: 0.0003, 38415: 0.0001, 18680: 0.0001, 14641: 0.0001, 58714: 0.0001, 15526: 0.0001, 63236: 0.0001, 59946: 0.0001, 22731: 0.0002, 61582: 0.0002, 56587: 0.0001, 57088: 0.0002, 27305: 0.0001, 16951: 0.0001, 50567: 0.0002, 24519: 0.0001, 51413: 0.0001, 34078: 0.0001, 45530: 0.0001, 8132: 0.0001, 34365: 0.0001, 28195: 0.0001, 26791: 0.0001, 38492: 0.0001, 25498: 0.0001, 51371: 0.0001, 35062: 0.0001, 34670: 0.0001, 20257: 0.0001, 21978: 0.0001, 28045: 0.0001, 23162: 0.0001, 8073: 0.0001, 21075: 0.0001, 59026: 0.0002, 29462: 0.0002, 45925: 0.0001, 38517: 0.0001, 55076: 0.0001, 51290: 0.0001, 14094: 0.0001, 52518: 0.0001, 34581: 0.0001, 6477: 0.0002, 33703: 0.0002, 37809: 0.0001, 50981: 0.0001, 3431: 0.0001, 38881: 0.0001, 33087: 0.0001, 13546: 0.0001, 31274: 0.0001, 52688: 0.0001, 13440: 0.0001, 12758: 0.0001, 14395: 0.0002, 14937: 0.0001, 55450: 0.0002, 6574: 0.0001, 47346: 0.0001, 9137: 0.0001, 12957: 0.0001, 3478: 0.0001, 47436: 0.0001, 14997: 0.0001, 63826: 0.0001, 14697: 0.0001, 61644: 0.0002, 26529: 0.0001, 20295: 0.0002, 51987: 0.0001, 41787: 0.0002, 39994: 0.0003, 47239: 0.0001, 36397: 0.0002, 43942: 0.0001, 52386: 0.0001, 20193: 0.0001, 21767: 0.0001, 59653: 0.0001, 29077: 0.0002, 17597: 0.0001, 3058: 0.0003, 1014: 0.0001, 60745: 0.0001, 17630: 0.0001, 2239: 0.0001, 16649: 0.0001, 29208: 0.0001, 31818: 0.0001, 14897: 0.0001, 13526: 0.0001, 7019: 0.0001, 13517: 0.0001, 29274: 0.0001, 58412: 0.0001, 1273: 0.0001, 14008: 0.0001, 17273: 0.0001, 4399: 0.0001, 18823: 0.0001, 54752: 0.0001, 52392: 0.0001, 43286: 0.0001, 52239: 0.0001, 53706: 0.0001, 26915: 0.0001, 31152: 0.0001, 23598: 0.0001, 58194: 0.0002, 5073: 0.0001, 46316: 0.0001, 50422: 0.0001, 21178: 0.0001, 21434: 0.0001, 36569: 0.0001, 27022: 0.0001, 20449: 0.0001, 39828: 0.0002, 35290: 0.0001, 22418: 0.0001, 54110: 0.0001, 14157: 0.0001, 20114: 0.0001, 32065: 0.0002, 36499: 0.0001, 48802: 0.0001, 2799: 0.0001, 35611: 0.0002, 15538: 0.0001, 58764: 0.0002, 63793: 0.0001, 6585: 0.0001, 44175: 0.0001, 26924: 0.0001, 24204: 0.0001, 26345: 0.0001, 25355: 0.0001, 34603: 0.0002, 17815: 0.0001, 19621: 0.0001, 19741: 0.0001, 26163: 0.0001, 13855: 0.0001, 46682: 0.0001, 48202: 0.0001, 36927: 0.0001, 20247: 0.0002, 54038: 0.0001, 39559: 0.0001, 55323: 0.0001, 8952: 0.0001, 13230: 0.0001, 58641: 0.0001, 41627: 0.0001, 50829: 0.0003, 8192: 0.0001, 6479: 0.0001, 2547: 0.0001, 30082: 0.0001, 62690: 0.0001, 25195: 0.0002, 42793: 0.0001, 18861: 0.0003, 22924: 0.0001, 37135: 0.0003, 15780: 0.0001, 46409: 0.0001, 63880: 0.0002, 6904: 0.0001, 5533: 0.0001, 21109: 0.0001, 35754: 0.0001, 6070: 0.0001, 59449: 0.0001, 41899: 0.0001, 60493: 0.0001, 32513: 0.0002, 30160: 0.0001, 41654: 0.0001, 54706: 0.0001, 1627: 0.0001, 49779: 0.0001, 35812: 0.0002, 50553: 0.0001, 1769: 0.0002, 53911: 0.0001, 20102: 0.0001, 26296: 0.0001, 63235: 0.0001, 36197: 0.0001, 34737: 0.0001, 44062: 0.0001, 52763: 0.0002, 16819: 0.0001, 17914: 0.0002, 64130: 0.0001, 40649: 0.0001, 45541: 0.0001, 30484: 0.0001, 60052: 0.0001, 6839: 0.0001, 41571: 0.0001, 21930: 0.0001, 58280: 0.0003, 44236: 0.0001, 31281: 0.0001, 32082: 0.0001, 21662: 0.0001, 21867: 0.0001, 15153: 0.0001, 26953: 0.0001, 3419: 0.0001, 7715: 0.0001, 47881: 0.0001, 63747: 0.0001, 49487: 0.0002, 49959: 0.0001, 59544: 0.0002, 6747: 0.0001, 28436: 0.0001, 62502: 0.0001, 24763: 0.0001, 37213: 0.0001, 38197: 0.0001, 11754: 0.0001, 59513: 0.0001, 43143: 0.0001, 39544: 0.0001, 42835: 0.0001, 10702: 0.0001, 10043: 0.0001, 5725: 0.0001, 28723: 0.0001, 58790: 0.0001, 52108: 0.0002, 36145: 0.0001, 22244: 0.0002, 15446: 0.0002, 17329: 0.0001, 50073: 0.0001, 33257: 0.0001, 51651: 0.0002, 50033: 0.0001, 23876: 0.0001, 24702: 0.0001, 42525: 0.0004, 28174: 0.0001, 10598: 0.0001, 37331: 0.0002, 42889: 0.0002, 13006: 0.0001, 13913: 0.0001, 27747: 0.0001, 51254: 0.0001, 18236: 0.0001, 59670: 0.0003, 55578: 0.0001, 60260: 0.0001, 42466: 0.0002, 48464: 0.0001, 7566: 0.0001, 33635: 0.0001, 17055: 0.0001, 9941: 0.0001, 26266: 0.0002, 58208: 0.0001, 42228: 0.0001, 7694: 0.0001, 34474: 0.0001, 51261: 0.0001, 9166: 0.0001, 42817: 0.0002, 14147: 0.0003, 35057: 0.0001, 35422: 0.0001, 46308: 0.0002, 17520: 0.0001, 53593: 0.0001, 60677: 0.0001, 19855: 0.0001, 45647: 0.0001, 15068: 0.0001, 9335: 0.0001, 33589: 0.0001, 63561: 0.0001, 14284: 0.0002, 60435: 0.0001, 58262: 0.0002, 41785: 0.0001, 28580: 0.0001, 32528: 0.0001, 39494: 0.0001, 14161: 0.0003, 15792: 0.0001, 25197: 0.0002, 33145: 0.0001, 32576: 0.0001, 19425: 0.0001, 36381: 0.0001, 10919: 0.0001, 28985: 0.0001, 33709: 0.0001, 45587: 0.0001, 21873: 0.0002, 35749: 0.0001, 54664: 0.0002, 58645: 0.0001, 40180: 0.0001, 31940: 0.0001, 43914: 0.0001, 43921: 0.0001, 55524: 0.0003, 61976: 0.0001, 59452: 0.0002, 29978: 0.0001, 47427: 0.0001, 23630: 0.0001, 3742: 0.0002, 18198: 0.0001, 42730: 0.0001, 41195: 0.0001, 58025: 0.0001, 43118: 0.0002, 26238: 0.0001, 55506: 0.0002, 3531: 0.0001, 53639: 0.0001, 45381: 0.0001, 20911: 0.0001, 6935: 0.0001, 57722: 0.0001, 54341: 0.0001, 50897: 0.0001, 15300: 0.0001, 54439: 0.0001, 28030: 0.0001, 42913: 0.0002, 16081: 0.0001, 41135: 0.0001, 44238: 0.0001, 11577: 0.0001, 31844: 0.0001, 29304: 0.0001, 17636: 0.0001, 53036: 0.0001, 58704: 0.0001, 39191: 0.0001, 41960: 0.0001, 5494: 0.0001, 29638: 0.0001, 12783: 0.0001, 7829: 0.0001, 29463: 0.0001, 38816: 0.0001, 39497: 0.0001, 8539: 0.0001, 37455: 0.0001, 15139: 0.0001, 3830: 0.0002, 55138: 0.0001, 36274: 0.0001, 36524: 0.0001, 51539: 0.0001, 17372: 0.0001, 36971: 0.0001, 9915: 0.0001, 5555: 0.0001, 23381: 0.0002, 55410: 0.0003, 57786: 0.0001, 34254: 0.0001, 35901: 0.0001, 20265: 0.0002, 48784: 0.0001, 19757: 0.0002, 30245: 0.0001, 48152: 0.0001, 49499: 0.0002, 44302: 0.0002, 39882: 0.0001, 28202: 0.0003, 42928: 0.0001, 13432: 0.0001, 27258: 0.0001, 20668: 0.0001, 54797: 0.0001, 43801: 0.0001, 15476: 0.0001, 10027: 0.0001, 35469: 0.0001, 14550: 0.0001, 17274: 0.0001, 49933: 0.0001, 48465: 0.0001, 14413: 0.0001, 47266: 0.0001, 23353: 0.0001, 50285: 0.0002, 50503: 0.0001, 18387: 0.0001, 20598: 0.0001, 7339: 0.0002, 47657: 0.0001, 64608: 0.0001, 21752: 0.0002, 50055: 0.0002, 30465: 0.0001, 37651: 0.0001, 15939: 0.0001, 40835: 0.0001, 24623: 0.0001, 38712: 0.0001, 42411: 0.0001, 47556: 0.0002, 56346: 0.0002, 44329: 0.0001, 4821: 0.0001, 44810: 0.0002, 58898: 0.0001, 29633: 0.0002, 15756: 0.0001, 7711: 0.0001, 45589: 0.0001, 22605: 0.0001, 60097: 0.0001, 27919: 0.0001, 44380: 0.0001, 61008: 0.0002, 24949: 0.0001, 5834: 0.0001, 11696: 0.0001, 734: 0.0001, 51411: 0.0001, 11085: 0.0001, 21647: 0.0001, 44083: 0.0001, 12749: 0.0001, 42300: 0.0001, 9978: 0.0001, 42421: 0.0001, 21973: 0.0001, 39495: 0.0001, 2926: 0.0001, 24828: 0.0001, 6830: 0.0001, 35166: 0.0001, 11548: 0.0001, 8129: 0.0001, 26265: 0.0001, 58584: 0.0001, 3706: 0.0001, 12823: 0.0001, 46350: 0.0001, 39992: 0.0001, 19638: 0.0002, 40082: 0.0001, 47129: 0.0002, 31521: 0.0002, 9685: 0.0001, 23666: 0.0001, 9877: 0.0001, 22778: 0.0001, 48032: 0.0002, 27473: 0.0001, 7478: 0.0001, 10042: 0.0001, 25965: 0.0001, 21735: 0.0001, 14954: 0.0001, 54929: 0.0002, 4923: 0.0001, 36324: 0.0001, 25395: 0.0001, 35898: 0.0001, 38508: 0.0001, 58789: 0.0001, 53414: 0.0001, 57502: 0.0002, 38074: 0.0002, 45149: 0.0001, 14211: 0.0001, 54498: 0.0002, 25813: 0.0001, 11961: 0.0001, 31115: 0.0001, 27864: 0.0002, 4725: 0.0001, 17722: 0.0001, 63622: 0.0001, 23878: 0.0001, 55992: 0.0001, 51321: 0.0003, 14393: 0.0001, 22156: 0.0001, 49370: 0.0001, 25260: 0.0002, 5850: 0.0002, 14535: 0.0001, 41199: 0.0001, 10973: 0.0001, 20310: 0.0002, 11980: 0.0001, 12447: 0.0001, 16195: 0.0001, 21335: 0.0001, 42046: 0.0003, 13028: 0.0001, 23709: 0.0001, 51913: 0.0001, 58202: 0.0001, 45085: 0.0002, 63244: 0.0001, 3450: 0.0001, 54302: 0.0002, 54065: 0.0001, 5327: 0.0001, 31592: 0.0001, 30793: 0.0001, 27035: 0.0001, 9439: 0.0001, 13615: 0.0001, 61757: 0.0001, 59673: 0.0001, 55954: 0.0001, 45267: 0.0001, 12062: 0.0001, 35059: 0.0001, 47572: 0.0001, 55062: 0.0001, 14745: 0.0001, 38221: 0.0001, 5351: 0.0001, 5754: 0.0001, 10791: 0.0001, 31804: 0.0002, 27244: 0.0001, 10980: 0.0001, 47592: 0.0001, 18959: 0.0001, 17022: 0.0001, 12729: 0.0001, 45405: 0.0001, 41692: 0.0001, 31758: 0.0001, 21271: 0.0001, 28548: 0.0003, 36588: 0.0001, 51388: 0.0001, 58427: 0.0001, 24386: 0.0001, 13638: 0.0001, 48277: 0.0001, 23631: 0.0001, 41894: 0.0002, 9678: 0.0002, 22131: 0.0001, 40641: 0.0001, 27096: 0.0001, 58049: 0.0001, 5594: 0.0001, 54132: 0.0001, 37830: 0.0001, 38202: 0.0001, 10827: 0.0001, 6966: 0.0001, 60427: 0.0001, 6575: 0.0001, 30913: 0.0001, 22905: 0.0002, 58391: 0.0001, 7482: 0.0002, 35355: 0.0002, 56472: 0.0001, 33643: 0.0001, 3407: 0.0002, 42848: 0.0001, 62611: 0.0002, 9660: 0.0001, 26262: 0.0001, 10678: 0.0001, 28438: 0.0001, 15452: 0.0002, 30821: 0.0002, 33629: 0.0003, 2655: 0.0001, 14023: 0.0001, 15004: 0.0001, 43388: 0.0001, 13342: 0.0001, 19683: 0.0002, 19170: 0.0001, 15651: 0.0001, 24761: 0.0001, 13770: 0.0001, 50747: 0.0001, 17654: 0.0001, 49862: 0.0001, 58066: 0.0001, 52009: 0.0001, 48657: 0.0001, 61024: 0.0001, 36704: 0.0001, 63757: 0.0002, 61825: 0.0001, 30353: 0.0001, 22178: 0.0001, 23461: 0.0001, 8009: 0.0001, 22636: 0.0001, 41115: 0.0001, 15126: 0.0001, 62497: 0.0001, 53620: 0.0001, 46275: 0.0001, 46162: 0.0001, 7963: 0.0001, 13415: 0.0001, 7022: 0.0002, 34974: 0.0001, 41182: 0.0001, 48320: 0.0001, 11505: 0.0001, 59110: 0.0001, 23819: 0.0001, 60816: 0.0001, 17367: 0.0001, 51106: 0.0002, 17849: 0.0001, 44436: 0.0001, 30477: 0.0001, 45837: 0.0001, 19930: 0.0001, 50269: 0.0001, 39284: 0.0002, 17245: 0.0002, 51110: 0.0001, 52761: 0.0001, 21015: 0.0001, 44206: 0.0001, 33715: 0.0001, 7577: 0.0001, 28545: 0.0001, 29656: 0.0001, 42891: 0.0001, 37587: 0.0001, 42914: 0.0002, 44204: 0.0001, 58969: 0.0001, 10701: 0.0001, 46548: 0.0001, 18846: 0.0001, 37301: 0.0001, 37865: 0.0001, 29207: 0.0001, 37078: 0.0001, 57128: 0.0001, 45425: 0.0001, 54146: 0.0002, 25426: 0.0001, 23139: 0.0001, 1423: 0.0001, 62625: 0.0001, 51002: 0.0001, 47307: 0.0001, 15050: 0.0001, 15606: 0.0001, 29900: 0.0001, 55108: 0.0001, 1511: 0.0001, 28781: 0.0001, 21382: 0.0001, 58474: 0.0001, 2094: 0.0001, 40153: 0.0001, 46200: 0.0003, 60568: 0.0001, 59407: 0.0001, 13854: 0.0002, 9531: 0.0001, 18806: 0.0001, 13163: 0.0001, 40656: 0.0001, 58706: 0.0001, 4507: 0.0001, 26417: 0.0001, 11992: 0.0001, 42643: 0.0001, 50162: 0.0001, 60172: 0.0001, 44685: 0.0001, 42518: 0.0001, 44613: 0.0001, 54422: 0.0001, 10067: 0.0001, 42226: 0.0001, 55939: 0.0002, 11196: 0.0002, 12530: 0.0001, 29290: 0.0001, 15638: 0.0001, 9311: 0.0001, 11819: 0.0001, 31250: 0.0001, 43760: 0.0001, 13489: 0.0002, 39034: 0.0001, 60304: 0.0001, 51862: 0.0001, 6862: 0.0001, 47433: 0.0001, 20373: 0.0001, 21110: 0.0003, 23240: 0.0001, 41449: 0.0001, 11640: 0.0001, 49502: 0.0001, 10200: 0.0001, 30898: 0.0001, 64580: 0.0001, 56518: 0.0001, 63652: 0.0001, 11948: 0.0003, 28755: 0.0001, 10462: 0.0001, 38849: 0.0002, 8922: 0.0001, 64777: 0.0001, 36778: 0.0001, 33465: 0.0001, 53865: 0.0001, 3564: 0.0001, 22062: 0.0001, 56837: 0.0002, 60440: 0.0001, 36460: 0.0002, 42944: 0.0001, 2363: 0.0001, 49518: 0.0003, 13541: 0.0001, 4598: 0.0001, 51171: 0.0001, 28097: 0.0001, 11941: 0.0001, 22845: 0.0002, 7846: 0.0001, 20121: 0.0001, 11386: 0.0001, 43415: 0.0001, 52033: 0.0001, 13965: 0.0002, 64529: 0.0001, 8431: 0.0001, 26382: 0.0001, 59970: 0.0002, 28236: 0.0001, 18669: 0.0002, 63781: 0.0001, 28296: 0.0001, 57592: 0.0001, 40545: 0.0002, 60236: 0.0001, 35001: 0.0001, 17893: 0.0001, 57826: 0.0002, 23761: 0.0001, 62211: 0.0001, 52005: 0.0002, 10443: 0.0001, 55984: 0.0001, 60230: 0.0001, 10358: 0.0001, 35697: 0.0001, 6053: 0.0001, 50203: 0.0001, 25908: 0.0002, 23241: 0.0002, 27415: 0.0001, 22703: 0.0001, 6044: 0.0002, 38128: 0.0001, 47826: 0.0001, 45641: 0.0001, 27843: 0.0001, 43271: 0.0001, 7594: 0.0001, 18341: 0.0001, 58658: 0.0001, 44708: 0.0002, 47873: 0.0001, 22285: 0.0002, 41307: 0.0001, 5097: 0.0001, 34166: 0.0001, 43498: 0.0001, 23065: 0.0001, 54485: 0.0001, 22559: 0.0001, 12202: 0.0001, 59268: 0.0001, 10795: 0.0001, 43638: 0.0001, 37682: 0.0001, 42708: 0.0002, 13387: 0.0001, 60129: 0.0001, 29749: 0.0001, 36556: 0.0001, 49256: 0.0001, 36509: 0.0001, 471: 0.0001, 60394: 0.0001, 31772: 0.0001, 59019: 0.0001, 27589: 0.0001, 21309: 0.0001, 2746: 0.0001, 22348: 0.0001, 16750: 0.0001, 45929: 0.0002, 18061: 0.0001, 36653: 0.0001, 17769: 0.0002, 8567: 0.0001, 24226: 0.0002, 4893: 0.0001, 44856: 0.0001, 46802: 0.0001, 33510: 0.0001, 17415: 0.0001, 4462: 0.0001, 21595: 0.0001, 24203: 0.0001, 34475: 0.0001, 2024: 0.0001, 13594: 0.0001, 27848: 0.0001, 40206: 0.0003, 26340: 0.0001, 44739: 0.0001, 30743: 0.0001, 17334: 0.0001, 14953: 0.0001, 16878: 0.0001, 46788: 0.0001, 55864: 0.0001, 52762: 0.0001, 9115: 0.0001, 42126: 0.0003, 17622: 0.0001, 63785: 0.0001, 39253: 0.0001, 29292: 0.0001, 27783: 0.0002, 42696: 0.0001, 55512: 0.0001, 15769: 0.0001, 52130: 0.0002, 25916: 0.0001, 53688: 0.0001, 15523: 0.0001, 33694: 0.0001, 52268: 0.0001, 58657: 0.0002, 29230: 0.0001, 56849: 0.0001, 36088: 0.0001, 37500: 0.0001, 52614: 0.0001, 38974: 0.0001, 41870: 0.0001, 14389: 0.0002, 40849: 0.0001, 58951: 0.0001, 52450: 0.0003, 7275: 0.0001, 15529: 0.0001, 46166: 0.0002, 53417: 0.0001, 39239: 0.0002, 17125: 0.0002, 43158: 0.0001, 38215: 0.0002, 61986: 0.0001, 9423: 0.0001, 35863: 0.0001, 54035: 0.0001, 37715: 0.0001, 27228: 0.0002, 57025: 0.0001, 30619: 0.0001, 9844: 0.0001, 7545: 0.0003, 45413: 0.0001, 37086: 0.0001, 48832: 0.0001, 14948: 0.0001, 15057: 0.0001, 60712: 0.0003, 42787: 0.0001, 15160: 0.0002, 52577: 0.0001, 20276: 0.0001, 47430: 0.0001, 3493: 0.0001, 29545: 0.0002, 61721: 0.0002, 18093: 0.0001, 52310: 0.0001, 58028: 0.0001, 24200: 0.0001, 9179: 0.0002, 56452: 0.0001, 50969: 0.0002, 10119: 0.0001, 34110: 0.0002, 29529: 0.0001, 38379: 0.0001, 9142: 0.0002, 15453: 0.0001, 45383: 0.0002, 59270: 0.0001, 38682: 0.0001, 2019: 0.0001, 26718: 0.0001, 52322: 0.0001, 15474: 0.0001, 35622: 0.0001, 20039: 0.0001, 18106: 0.0001, 53356: 0.0001, 15503: 0.0001, 31769: 0.0001, 19607: 0.0001, 34741: 0.0001, 39702: 0.0002, 44396: 0.0001, 62914: 0.0002, 17014: 0.0001, 59782: 0.0001, 43967: 0.0001, 55988: 0.0002, 19543: 0.0001, 45418: 0.0001, 5903: 0.0002, 33455: 0.0002, 59537: 0.0001, 7096: 0.0001, 22871: 0.0001, 45870: 0.0001, 61891: 0.0001, 36660: 0.0001, 50319: 0.0001, 20074: 0.0001, 46561: 0.0001, 33653: 0.0001, 62601: 0.0001, 21051: 0.0001, 59846: 0.0001, 42345: 0.0001, 19051: 0.0001, 27729: 0.0001, 38566: 0.0001, 30348: 0.0001, 15157: 0.0001, 38229: 0.0001, 41707: 0.0001, 24401: 0.0001, 55960: 0.0001, 39221: 0.0002, 41968: 0.0001, 56868: 0.0001, 54129: 0.0003, 64003: 0.0001, 59593: 0.0001, 5070: 0.0001, 10713: 0.0002, 10694: 0.0001, 61737: 0.0001, 11593: 0.0002, 59146: 0.0001, 40533: 0.0001, 59527: 0.0001, 2120: 0.0001, 27352: 0.0001, 36958: 0.0001, 42361: 0.0002, 54323: 0.0002, 19550: 0.0001, 19370: 0.0001, 23729: 0.0002, 37489: 0.0001, 21022: 0.0001, 60681: 0.0002, 4985: 0.0002, 49694: 0.0001, 56204: 0.0001, 44993: 0.0002, 52235: 0.0001, 7719: 0.0002, 47278: 0.0001, 18647: 0.0001, 50533: 0.0001, 56458: 0.0002, 45857: 0.0002, 20858: 0.0001, 38801: 0.0001, 55374: 0.0002, 14006: 0.0002, 25443: 0.0001, 27685: 0.0001, 22435: 0.0002, 42892: 0.0001, 11172: 0.0001, 38342: 0.0001, 27576: 0.0001, 5753: 0.0001, 63778: 0.0001, 25062: 0.0001, 22892: 0.0002, 27962: 0.0001, 7470: 0.0001, 34702: 0.0002, 7948: 0.0003, 34300: 0.0001, 26051: 0.0002, 19487: 0.0001, 35995: 0.0001, 14163: 0.0001, 34267: 0.0001, 5356: 0.0001, 62928: 0.0002, 44252: 0.0001, 5987: 0.0001, 11059: 0.0001, 20388: 0.0001, 8700: 0.0001, 47298: 0.0001, 50853: 0.0001, 20177: 0.0002, 21274: 0.0001, 29980: 0.0001, 63841: 0.0002, 59844: 0.0001, 56457: 0.0001, 17019: 0.0002, 5915: 0.0001, 33883: 0.0001, 23098: 0.0001, 48001: 0.0002, 61542: 0.0001, 6378: 0.0001, 29284: 0.0001, 55333: 0.0001, 26685: 0.0001, 15925: 0.0001, 4042: 0.0001, 23664: 0.0001, 33147: 0.0002, 7524: 0.0001, 5525: 0.0001, 47403: 0.0001, 61497: 0.0001, 45507: 0.0001, 60737: 0.0001, 19499: 0.0001, 56532: 0.0001, 42422: 0.0001, 30806: 0.0001, 26190: 0.0001, 56390: 0.0001, 11467: 0.0001, 18417: 0.0001, 33467: 0.0001, 6844: 0.0001, 14565: 0.0001, 22225: 0.0001, 43806: 0.0001, 45644: 0.0001, 17326: 0.0001, 5980: 0.0001, 36156: 0.0001, 11723: 0.0001, 38360: 0.0002, 43920: 0.0001, 23206: 0.0001, 57810: 0.0001, 58894: 0.0002, 46816: 0.0001, 9406: 0.0001, 14729: 0.0002, 7576: 0.0001, 2020: 0.0001, 63780: 0.0001, 49881: 0.0001, 4347: 0.0002, 28384: 0.0001, 60704: 0.0001, 41422: 0.0001, 10030: 0.0004, 34654: 0.0001, 53435: 0.0001, 27586: 0.0001, 14925: 0.0002, 34652: 0.0001, 43661: 0.0001, 25005: 0.0001, 13083: 0.0001, 41699: 0.0001, 47012: 0.0001, 11382: 0.0002, 27974: 0.0001, 20146: 0.0001, 55106: 0.0001, 7380: 0.0001, 32284: 0.0001, 36387: 0.0003, 13235: 0.0001, 6836: 0.0001, 51897: 0.0001, 60074: 0.0001, 43223: 0.0001, 37549: 0.0001, 27857: 0.0002, 25196: 0.0001, 46222: 0.0001, 30273: 0.0001, 7164: 0.0001, 1821: 0.0001, 61200: 0.0001, 62613: 0.0001, 20980: 0.0001, 8084: 0.0001, 55112: 0.0002, 51294: 0.0003, 17723: 0.0001, 31680: 0.0001, 17365: 0.0001, 11574: 0.0001, 23160: 0.0002, 50864: 0.0001, 41628: 0.0001, 2235: 0.0001, 53657: 0.0001, 15481: 0.0001, 41212: 0.0001, 17331: 0.0002, 49651: 0.0002, 53287: 0.0001, 6265: 0.0002, 3832: 0.0001, 48773: 0.0001, 13781: 0.0001, 42151: 0.0002, 13048: 0.0001, 54680: 0.0001, 55588: 0.0001, 53868: 0.0001, 58902: 0.0001, 22042: 0.0001, 26278: 0.0001, 17262: 0.0001, 9911: 0.0001, 20024: 0.0001, 42373: 0.0001, 23111: 0.0002, 15397: 0.0001, 12897: 0.0001, 22575: 0.0004, 25134: 0.0001, 31784: 0.0001, 19795: 0.0001, 38732: 0.0001, 42800: 0.0001, 36199: 0.0001, 23441: 0.0001, 21969: 0.0001, 64656: 0.0002, 13273: 0.0001, 19698: 0.0001, 14178: 0.0001, 19379: 0.0001, 33763: 0.0002, 13270: 0.0001, 16145: 0.0001, 8829: 0.0001, 27954: 0.0002, 3059: 0.0001, 44632: 0.0001, 49947: 0.0001, 33273: 0.0002, 31857: 0.0001, 43606: 0.0002, 20330: 0.0001, 26409: 0.0002, 43425: 0.0001, 61486: 0.0001, 58926: 0.0001, 37565: 0.0001, 58960: 0.0001, 19981: 0.0001, 41596: 0.0001, 33525: 0.0001, 44826: 0.0001, 47770: 0.0002, 34674: 0.0002, 52509: 0.0001, 7758: 0.0002, 52747: 0.0001, 28546: 0.0001, 23235: 0.0001, 29138: 0.0002, 11558: 0.0002, 51091: 0.0001, 26418: 0.0002, 28829: 0.0001, 9628: 0.0002, 28839: 0.0001, 56331: 0.0001, 15149: 0.0001, 21099: 0.0001, 44768: 0.0002, 49755: 0.0002, 53838: 0.0002, 19338: 0.0001, 2269: 0.0001, 37287: 0.0001, 19853: 0.0001, 5085: 0.0001, 42037: 0.0001, 14115: 0.0001, 53959: 0.0001, 56418: 0.0001, 20860: 0.0001, 6807: 0.0001, 48528: 0.0002, 39601: 0.0003, 13203: 0.0002, 55920: 0.0001, 28231: 0.0001, 52025: 0.0001, 20951: 0.0002, 61089: 0.0001, 28886: 0.0004, 19918: 0.0001, 27441: 0.0002, 22925: 0.0002, 34063: 0.0001, 61898: 0.0001, 60950: 0.0001, 8894: 0.0001, 50358: 0.0001, 26181: 0.0001, 54744: 0.0001, 25387: 0.0001, 46603: 0.0001, 35193: 0.0001, 36379: 0.0001, 51568: 0.0001, 11926: 0.0001, 26532: 0.0001, 64129: 0.0001, 37950: 0.0001, 19054: 0.0001, 12177: 0.0002, 20703: 0.0001, 57900: 0.0001, 15970: 0.0001, 22979: 0.0001, 10492: 0.0001, 41863: 0.0001, 18915: 0.0001, 37812: 0.0001, 21480: 0.0001, 5711: 0.0001, 11619: 0.0001, 52532: 0.0001, 4573: 0.0001, 47410: 0.0001, 34414: 0.0003, 32001: 0.0002, 21596: 0.0001, 9955: 0.0002, 17935: 0.0001, 11512: 0.0001, 51420: 0.0001, 6054: 0.0001, 61589: 0.0001, 27037: 0.0001, 7907: 0.0002, 36619: 0.0001, 19117: 0.0001, 23724: 0.0001, 37624: 0.0002, 37753: 0.0001, 29122: 0.0001, 3135: 0.0001, 19767: 0.0001, 39475: 0.0001, 27405: 0.0001, 14065: 0.0001, 20825: 0.0001, 11973: 0.0001, 42324: 0.0001, 5694: 0.0001, 50610: 0.0001, 42381: 0.0001, 23567: 0.0001, 28304: 0.0002, 28201: 0.0002, 34707: 0.0002, 11177: 0.0002, 35315: 0.0001, 40584: 0.0001, 14150: 0.0001, 9123: 0.0001, 35316: 0.0002, 29285: 0.0001, 17991: 0.0001, 56482: 0.0001, 22687: 0.0001, 26375: 0.0001, 35949: 0.0001, 56768: 0.0001, 34155: 0.0001, 2489: 0.0001, 28901: 0.0002, 5066: 0.0001, 53295: 0.0001, 44188: 0.0002, 28040: 0.0001, 6098: 0.0001, 42575: 0.0001, 31464: 0.0001, 49863: 0.0001, 63312: 0.0001, 53797: 0.0001, 13405: 0.0001, 14209: 0.0001, 49654: 0.0001, 50124: 0.0001, 34109: 0.0002, 15249: 0.0001, 62618: 0.0001, 56113: 0.0001, 51763: 0.0001, 23155: 0.0001, 46504: 0.0001, 39471: 0.0001, 19239: 0.0001, 27706: 0.0001, 40386: 0.0001, 13846: 0.0001, 37699: 0.0001, 52373: 0.0002, 33913: 0.0001, 28104: 0.0002, 50548: 0.0001, 14531: 0.0001, 53907: 0.0001, 31556: 0.0001, 45141: 0.0001, 10162: 0.0001, 62995: 0.0001, 29302: 0.0001, 45118: 0.0001, 12772: 0.0001, 30004: 0.0001, 25994: 0.0002, 50489: 0.0001, 4511: 0.0001, 38124: 0.0002, 45686: 0.0001, 58081: 0.0002, 54117: 0.0001, 60468: 0.0001, 27789: 0.0001, 3446: 0.0001, 11056: 0.0001, 55325: 0.0001, 3815: 0.0001, 27249: 0.0002, 33583: 0.0001, 22798: 0.0002, 34258: 0.0001, 15012: 0.0001, 17742: 0.0002, 38884: 0.0001, 39325: 0.0001, 61908: 0.0001, 51433: 0.0001, 8816: 0.0001, 42334: 0.0001, 42283: 0.0001, 38249: 0.0001, 8351: 0.0001, 40086: 0.0001, 36626: 0.0002, 18645: 0.0002, 55208: 0.0001, 15237: 0.0001, 27458: 0.0001, 46618: 0.0001, 22159: 0.0001, 9204: 0.0001, 9068: 0.0002, 62896: 0.0001, 49997: 0.0001, 49567: 0.0001, 6606: 0.0002, 27992: 0.0002, 22941: 0.0001, 42346: 0.0001, 26041: 0.0001, 21830: 0.0001, 5033: 0.0002, 31751: 0.0001, 40093: 0.0001, 17323: 0.0001, 50578: 0.0001, 35705: 0.0001, 3315: 0.0001, 11718: 0.0001, 5881: 0.0001, 37468: 0.0001, 35275: 0.0001, 64896: 0.0002, 4907: 0.0001, 4702: 0.0001, 4855: 0.0001, 10152: 0.0001, 50860: 0.0001, 36276: 0.0001, 34231: 0.0001, 55348: 0.0002, 57715: 0.0001, 50662: 0.0001, 53001: 0.0001, 3485: 0.0001, 7988: 0.0001, 50986: 0.0001, 50801: 0.0001, 22181: 0.0001, 12173: 0.0001, 28547: 0.0001, 25357: 0.0002, 59108: 0.0001, 50659: 0.0001, 35685: 0.0001, 22700: 0.0001, 14458: 0.0001, 48650: 0.0001, 11434: 0.0001, 27277: 0.0001, 49998: 0.0001, 22356: 0.0001, 363: 0.0001, 5741: 0.0002, 39226: 0.0001, 31636: 0.0002, 3687: 0.0001, 35941: 0.0001, 4064: 0.0001, 11038: 0.0003, 17841: 0.0001, 61552: 0.0001, 19420: 0.0001, 26166: 0.0001, 1522: 0.0001, 56514: 0.0002, 52037: 0.0002, 10182: 0.0001, 62176: 0.0001, 39715: 0.0001, 12179: 0.0001, 26062: 0.0001, 24452: 0.0001, 34023: 0.0001, 16006: 0.0001, 12742: 0.0001, 46634: 0.0001, 34094: 0.0001, 65009: 0.0001, 28981: 0.0002, 42044: 0.0002, 52440: 0.0001, 3486: 0.0001, 33641: 0.0001, 7251: 0.0001, 39337: 0.0001, 19686: 0.0003, 1949: 0.0001, 16137: 0.0001, 39356: 0.0001, 58134: 0.0002, 7544: 0.0003, 17382: 0.0001, 25789: 0.0001, 39516: 0.0002, 39587: 0.0001, 16035: 0.0001, 50058: 0.0002, 22869: 0.0001, 59939: 0.0001, 63735: 0.0001, 19186: 0.0001, 19991: 0.0001, 35619: 0.0001, 24450: 0.0001, 54066: 0.0001, 23097: 0.0001, 40328: 0.0002, 1946: 0.0001, 62993: 0.0001, 38353: 0.0001, 33335: 0.0001, 42556: 0.0001, 40561: 0.0001, 38132: 0.0002, 2987: 0.0001, 12053: 0.0001, 50566: 0.0001, 19682: 0.0001, 39565: 0.0001, 55594: 0.0002, 55482: 0.0001, 44812: 0.0001, 26338: 0.0001, 21865: 0.0001, 45614: 0.0001, 14169: 0.0001, 40472: 0.0001, 63539: 0.0001, 32128: 0.0001, 31253: 0.0001, 11531: 0.0001, 26191: 0.0001, 58610: 0.0001, 40724: 0.0001, 29860: 0.0001, 11761: 0.0001, 12750: 0.0001, 58277: 0.0002, 43653: 0.0001, 39602: 0.0002, 9453: 0.0001, 2893: 0.0001, 64528: 0.0001, 7900: 0.0001, 46481: 0.0001, 11729: 0.0001, 22317: 0.0001, 46406: 0.0001, 9946: 0.0001, 31944: 0.0001, 35641: 0.0001, 64538: 0.0001, 39760: 0.0001, 43173: 0.0001, 53804: 0.0001, 27105: 0.0001, 45707: 0.0001, 1529: 0.0001, 23427: 0.0001, 40162: 0.0001, 34229: 0.0001, 23736: 0.0001, 57104: 0.0002, 20915: 0.0001, 22883: 0.0001, 38699: 0.0001, 53809: 0.0001, 7964: 0.0001, 58654: 0.0001, 37612: 0.0001, 28038: 0.0003, 39701: 0.0001, 33786: 0.0001, 10539: 0.0001, 56096: 0.0001, 58516: 0.0001, 19114: 0.0002, 34583: 0.0001, 3421: 0.0001, 50334: 0.0001, 43054: 0.0001, 28261: 0.0001, 18390: 0.0001, 35756: 0.0001, 31032: 0.0001, 3795: 0.0003, 63108: 0.0002, 38181: 0.0001, 57987: 0.0001, 36391: 0.0001, 50739: 0.0001, 21444: 0.0001, 58563: 0.0001, 15641: 0.0003, 36009: 0.0001, 38832: 0.0002, 34026: 0.0001, 24116: 0.0001, 38726: 0.0001, 62517: 0.0001, 29269: 0.0001, 14194: 0.0001, 35037: 0.0001, 51293: 0.0001, 39845: 0.0001, 8947: 0.0001, 27066: 0.0002, 43342: 0.0001, 22354: 0.0001, 45071: 0.0001, 24373: 0.0001, 61740: 0.0001, 11470: 0.0002, 38670: 0.0001, 35958: 0.0001, 4215: 0.0001, 53062: 0.0001, 55378: 0.0001, 29644: 0.0001, 59170: 0.0001, 3311: 0.0001, 15275: 0.0001, 24635: 0.0001, 43426: 0.0001, 46448: 0.0001, 14025: 0.0002, 38467: 0.0002, 27286: 0.0001, 63618: 0.0001, 36231: 0.0003, 62091: 0.0001, 28762: 0.0001, 46264: 0.0001, 3885: 0.0001, 44421: 0.0001, 28695: 0.0001, 51815: 0.0002, 24032: 0.0002, 11087: 0.0001, 39576: 0.0002, 25399: 0.0001, 13709: 0.0001, 25295: 0.0001, 57842: 0.0001, 40540: 0.0001, 17007: 0.0001, 2036: 0.0001, 33375: 0.0001, 45955: 0.0001, 39536: 0.0001, 56928: 0.0005, 1837: 0.0001, 11945: 0.0002, 38227: 0.0001, 18781: 0.0001, 47704: 0.0001, 42424: 0.0001, 64292: 0.0001, 14566: 0.0001, 41927: 0.0001, 27798: 0.0001, 39505: 0.0001, 16007: 0.0001, 18675: 0.0001, 15692: 0.0001, 53550: 0.0001, 33239: 0.0001, 51389: 0.0001, 30044: 0.0001, 61989: 0.0001, 11181: 0.0001, 63812: 0.0001, 54670: 0.0001, 8951: 0.0001, 4959: 0.0001, 28324: 0.0001, 57927: 0.0001, 42375: 0.0001, 52097: 0.0001, 25663: 0.0001, 11444: 0.0001, 2010: 0.0001, 15419: 0.0001, 42780: 0.0001, 36678: 0.0001, 11099: 0.0001, 25191: 0.0001, 64005: 0.0001, 27782: 0.0001, 4951: 0.0001, 46860: 0.0001, 49393: 0.0001, 33785: 0.0001, 17693: 0.0001, 9465: 0.0001, 12074: 0.0001, 6998: 0.0001, 22298: 0.0001, 52866: 0.0001, 7011: 0.0001, 24822: 0.0001, 5469: 0.0001, 50126: 0.0001, 2989: 0.0001, 50295: 0.0001, 21413: 0.0001, 45514: 0.0002, 4990: 0.0001, 36137: 0.0001, 61455: 0.0001, 8603: 0.0001, 54330: 0.0001, 7625: 0.0002, 53674: 0.0001, 35436: 0.0001, 44449: 0.0001, 42885: 0.0001, 47780: 0.0001, 46722: 0.0001, 41615: 0.0001, 5852: 0.0003, 52600: 0.0001, 18153: 0.0001, 28514: 0.0001, 54704: 0.0001, 41925: 0.0001, 51650: 0.0001, 10938: 0.0001, 45481: 0.0003, 35871: 0.0001, 27884: 0.0002, 42357: 0.0001, 25033: 0.0001, 50538: 0.0002, 20007: 0.0001, 54888: 0.0002, 27042: 0.0002, 21082: 0.0001, 37941: 0.0001, 47280: 0.0001, 29459: 0.0002, 53874: 0.0002, 53096: 0.0001, 54291: 0.0001, 58976: 0.0001, 11508: 0.0002, 4926: 0.0002, 12136: 0.0004, 40588: 0.0002, 21748: 0.0002, 45292: 0.0001, 60356: 0.0001, 11859: 0.0001, 20025: 0.0001, 25901: 0.0001, 50634: 0.0001, 23504: 0.0001, 34975: 0.0001, 57917: 0.0001, 10335: 0.0002, 9587: 0.0001, 22241: 0.0001, 41323: 0.0001, 31820: 0.0001, 34425: 0.0001, 53421: 0.0002, 12973: 0.0001, 45800: 0.0001, 9594: 0.0001, 17393: 0.0001, 30312: 0.0001, 16199: 0.0001, 60202: 0.0001, 61609: 0.0002, 47244: 0.0001, 1957: 0.0002, 13391: 0.0001, 1758: 0.0002, 7388: 0.0001, 64162: 0.0001, 19916: 0.0002, 28564: 0.0001, 63114: 0.0002, 58453: 0.0001, 7848: 0.0001, 3527: 0.0001, 1781: 0.0001, 29142: 0.0001, 50658: 0.0001, 9080: 0.0001, 44171: 0.0001, 20355: 0.0001, 6041: 0.0001, 47105: 0.0001, 14894: 0.0001, 57159: 0.0001, 37849: 0.0001, 34423: 0.0001, 51605: 0.0001, 43704: 0.0002, 43303: 0.0002, 31562: 0.0001, 15921: 0.0002, 52872: 0.0001, 29811: 0.0001, 46117: 0.0002, 23652: 0.0001, 37983: 0.0001, 34847: 0.0001, 21773: 0.0002, 54584: 0.0001, 35221: 0.0001, 42266: 0.0001, 36681: 0.0003, 21845: 0.0001, 34665: 0.0001, 5112: 0.0001, 43884: 0.0001, 11083: 0.0001, 40248: 0.0001, 60169: 0.0001, 26921: 0.0001, 45742: 0.0001, 43464: 0.0003, 46912: 0.0001, 29707: 0.0001, 11924: 0.0001, 3635: 0.0002, 2477: 0.0001, 59813: 0.0001, 37115: 0.0001, 45684: 0.0001, 3881: 0.0001, 13871: 0.0001, 57431: 0.0002, 26226: 0.0001, 34190: 0.0001, 34477: 0.0004, 11375: 0.0001, 1935: 0.0002, 11381: 0.0001, 22119: 0.0001, 55849: 0.0001, 46192: 0.0001, 15569: 0.0002, 34445: 0.0001, 20229: 0.0002, 41333: 0.0001, 59048: 0.0001, 28002: 0.0001, 34319: 0.0001, 61335: 0.0001, 27480: 0.0001, 13222: 0.0002, 16114: 0.0001, 15604: 0.0001, 14820: 0.0001, 24402: 0.0001, 5587: 0.0001, 27489: 0.0001, 16147: 0.0001, 53490: 0.0001, 56465: 0.0001, 39811: 0.0003, 47416: 0.0001, 7144: 0.0001, 13486: 0.0002, 45285: 0.0001, 45685: 0.0001, 20300: 0.0001, 49374: 0.0001, 3787: 0.0001, 38285: 0.0002, 14281: 0.0001, 59909: 0.0001, 21671: 0.0001, 56672: 0.0001, 1785: 0.0001, 14485: 0.0002, 49566: 0.0001, 28229: 0.0001, 9035: 0.0002, 6687: 0.0001, 44272: 0.0001, 51285: 0.0001, 22297: 0.0002, 25577: 0.0001, 25404: 0.0001, 28512: 0.0003, 51291: 0.0002, 17582: 0.0001, 16048: 0.0001, 31520: 0.0001, 21835: 0.0001, 10669: 0.0002, 14101: 0.0001, 53407: 0.0001, 54041: 0.0001, 56355: 0.0001, 10965: 0.0001, 3031: 0.0001, 52803: 0.0002, 45509: 0.0002, 6491: 0.0002, 15637: 0.0001, 9373: 0.0001, 50620: 0.0001, 50037: 0.0001, 42777: 0.0001, 24024: 0.0001, 22496: 0.0002, 40564: 0.0001, 35516: 0.0001, 53339: 0.0001, 22947: 0.0001, 8825: 0.0001, 51603: 0.0001, 53789: 0.0001, 55877: 0.0001, 22716: 0.0001, 61064: 0.0002, 39142: 0.0004, 1882: 0.0002, 53992: 0.0002, 41389: 0.0001, 53137: 0.0002, 48186: 0.0001, 25076: 0.0001, 41319: 0.0003, 7601: 0.0001, 7573: 0.0002, 30950: 0.0002, 64680: 0.0001, 1972: 0.0001, 47655: 0.0001, 63042: 0.0001, 36183: 0.0001, 64164: 0.0001, 49845: 0.0001, 54029: 0.0001, 38191: 0.0001, 11218: 0.0001, 22031: 0.0002, 55457: 0.0001, 13673: 0.0001, 14034: 0.0001, 35550: 0.0001, 36296: 0.0001, 31766: 0.0001, 10156: 0.0001, 25468: 0.0001, 43242: 0.0001, 63113: 0.0001, 7815: 0.0002, 63564: 0.0002, 25516: 0.0002, 43973: 0.0001, 6757: 0.0001, 36489: 0.0001, 5775: 0.0001, 37726: 0.0001, 10190: 0.0001, 14256: 0.0002, 39753: 0.0003, 20854: 0.0002, 18229: 0.0001, 57387: 0.0001, 18929: 0.0001, 40672: 0.0001, 27043: 0.0001, 15506: 0.0001, 57769: 0.0002, 20404: 0.0001, 24480: 0.0001, 63749: 0.0001, 19690: 0.0001, 5985: 0.0001, 29709: 0.0001, 60966: 0.0001, 62765: 0.0001, 34206: 0.0002, 29843: 0.0001, 25724: 0.0002, 61788: 0.0001, 55697: 0.0001, 44937: 0.0001, 8689: 0.0001, 22931: 0.0001, 25742: 0.0001, 44055: 0.0001, 7377: 0.0001, 1527: 0.0001, 34044: 0.0001, 13690: 0.0001, 9918: 0.0001, 48450: 0.0004, 11690: 0.0001, 23612: 0.0001, 21240: 0.0001, 58534: 0.0001, 16100: 0.0001, 51548: 0.0001, 21880: 0.0002, 38534: 0.0001, 50298: 0.0002, 29451: 0.0002, 17591: 0.0001, 26536: 0.0001, 42680: 0.0001, 13936: 0.0002, 47274: 0.0001, 319: 0.0001, 36694: 0.0001, 48143: 0.0001, 42779: 0.0001, 14776: 0.0001, 57454: 0.0002, 12522: 0.0001, 43234: 0.0001, 56002: 0.0001, 43781: 0.0001, 60616: 0.0001, 44389: 0.0001, 14155: 0.0002, 7285: 0.0002, 43249: 0.0001, 23086: 0.0001, 25894: 0.0001, 35704: 0.0001, 35443: 0.0002, 45342: 0.0001, 21196: 0.0001, 52084: 0.0002, 61777: 0.0001, 20110: 0.0002, 56469: 0.0001, 14397: 0.0001, 3561: 0.0001, 39561: 0.0001, 54328: 0.0001, 51075: 0.0001, 47794: 0.0001, 57203: 0.0001, 61558: 0.0001, 29018: 0.0001, 54823: 0.0001, 55843: 0.0001, 17844: 0.0001, 17133: 0.0001, 44872: 0.0001, 12955: 0.0002, 28987: 0.0001, 29773: 0.0001, 57809: 0.0002, 12636: 0.0001, 21035: 0.0001, 31050: 0.0001, 24396: 0.0001, 58772: 0.0003, 34375: 0.0001, 7408: 0.0001, 23904: 0.0001, 52283: 0.0001, 37620: 0.0001, 15889: 0.0001, 41905: 0.0001, 50726: 0.0001, 7315: 0.0001, 15657: 0.0001, 12012: 0.0001, 28292: 0.0001, 22957: 0.0001, 3025: 0.0001, 55889: 0.0001, 24701: 0.0001, 18339: 0.0001, 45907: 0.0001, 20172: 0.0001, 5098: 0.0001, 43527: 0.0001, 27348: 0.0002, 42797: 0.0001, 62536: 0.0001, 46817: 0.0001, 56818: 0.0001, 9466: 0.0001, 54840: 0.0001, 51672: 0.0002, 3817: 0.0001, 39986: 0.0001, 31060: 0.0001, 39820: 0.0001, 12715: 0.0001, 57974: 0.0001, 26805: 0.0001, 12395: 0.0001, 30869: 0.0001, 12120: 0.0001, 18930: 0.0001, 48960: 0.0001, 17082: 0.0001, 32416: 0.0001, 31180: 0.0002, 5591: 0.0002, 42723: 0.0001, 22220: 0.0001, 47331: 0.0002, 50836: 0.0001, 50290: 0.0001, 12181: 0.0001, 53365: 0.0001, 41798: 0.0001, 24997: 0.0002, 9147: 0.0001, 49823: 0.0002, 18166: 0.0001, 11730: 0.0002, 56992: 0.0001, 11121: 0.0001, 26259: 0.0001, 33259: 0.0001, 6347: 0.0001, 17366: 0.0002, 42385: 0.0001, 12785: 0.0002, 43968: 0.0002, 16830: 0.0001, 12227: 0.0001, 44233: 0.0001, 37271: 0.0001, 13113: 0.0001, 63664: 0.0002, 30897: 0.0002, 62538: 0.0002, 27985: 0.0002, 36061: 0.0003, 29428: 0.0002, 7401: 0.0001, 44441: 0.0001, 59980: 0.0002, 44712: 0.0004, 22992: 0.0001, 33981: 0.0001, 5561: 0.0001, 20386: 0.0001, 15074: 0.0001, 46696: 0.0001, 36911: 0.0001, 6510: 0.0001, 27213: 0.0001, 46476: 0.0001, 22667: 0.0001, 41398: 0.0001, 19291: 0.0001, 17148: 0.0002, 36259: 0.0002, 15976: 0.0001, 41503: 0.0002, 35039: 0.0001, 27313: 0.0002, 10895: 0.0001, 10869: 0.0001, 59344: 0.0001, 33207: 0.0001, 54470: 0.0002, 53397: 0.0001, 59816: 0.0001, 45542: 0.0001, 3647: 0.0001, 46225: 0.0002, 11932: 0.0002, 15951: 0.0001, 10912: 0.0001, 19763: 0.0001, 14572: 0.0001, 13335: 0.0001, 29026: 0.0001, 34739: 0.0001, 22994: 0.0001, 27015: 0.0002, 2839: 0.0001, 29795: 0.0001, 42689: 0.0001, 35187: 0.0001, 8034: 0.0002, 21895: 0.0001, 52036: 0.0001, 58966: 0.0001, 61313: 0.0001, 14549: 0.0001, 57093: 0.0001, 48298: 0.0001, 33747: 0.0001, 36430: 0.0002, 1895: 0.0001, 33451: 0.0001, 27755: 0.0001, 31365: 0.0001, 41806: 0.0002, 58054: 0.0001, 40242: 0.0001, 31557: 0.0002, 5975: 0.0001, 36760: 0.0001, 6751: 0.0001, 46825: 0.0001, 15532: 0.0001, 28982: 0.0002, 10053: 0.0001, 29642: 0.0001, 63684: 0.0001, 23397: 0.0001, 4335: 0.0001, 54105: 0.0001, 4041: 0.0001, 27242: 0.0002, 28857: 0.0002, 49295: 0.0001, 52364: 0.0001, 41868: 0.0001, 13485: 0.0001, 31109: 0.0001, 4005: 0.0001, 9468: 0.0001, 53465: 0.0001, 48661: 0.0002, 15665: 0.0002, 41462: 0.0001, 51859: 0.0002, 34511: 0.0001, 23988: 0.0001, 21900: 0.0001, 10031: 0.0001, 55064: 0.0001, 47252: 0.0001, 65215: 0.0001, 8067: 0.0001, 6516: 0.0001, 23116: 0.0001, 25434: 0.0001, 20448: 0.0002, 34705: 0.0001, 44370: 0.0001, 61057: 0.0001, 51042: 0.0002, 54753: 0.0001, 1485: 0.0001, 18404: 0.0002, 35241: 0.0001, 62281: 0.0001, 31440: 0.0001, 61670: 0.0001, 871: 0.0001, 42865: 0.0001, 49183: 0.0001, 30906: 0.0001, 31392: 0.0001, 50661: 0.0001, 9469: 0.0001, 32368: 0.0001, 19312: 0.0001, 33950: 0.0001, 16200: 0.0002, 45897: 0.0001, 23857: 0.0001, 19929: 0.0001, 54084: 0.0001, 59732: 0.0002, 26247: 0.0001, 14707: 0.0001, 34681: 0.0001, 31140: 0.0001, 31841: 0.0004, 2863: 0.0003, 55045: 0.0001, 55046: 0.0003, 51832: 0.0001, 22122: 0.0001, 14644: 0.0001, 57526: 0.0002, 43633: 0.0001, 61831: 0.0001, 31178: 0.0001, 23370: 0.0002, 37242: 0.0001, 30282: 0.0001, 52340: 0.0001, 48151: 0.0002, 57024: 0.0002, 26290: 0.0001, 24942: 0.0002, 48904: 0.0002, 59120: 0.0001, 1462: 0.0001, 25840: 0.0001, 64876: 0.0001, 51452: 0.0001, 28050: 0.0001, 17146: 0.0001, 31082: 0.0003, 26268: 0.0001, 431: 0.0001, 8527: 0.0001, 38806: 0.0001, 22955: 0.0002, 11142: 0.0001, 35627: 0.0002, 41813: 0.0001, 6387: 0.0001, 27568: 0.0001, 56016: 0.0001, 26899: 0.0001, 27523: 0.0001, 9047: 0.0001, 60469: 0.0001, 11357: 0.0001, 3663: 0.0001, 46560: 0.0002, 52361: 0.0001, 3950: 0.0001, 5027: 0.0001, 31494: 0.0001, 11964: 0.0001, 3933: 0.0001, 40515: 0.0001, 50425: 0.0001, 53406: 0.0001, 18678: 0.0001, 23436: 0.0001, 34215: 0.0003, 4911: 0.0002, 5923: 0.0001, 46133: 0.0002, 51015: 0.0002, 58224: 0.0003, 52324: 0.0002, 7769: 0.0001, 59940: 0.0001, 46195: 0.0001, 5717: 0.0001, 15941: 0.0001, 18921: 0.0001, 49971: 0.0002, 14224: 0.0001, 29640: 0.0002, 49327: 0.0002, 3995: 0.0001, 30598: 0.0001, 3570: 0.0003, 38683: 0.0001, 60945: 0.0001, 6492: 0.0001, 47334: 0.0001, 20252: 0.0002, 42159: 0.0001, 36566: 0.0002, 54964: 0.0001, 59960: 0.0001, 53277: 0.0001, 18591: 0.0001, 54881: 0.0002, 27293: 0.0001, 3507: 0.0001, 38927: 0.0001, 44325: 0.0001, 29109: 0.0001, 52594: 0.0001, 37023: 0.0001, 51311: 0.0001, 55439: 0.0001, 32320: 0.0001, 43613: 0.0001, 64098: 0.0002, 53898: 0.0001, 55640: 0.0001, 13733: 0.0001, 1199: 0.0001, 58661: 0.0001, 13197: 0.0001, 48142: 0.0002, 5493: 0.0001, 40038: 0.0001, 54837: 0.0001, 64161: 0.0001, 31505: 0.0001, 49743: 0.0001, 58200: 0.0001, 52705: 0.0001, 30357: 0.0001, 19566: 0.0001, 11975: 0.0001, 29213: 0.0001, 17859: 0.0001, 25301: 0.0001, 65056: 0.0001, 64272: 0.0001, 40049: 0.0001, 38110: 0.0001, 35537: 0.0001, 52810: 0.0001, 43323: 0.0001, 42291: 0.0001, 57660: 0.0001, 13078: 0.0001, 21049: 0.0001, 63249: 0.0002, 41819: 0.0001, 20298: 0.0001, 47768: 0.0002, 35446: 0.0001, 23674: 0.0001, 11571: 0.0001, 24982: 0.0001, 45894: 0.0001, 14543: 0.0001, 33258: 0.0001, 19155: 0.0001, 33659: 0.0001, 16146: 0.0002, 59411: 0.0001, 27496: 0.0001, 24655: 0.0001, 59690: 0.0001, 50132: 0.0001, 53862: 0.0001, 35947: 0.0001, 53590: 0.0002, 30894: 0.0001, 21915: 0.0001, 19623: 0.0001, 19859: 0.0001, 60430: 0.0001, 22968: 0.0001, 10951: 0.0002, 25751: 0.0002, 51952: 0.0001, 13650: 0.0001, 23075: 0.0001, 19394: 0.0001, 29544: 0.0001, 39815: 0.0001, 26139: 0.0002, 58308: 0.0002, 32033: 0.0001, 51295: 0.0001, 3762: 0.0001, 45625: 0.0001, 31632: 0.0002, 61645: 0.0001, 50418: 0.0001, 26931: 0.0001, 53275: 0.0001, 49562: 0.0001, 48321: 0.0001, 952: 0.0001, 34700: 0.0001, 25490: 0.0001, 29808: 0.0001, 25401: 0.0001, 25239: 0.0002, 49617: 0.0001, 39038: 0.0001, 40462: 0.0002, 32470: 0.0001, 8886: 0.0001, 27301: 0.0001, 51653: 0.0001, 55136: 0.0001, 50266: 0.0001, 23886: 0.0001, 36057: 0.0002, 29041: 0.0002, 39410: 0.0001, 54358: 0.0001, 23971: 0.0001, 21557: 0.0001, 48686: 0.0001, 5075: 0.0001, 59470: 0.0001, 5738: 0.0001, 43187: 0.0003, 6009: 0.0001, 34482: 0.0001, 26161: 0.0001, 7731: 0.0001, 48008: 0.0001, 509: 0.0001, 44596: 0.0001, 56134: 0.0001, 60188: 0.0001, 27044: 0.0002, 37276: 0.0001, 31114: 0.0003, 19563: 0.0001, 8036: 0.0001, 55700: 0.0002, 28432: 0.0001, 34235: 0.0001, 21354: 0.0001, 58156: 0.0003, 7850: 0.0002, 26919: 0.0001, 41388: 0.0001, 12406: 0.0001, 23217: 0.0001, 28899: 0.0003, 45653: 0.0001, 13545: 0.0001, 9871: 0.0001, 27250: 0.0001, 36123: 0.0002, 16637: 0.0001, 58697: 0.0001, 49551: 0.0001, 19363: 0.0001, 32424: 0.0001, 58977: 0.0001, 14578: 0.0002, 19169: 0.0001, 58216: 0.0001, 39777: 0.0001, 57040: 0.0001, 58695: 0.0001, 57561: 0.0001, 999: 0.0001, 13974: 0.0002, 65040: 0.0002, 42074: 0.0001, 39726: 0.0001, 21420: 0.0001, 59924: 0.0001, 16458: 0.0001, 18783: 0.0001, 37100: 0.0002, 31576: 0.0001, 8021: 0.0001, 19339: 0.0001, 10994: 0.0001, 11733: 0.0001, 16192: 0.0001, 6270: 0.0001, 44489: 0.0001, 29995: 0.0001, 25887: 0.0001, 29849: 0.0001, 32259: 0.0002, 39580: 0.0001, 22153: 0.0001, 2300: 0.0001, 48404: 0.0001, 13283: 0.0001, 14104: 0.0001, 48659: 0.0001, 43378: 0.0001, 42433: 0.0001, 5215: 0.0001, 22615: 0.0001, 52437: 0.0001, 27194: 0.0001, 18137: 0.0001, 11112: 0.0001, 9645: 0.0002, 42382: 0.0001, 34187: 0.0001, 41944: 0.0003, 14479: 0.0001, 13491: 0.0001, 43876: 0.0001, 58097: 0.0001, 54825: 0.0001, 40207: 0.0001, 61802: 0.0001, 41325: 0.0001, 19401: 0.0003, 20244: 0.0001, 56898: 0.0001, 41874: 0.0001, 18619: 0.0002, 23303: 0.0003, 36621: 0.0001, 45808: 0.0001, 50083: 0.0001, 17966: 0.0001, 11211: 0.0001, 21854: 0.0001, 32356: 0.0001, 53925: 0.0001, 10061: 0.0001, 44114: 0.0001, 23089: 0.0001, 15817: 0.0001, 54824: 0.0001, 41749: 0.0002, 15576: 0.0001, 14452: 0.0001, 26926: 0.0002, 56335: 0.0001, 28468: 0.0001, 43969: 0.0001, 37748: 0.0001, 9071: 0.0001, 47434: 0.0002, 9703: 0.0001, 5830: 0.0001, 43468: 0.0001, 29513: 0.0001, 21549: 0.0001, 45390: 0.0001, 30085: 0.0001, 46768: 0.0001, 23520: 0.0002, 58637: 0.0001, 52105: 0.0001, 52758: 0.0001, 42539: 0.0001, 64800: 0.0001, 41083: 0.0002, 20839: 0.0001, 48664: 0.0001, 37091: 0.0001, 27340: 0.0001, 60956: 0.0002, 25373: 0.0001, 59917: 0.0001, 23117: 0.0001, 56066: 0.0001, 51633: 0.0001, 60179: 0.0001, 12068: 0.0001, 51596: 0.0001, 10575: 0.0002, 23970: 0.0001, 14926: 0.0001, 21321: 0.0001, 10930: 0.0001, 50652: 0.0001, 28870: 0.0001, 28113: 0.0001, 46393: 0.0001, 25662: 0.0001, 63576: 0.0002, 27461: 0.0001, 43754: 0.0001, 62853: 0.0001, 12054: 0.0001, 42093: 0.0001, 20530: 0.0001, 5093: 0.0001, 29141: 0.0002, 53970: 0.0001, 25974: 0.0001, 7369: 0.0001, 36003: 0.0001, 13507: 0.0001, 31138: 0.0003, 50481: 0.0002, 2782: 0.0001, 48432: 0.0001, 22834: 0.0001, 34662: 0.0001, 19310: 0.0001, 8935: 0.0001, 54490: 0.0001, 37980: 0.0001, 33006: 0.0002, 3001: 0.0001, 17807: 0.0002, 13363: 0.0001, 38460: 0.0001, 27430: 0.0001, 25165: 0.0001, 59674: 0.0001, 28233: 0.0001, 45560: 0.0001, 17067: 0.0002, 53785: 0.0001, 28777: 0.0001, 32323: 0.0001, 23067: 0.0001, 43687: 0.0001, 52580: 0.0001, 38234: 0.0002, 50565: 0.0001, 9011: 0.0002, 35283: 0.0001, 42470: 0.0001, 54082: 0.0001, 21445: 0.0001, 13621: 0.0001, 23846: 0.0001, 41701: 0.0001, 47404: 0.0001, 62760: 0.0002, 7960: 0.0001, 22630: 0.0001, 52811: 0.0001, 48449: 0.0001, 24353: 0.0001, 19397: 0.0001, 49341: 0.0002, 26513: 0.0002, 3884: 0.0001, 39139: 0.0003, 47779: 0.0001, 25080: 0.0002, 37716: 0.0001, 57914: 0.0001, 5869: 0.0001, 989: 0.0002, 23209: 0.0002, 50476: 0.0001, 43403: 0.0001, 25014: 0.0001, 10907: 0.0002, 15080: 0.0001, 8813: 0.0001, 44828: 0.0001, 27811: 0.0001, 23488: 0.0001, 51477: 0.0001, 58545: 0.0002, 53626: 0.0001, 23457: 0.0001, 38769: 0.0001, 13020: 0.0001, 28241: 0.0001, 34357: 0.0002, 19306: 0.0002, 37223: 0.0001, 55721: 0.0002, 57615: 0.0002, 31303: 0.0001, 22309: 0.0001, 52382: 0.0001, 46661: 0.0001, 1267: 0.0001, 21804: 0.0001, 31116: 0.0001, 48269: 0.0001, 57097: 0.0001, 54474: 0.0001, 15511: 0.0002, 11836: 0.0002, 29838: 0.0001, 15672: 0.0001, 43190: 0.0001, 31972: 0.0002, 54471: 0.0001, 16671: 0.0001, 11736: 0.0001, 60324: 0.0001, 30952: 0.0001, 52177: 0.0001, 38038: 0.0001, 7191: 0.0001, 43798: 0.0001, 62064: 0.0001, 2026: 0.0003, 3738: 0.0002, 42292: 0.0001, 27585: 0.0001, 2533: 0.0002, 61080: 0.0001, 16927: 0.0001, 50387: 0.0001, 22874: 0.0001, 46229: 0.0001, 64642: 0.0001, 20894: 0.0001, 26930: 0.0001, 44163: 0.0001, 5966: 0.0001, 38230: 0.0002, 15516: 0.0001, 23945: 0.0001, 37814: 0.0001, 44737: 0.0002, 9916: 0.0003, 26745: 0.0001, 38198: 0.0001, 15056: 0.0001, 16259: 0.0001, 6905: 0.0001, 23716: 0.0001, 477: 0.0001, 35417: 0.0001, 46126: 0.0001, 29537: 0.0002, 50920: 0.0001, 58649: 0.0002, 40660: 0.0001, 25788: 0.0001, 37808: 0.0001, 20667: 0.0001, 40753: 0.0001, 5227: 0.0001, 18328: 0.0001, 61716: 0.0001, 35095: 0.0001, 39161: 0.0001, 20246: 0.0001, 11610: 0.0001, 26379: 0.0001, 60352: 0.0001, 3435: 0.0001, 39127: 0.0001, 21790: 0.0001, 44450: 0.0001, 22713: 0.0001, 3197: 0.0002, 3928: 0.0001, 33640: 0.0001, 23342: 0.0001, 7020: 0.0001, 27060: 0.0001, 21789: 0.0001, 40220: 0.0001, 24101: 0.0001, 7124: 0.0001, 27918: 0.0001, 12597: 0.0001, 6642: 0.0001, 27768: 0.0001, 36329: 0.0001, 56712: 0.0003, 56455: 0.0001, 38852: 0.0001, 46838: 0.0001, 6084: 0.0001, 19597: 0.0001, 28295: 0.0001, 62025: 0.0001, 38586: 0.0001, 33586: 0.0001, 25961: 0.0002, 35621: 0.0001, 25066: 0.0002, 50404: 0.0001, 27470: 0.0001, 10117: 0.0001, 53040: 0.0001, 6266: 0.0001, 34030: 0.0001, 29528: 0.0002, 41318: 0.0001, 19352: 0.0001, 60678: 0.0002, 23433: 0.0001, 4767: 0.0003, 54417: 0.0001, 62248: 0.0001, 35700: 0.0001, 45359: 0.0001, 37085: 0.0001, 9127: 0.0001, 6547: 0.0003, 21117: 0.0001, 36581: 0.0001, 29490: 0.0002, 57798: 0.0002, 20142: 0.0001, 29797: 0.0001, 21054: 0.0001, 40213: 0.0002, 19215: 0.0001, 37107: 0.0001, 18463: 0.0002, 49643: 0.0001, 50711: 0.0002, 10151: 0.0001, 57703: 0.0001, 55637: 0.0001, 52772: 0.0001, 34226: 0.0001, 11822: 0.0001, 11206: 0.0001, 38235: 0.0001, 24388: 0.0003, 43162: 0.0001, 6463: 0.0001, 19247: 0.0001, 11929: 0.0001, 12860: 0.0001, 26779: 0.0001, 20914: 0.0001, 46124: 0.0001, 31682: 0.0002, 33251: 0.0001, 58228: 0.0001, 7740: 0.0001, 37183: 0.0001, 24150: 0.0001, 25562: 0.0002, 49894: 0.0001, 16831: 0.0001, 52317: 0.0003, 18291: 0.0001, 38581: 0.0001, 25817: 0.0001, 14935: 0.0001, 42271: 0.0002, 29003: 0.0001, 43617: 0.0001, 30101: 0.0001, 23213: 0.0001, 42397: 0.0001, 7658: 0.0001, 47444: 0.0001, 55846: 0.0001, 56528: 0.0001, 20418: 0.0001, 43729: 0.0001, 20969: 0.0001, 54599: 0.0001, 33722: 0.0001, 38137: 0.0001, 11233: 0.0001, 15148: 0.0002, 20879: 0.0001, 50076: 0.0002, 19149: 0.0001, 30538: 0.0001, 41337: 0.0001, 38731: 0.0001, 41771: 0.0001, 42598: 0.0001, 34225: 0.0001, 43802: 0.0002, 3900: 0.0001, 58548: 0.0001, 26903: 0.0001, 45944: 0.0001, 6005: 0.0001, 20428: 0.0001, 23193: 0.0001, 31885: 0.0001, 25149: 0.0001, 46982: 0.0001, 5910: 0.0001, 12407: 0.0001, 8303: 0.0001, 51176: 0.0001, 6057: 0.0001, 29609: 0.0001, 19173: 0.0001, 5399: 0.0001, 11371: 0.0001, 39766: 0.0001, 40741: 0.0003, 30376: 0.0001, 35023: 0.0001, 49674: 0.0001, 62210: 0.0001, 26104: 0.0002, 44197: 0.0002, 36390: 0.0001, 19546: 0.0001, 25844: 0.0001, 18277: 0.0001, 55845: 0.0001, 43946: 0.0001, 22322: 0.0003, 41688: 0.0001, 8670: 0.0001, 13850: 0.0001, 30485: 0.0001, 21625: 0.0001, 1909: 0.0001, 28852: 0.0001, 18009: 0.0001, 15146: 0.0001, 17319: 0.0001, 29468: 0.0001, 37774: 0.0002, 12106: 0.0002, 21225: 0.0001, 13037: 0.0001, 13288: 0.0001, 14607: 0.0001, 17330: 0.0001, 6045: 0.0001, 24086: 0.0003, 47641: 0.0001, 18495: 0.0001, 43984: 0.0001, 44418: 0.0001, 8278: 0.0001, 34351: 0.0001, 18558: 0.0001, 10470: 0.0001, 34554: 0.0001, 22286: 0.0001, 51884: 0.0001, 21948: 0.0001, 4475: 0.0001, 24814: 0.0001, 27814: 0.0001, 14391: 0.0002, 44357: 0.0002, 31298: 0.0001, 53303: 0.0001, 39763: 0.0001, 22428: 0.0001, 13560: 0.0001, 53929: 0.0001, 5347: 0.0001, 35764: 0.0001, 35103: 0.0001, 7906: 0.0001, 41689: 0.0003, 12789: 0.0002, 22172: 0.0001, 11377: 0.0001, 1717: 0.0001, 48651: 0.0001, 60465: 0.0001, 61060: 0.0001, 58585: 0.0001, 44588: 0.0001, 33320: 0.0001, 12144: 0.0001, 4731: 0.0001, 35735: 0.0001, 53880: 0.0001, 12718: 0.0001, 60496: 0.0001, 36596: 0.0001, 3725: 0.0002, 21607: 0.0002, 14643: 0.0001, 57463: 0.0001, 7741: 0.0001, 12208: 0.0001, 479: 0.0001, 20835: 0.0001, 60473: 0.0001, 49751: 0.0002, 44740: 0.0001, 5619: 0.0001, 7794: 0.0001, 13973: 0.0001, 50730: 0.0001, 23363: 0.0002, 24089: 0.0001, 23823: 0.0001, 52868: 0.0001, 22708: 0.0001, 3316: 0.0001, 47317: 0.0001, 5475: 0.0001, 7378: 0.0001, 21876: 0.0001, 3944: 0.0001, 46067: 0.0001, 35285: 0.0001, 25687: 0.0002, 27364: 0.0001, 36592: 0.0002, 51081: 0.0001, 48544: 0.0001, 49645: 0.0001, 53941: 0.0001, 52013: 0.0001, 7499: 0.0001, 12264: 0.0001, 32640: 0.0001, 53744: 0.0001, 62576: 0.0001, 14415: 0.0001, 50263: 0.0002, 62988: 0.0001, 63681: 0.0001, 7732: 0.0001, 60832: 0.0001, 45688: 0.0001, 58124: 0.0001, 38122: 0.0001, 33367: 0.0002, 13626: 0.0001, 47972: 0.0001, 24983: 0.0002, 9906: 0.0001, 43188: 0.0001, 59971: 0.0001, 59798: 0.0001, 34277: 0.0001, 5609: 0.0002, 44822: 0.0001, 21814: 0.0001, 22998: 0.0002, 6990: 0.0001, 48139: 0.0001, 7077: 0.0001, 31755: 0.0002, 30528: 0.0001, 48428: 0.0001, 46260: 0.0001, 2855: 0.0001, 55978: 0.0001, 27084: 0.0001, 28052: 0.0003, 22590: 0.0003, 58310: 0.0001, 42199: 0.0001, 13966: 0.0001, 22803: 0.0001, 25245: 0.0001, 47206: 0.0001, 58053: 0.0002, 47373: 0.0001, 16874: 0.0003, 46660: 0.0001, 22772: 0.0001, 45747: 0.0001, 11581: 0.0001, 17629: 0.0001, 2741: 0.0001, 41805: 0.0001, 42507: 0.0001, 19416: 0.0001, 19347: 0.0003, 59667: 0.0001, 14441: 0.0001, 8717: 0.0001, 11497: 0.0002, 50865: 0.0002, 8783: 0.0001, 35553: 0.0002, 58084: 0.0001, 63589: 0.0001, 28066: 0.0001, 36429: 0.0001, 13378: 0.0001, 41713: 0.0001, 61606: 0.0001, 46364: 0.0001, 38282: 0.0001, 20340: 0.0001, 26977: 0.0001, 47638: 0.0001, 7032: 0.0001, 52656: 0.0003, 5805: 0.0001, 30938: 0.0001, 10683: 0.0001, 54104: 0.0001, 47500: 0.0001, 31785: 0.0002, 46000: 0.0001, 28194: 0.0001, 30544: 0.0001, 1470: 0.0001, 47262: 0.0001, 7859: 0.0001, 15265: 0.0002, 45545: 0.0001, 34491: 0.0001, 63750: 0.0002, 50520: 0.0001, 22174: 0.0002, 9263: 0.0002, 24456: 0.0001, 50951: 0.0002, 27054: 0.0001, 5530: 0.0001, 42391: 0.0001, 60489: 0.0002, 3822: 0.0001, 26276: 0.0001, 37730: 0.0001, 53962: 0.0001, 54822: 0.0001, 21868: 0.0001, 45866: 0.0001, 54732: 0.0001, 56228: 0.0001, 755: 0.0001, 2525: 0.0001, 52998: 0.0001, 58766: 0.0001, 57498: 0.0001, 27452: 0.0001, 45420: 0.0003, 49498: 0.0001, 27554: 0.0001, 19125: 0.0001, 10910: 0.0001, 60864: 0.0001, 54886: 0.0001, 23220: 0.0001, 37349: 0.0001, 11294: 0.0001, 12598: 0.0001, 13242: 0.0001, 10045: 0.0001, 58924: 0.0001, 60289: 0.0001, 57863: 0.0001, 54380: 0.0001, 63376: 0.0001, 15666: 0.0001, 30596: 0.0001, 41194: 0.0001, 62085: 0.0002, 17338: 0.0001, 43698: 0.0001, 49649: 0.0001, 21914: 0.0001, 47812: 0.0001, 5940: 0.0001, 50150: 0.0001, 23850: 0.0001, 52523: 0.0001, 23322: 0.0001, 25320: 0.0002, 18831: 0.0001, 56612: 0.0001, 26777: 0.0001, 26279: 0.0001, 1691: 0.0001, 1997: 0.0002, 7495: 0.0002, 2805: 0.0001, 1869: 0.0001, 35003: 0.0001, 5482: 0.0001, 23629: 0.0001, 32512: 0.0001, 39398: 0.0001, 62368: 0.0001, 41891: 0.0001, 21929: 0.0002, 17119: 0.0001, 28129: 0.0001, 21401: 0.0001, 41359: 0.0001, 19283: 0.0001, 50586: 0.0001, 14755: 0.0002, 56776: 0.0001, 49831: 0.0001, 14998: 0.0002, 50082: 0.0001, 29298: 0.0001, 13001: 0.0001, 42897: 0.0001, 41147: 0.0001, 27285: 0.0002, 45355: 0.0002, 29130: 0.0001, 46017: 0.0002, 22939: 0.0001, 63794: 0.0001, 43826: 0.0001, 36170: 0.0001, 45862: 0.0001, 60033: 0.0001, 26322: 0.0001, 23847: 0.0001, 34157: 0.0001, 56708: 0.0001, 11589: 0.0001, 36421: 0.0001, 50494: 0.0001, 57096: 0.0001, 48176: 0.0002, 43352: 0.0001, 30762: 0.0001, 12070: 0.0002, 42157: 0.0002, 45428: 0.0001, 17363: 0.0001, 15700: 0.0001, 6811: 0.0001, 20103: 0.0001, 53452: 0.0001, 11359: 0.0001, 55668: 0.0001, 45674: 0.0001, 33518: 0.0001, 34891: 0.0001, 12658: 0.0001, 41310: 0.0001, 34693: 0.0001, 2422: 0.0002, 34217: 0.0001, 33687: 0.0002, 45212: 0.0001, 39222: 0.0002, 8729: 0.0001, 11744: 0.0001, 56168: 0.0001, 47800: 0.0001, 45962: 0.0001, 12924: 0.0001, 46753: 0.0001, 52328: 0.0003, 57907: 0.0001, 39251: 0.0001, 22114: 0.0001, 56405: 0.0001, 14304: 0.0001, 64536: 0.0002, 55573: 0.0001, 50630: 0.0001, 56070: 0.0001, 19948: 0.0002, 10726: 0.0002, 13161: 0.0002, 56581: 0.0001, 3750: 0.0001, 39006: 0.0002, 27862: 0.0001, 64136: 0.0002, 35793: 0.0001, 3798: 0.0002, 3022: 0.0001, 20723: 0.0001, 30809: 0.0002, 49491: 0.0001, 52396: 0.0001, 28213: 0.0002, 26981: 0.0001, 11065: 0.0001, 11237: 0.0001, 54868: 0.0001, 54595: 0.0001, 5603: 0.0001, 51816: 0.0001, 13723: 0.0001, 49711: 0.0001, 18401: 0.0001, 15478: 0.0001, 31382: 0.0001, 25884: 0.0002, 39596: 0.0001, 40536: 0.0001, 27795: 0.0003, 37167: 0.0002, 42286: 0.0001, 7703: 0.0001, 62213: 0.0001, 21389: 0.0001, 21070: 0.0001, 26261: 0.0002, 42531: 0.0001, 6037: 0.0001, 49996: 0.0001, 54896: 0.0001, 61971: 0.0001, 9716: 0.0001, 11864: 0.0001, 15724: 0.0001, 36746: 0.0002, 23099: 0.0001, 58468: 0.0001, 31036: 0.0001, 45199: 0.0001, 34738: 0.0001, 43191: 0.0001, 50650: 0.0001, 57509: 0.0001, 42437: 0.0002, 40774: 0.0001, 22282: 0.0003, 26932: 0.0001, 43721: 0.0001, 14633: 0.0001, 52338: 0.0001, 55043: 0.0001, 24694: 0.0001, 49799: 0.0001, 17499: 0.0001, 42371: 0.0001, 37039: 0.0004, 19770: 0.0001, 20107: 0.0001, 52815: 0.0001, 11676: 0.0001, 27147: 0.0001, 21488: 0.0001, 8018: 0.0001, 53533: 0.0001, 58428: 0.0001, 26499: 0.0001, 38796: 0.0001, 52326: 0.0002, 52593: 0.0001, 64066: 0.0001, 43260: 0.0001, 22257: 0.0001, 61597: 0.0001, 56649: 0.0001, 50067: 0.0001, 30488: 0.0002, 55566: 0.0001, 29270: 0.0001, 42918: 0.0001, 58034: 0.0001, 50605: 0.0001, 4763: 0.0001, 13579: 0.0001, 38613: 0.0001, 20849: 0.0001, 21813: 0.0001, 23893: 0.0001, 24404: 0.0001, 39242: 0.0001, 40401: 0.0001, 54807: 0.0001, 52448: 0.0001, 26806: 0.0003, 13085: 0.0002, 11315: 0.0002, 44642: 0.0001, 30989: 0.0001, 50238: 0.0001, 59832: 0.0001, 41932: 0.0001, 38951: 0.0001, 53047: 0.0001, 53676: 0.0001, 51323: 0.0001, 54073: 0.0001, 45159: 0.0001, 51595: 0.0001, 27889: 0.0001, 57152: 0.0001, 24863: 0.0001, 36438: 0.0001, 63504: 0.0001, 16296: 0.0002, 7595: 0.0001, 12167: 0.0001, 29102: 0.0001, 54149: 0.0001, 52327: 0.0001, 44433: 0.0001, 13032: 0.0001, 52321: 0.0002, 55875: 0.0002, 54186: 0.0001, 34757: 0.0001, 21441: 0.0001, 34550: 0.0001, 27558: 0.0001, 36066: 0.0001, 8542: 0.0001, 12889: 0.0001, 12925: 0.0001, 46881: 0.0001, 55310: 0.0001, 63570: 0.0001, 18352: 0.0001, 58484: 0.0001, 53705: 0.0001, 30757: 0.0001, 11037: 0.0001, 41969: 0.0001, 21333: 0.0001, 52072: 0.0001, 43252: 0.0001, 54578: 0.0001, 55631: 0.0001, 36532: 0.0001, 39844: 0.0002, 36238: 0.0001, 47314: 0.0001, 21364: 0.0001, 15495: 0.0001, 3305: 0.0001, 60696: 0.0001, 9682: 0.0002, 26742: 0.0001, 51144: 0.0001, 50957: 0.0001, 38179: 0.0001, 27849: 0.0002, 40290: 0.0001, 49366: 0.0001, 8606: 0.0001, 58057: 0.0001, 36428: 0.0001, 27661: 0.0001, 13097: 0.0001, 43433: 0.0001, 21426: 0.0001, 13900: 0.0001, 26838: 0.0002, 50838: 0.0001, 14516: 0.0001, 7402: 0.0001, 37598: 0.0001, 43637: 0.0001, 37495: 0.0001, 46664: 0.0001, 18759: 0.0001, 13683: 0.0001, 52004: 0.0001, 34678: 0.0001, 27052: 0.0001, 35789: 0.0001, 9173: 0.0001, 23972: 0.0002, 15971: 0.0001, 18666: 0.0002, 37539: 0.0001, 44609: 0.0001, 45655: 0.0002, 3318: 0.0002, 22638: 0.0001, 43372: 0.0001, 44692: 0.0001, 29864: 0.0001, 33127: 0.0001, 34358: 0.0001, 35659: 0.0002, 12847: 0.0002, 11942: 0.0001, 42774: 0.0001, 56097: 0.0001, 2413: 0.0001, 64010: 0.0001, 17878: 0.0002, 54852: 0.0001, 30964: 0.0001, 46804: 0.0001, 24118: 0.0001, 14105: 0.0001, 44070: 0.0001, 2971: 0.0001, 45622: 0.0001, 40133: 0.0001, 58794: 0.0001, 26060: 0.0002, 48545: 0.0001, 1135: 0.0001, 44000: 0.0001, 55528: 0.0003, 44565: 0.0001, 38099: 0.0001, 62225: 0.0002, 28702: 0.0001, 25715: 0.0001, 27306: 0.0002, 7028: 0.0001, 2522: 0.0001, 57501: 0.0001, 10074: 0.0001, 39524: 0.0001, 19535: 0.0001, 21958: 0.0001, 24273: 0.0001, 40484: 0.0001, 18095: 0.0001, 52491: 0.0002, 38616: 0.0001, 39256: 0.0002, 29922: 0.0001, 40152: 0.0003, 12506: 0.0001, 43535: 0.0003, 38725: 0.0001, 5481: 0.0001, 58023: 0.0001, 5092: 0.0001, 30890: 0.0001, 11827: 0.0001, 42015: 0.0002, 3757: 0.0002, 44936: 0.0001, 43795: 0.0003, 54724: 0.0002, 40289: 0.0001, 2931: 0.0001, 7569: 0.0001, 47187: 0.0001, 29507: 0.0001, 15690: 0.0001, 39095: 0.0001, 15753: 0.0001, 31508: 0.0002, 45922: 0.0001, 45988: 0.0001, 17725: 0.0002, 31013: 0.0001, 47586: 0.0001, 16068: 0.0001, 35257: 0.0001, 19816: 0.0002, 35507: 0.0002, 31779: 0.0001, 47908: 0.0001, 59762: 0.0001, 4856: 0.0001, 10619: 0.0001, 47940: 0.0001, 27426: 0.0001, 25261: 0.0001, 58422: 0.0004, 22828: 0.0001, 447: 0.0001, 59376: 0.0001, 53852: 0.0001, 53609: 0.0002, 38286: 0.0001, 53736: 0.0001, 25421: 0.0002, 47148: 0.0001, 1852: 0.0001, 46181: 0.0001, 1006: 0.0001, 62530: 0.0001, 1975: 0.0001, 3826: 0.0001, 64786: 0.0002, 49627: 0.0001, 41820: 0.0001, 52299: 0.0001, 15924: 0.0001, 17951: 0.0001, 11952: 0.0001, 17085: 0.0001, 9705: 0.0001, 26285: 0.0001, 15201: 0.0001, 25821: 0.0001, 26332: 0.0001, 23182: 0.0002, 39145: 0.0001, 12877: 0.0001, 63537: 0.0004, 58538: 0.0001, 62518: 0.0002, 49365: 0.0001, 39270: 0.0001, 11475: 0.0001, 15749: 0.0002, 50854: 0.0001, 51355: 0.0001, 4815: 0.0001, 1771: 0.0002, 23563: 0.0001, 25539: 0.0001, 30028: 0.0001, 30243: 0.0001, 23496: 0.0001, 5239: 0.0001, 45890: 0.0001, 37101: 0.0001, 59721: 0.0001, 42601: 0.0001, 24197: 0.0001, 29025: 0.0002, 3047: 0.0001, 43728: 0.0001, 11235: 0.0001, 14093: 0.0001, 10893: 0.0001, 7525: 0.0002, 20974: 0.0001, 48166: 0.0001, 18665: 0.0001, 10691: 0.0001, 13932: 0.0001, 18331: 0.0001, 25547: 0.0001, 2419: 0.0001, 57527: 0.0001, 19035: 0.0001, 15942: 0.0001, 57468: 0.0001, 53562: 0.0002, 25938: 0.0001, 11209: 0.0001, 27749: 0.0001, 26037: 0.0001, 36366: 0.0001, 46188: 0.0001, 5067: 0.0002, 15028: 0.0002, 11093: 0.0001, 40482: 0.0001, 48665: 0.0001, 26947: 0.0001, 28528: 0.0002, 15472: 0.0001, 59056: 0.0001, 29991: 0.0002, 45490: 0.0001, 54164: 0.0001, 21639: 0.0002, 14541: 0.0001, 51697: 0.0001, 32010: 0.0001, 50492: 0.0001, 32336: 0.0001, 48532: 0.0001, 38708: 0.0001, 54866: 0.0001, 1011: 0.0002, 47255: 0.0001, 40461: 0.0001, 59848: 0.0001, 21684: 0.0001, 52014: 0.0001, 56193: 0.0001, 43832: 0.0001, 28204: 0.0001, 18798: 0.0001, 18905: 0.0001, 35692: 0.0001, 35320: 0.0001, 12510: 0.0002, 11628: 0.0001, 41778: 0.0001, 42523: 0.0002, 60545: 0.0001, 26344: 0.0002, 44600: 0.0001, 14698: 0.0002, 39477: 0.0001, 29914: 0.0001, 59973: 0.0002, 50382: 0.0003, 12667: 0.0001, 19865: 0.0001, 44593: 0.0001, 13875: 0.0002, 43874: 0.0001, 21527: 0.0001, 41193: 0.0001, 57926: 0.0001, 26313: 0.0001, 21165: 0.0001, 40729: 0.0001, 9706: 0.0001, 16134: 0.0001, 24138: 0.0001, 60046: 0.0001, 45669: 0.0001, 16257: 0.0001, 24986: 0.0001, 44555: 0.0001, 42435: 0.0001, 21989: 0.0001, 7849: 0.0002, 15913: 0.0001, 38514: 0.0002, 45474: 0.0001, 7875: 0.0001, 33746: 0.0001, 44808: 0.0001, 25294: 0.0003, 2745: 0.0001, 60210: 0.0001, 29521: 0.0001, 12773: 0.0001, 58419: 0.0001, 7463: 0.0002, 25998: 0.0002, 29326: 0.0001, 35628: 0.0001, 29543: 0.0001, 14982: 0.0001, 41751: 0.0002, 22872: 0.0002, 7477: 0.0002, 30012: 0.0001, 27590: 0.0001, 47878: 0.0002, 54760: 0.0001, 37978: 0.0001, 13497: 0.0001, 3495: 0.0001, 44140: 0.0002, 9452: 0.0001, 61744: 0.0001, 45133: 0.0001, 46760: 0.0001, 28310: 0.0001, 5550: 0.0001, 14180: 0.0001, 7345: 0.0002, 45274: 0.0001, 35386: 0.0001, 9196: 0.0001, 38454: 0.0001, 57517: 0.0003, 32056: 0.0001, 7588: 0.0001, 57675: 0.0001, 39054: 0.0001, 5959: 0.0001, 28481: 0.0001, 38572: 0.0001, 20173: 0.0002, 21235: 0.0001, 58421: 0.0001, 18868: 0.0001, 6459: 0.0001, 54539: 0.0001, 15664: 0.0001, 45427: 0.0001, 1661: 0.0001, 49563: 0.0001, 37403: 0.0002, 54601: 0.0001, 12184: 0.0001, 61585: 0.0001, 23158: 0.0001, 17754: 0.0001, 44208: 0.0001, 21263: 0.0001, 56908: 0.0001, 42563: 0.0001, 43087: 0.0001, 36774: 0.0001, 7026: 0.0001, 17781: 0.0001, 37203: 0.0001, 18007: 0.0001, 18055: 0.0001, 12536: 0.0002, 28298: 0.0001, 61624: 0.0001, 25784: 0.0001, 39329: 0.0001, 46386: 0.0001, 24757: 0.0001, 24417: 0.0001, 57297: 0.0001, 52420: 0.0001, 64649: 0.0002, 7558: 0.0001, 35317: 0.0002, 51353: 0.0001, 62040: 0.0002, 21732: 0.0001, 39691: 0.0002, 20238: 0.0001, 46890: 0.0001, 12415: 0.0001, 5988: 0.0001, 33103: 0.0001, 14818: 0.0001, 26156: 0.0001, 41956: 0.0001, 23608: 0.0001, 55567: 0.0001, 19349: 0.0001, 62500: 0.0001, 41706: 0.0001, 45781: 0.0001, 883: 0.0001, 50222: 0.0001, 16258: 0.0001, 992: 0.0001, 37021: 0.0001, 3183: 0.0001, 35557: 0.0001, 46296: 0.0001, 33395: 0.0001, 57901: 0.0001, 59495: 0.0001, 32917: 0.0001, 56146: 0.0001, 30834: 0.0001, 39246: 0.0001, 49807: 0.0001, 48276: 0.0002, 34142: 0.0002, 9783: 0.0001, 13281: 0.0001, 10889: 0.0001, 59152: 0.0001, 13554: 0.0002, 36021: 0.0001, 24950: 0.0003, 7284: 0.0001, 35964: 0.0001, 33513: 0.0001, 38794: 0.0001, 23338: 0.0001, 29636: 0.0001, 26992: 0.0001, 34198: 0.0002, 45496: 0.0002, 40197: 0.0001, 19678: 0.0001, 6887: 0.0001, 38106: 0.0001, 1850: 0.0001, 44330: 0.0001, 56394: 0.0001, 47194: 0.0001, 39738: 0.0001, 25159: 0.0001, 25721: 0.0002, 3870: 0.0001, 59422: 0.0002, 54604: 0.0001, 17063: 0.0001, 30339: 0.0002, 20293: 0.0001, 52133: 0.0001, 19157: 0.0001, 3800: 0.0001, 37354: 0.0001, 59073: 0.0001, 17115: 0.0001, 10126: 0.0001, 44805: 0.0001, 13784: 0.0001, 19937: 0.0001, 39015: 0.0001, 27302: 0.0001, 46024: 0.0001, 61800: 0.0001, 15457: 0.0001, 50717: 0.0001, 15946: 0.0002, 62058: 0.0001, 2983: 0.0001, 23069: 0.0001, 39749: 0.0001, 27592: 0.0001, 21869: 0.0001, 10543: 0.0001, 38300: 0.0001, 19861: 0.0001, 62980: 0.0002, 58396: 0.0001, 11606: 0.0001, 16886: 0.0001, 55050: 0.0002, 26217: 0.0001, 50351: 0.0001, 18867: 0.0001, 30482: 0.0001, 38063: 0.0001, 26324: 0.0001, 21230: 0.0002, 51765: 0.0001, 62483: 0.0001, 55593: 0.0001, 5238: 0.0001, 40092: 0.0002, 64664: 0.0002, 60640: 0.0003, 5756: 0.0001, 60948: 0.0001, 20797: 0.0001, 37263: 0.0001, 56595: 0.0001, 5502: 0.0001, 28456: 0.0002, 60560: 0.0001, 54318: 0.0001, 5106: 0.0001, 38169: 0.0001, 37291: 0.0001, 40234: 0.0001, 43441: 0.0002, 44131: 0.0001, 23655: 0.0001, 61000: 0.0002, 53818: 0.0001, 2938: 0.0001, 10729: 0.0001, 975: 0.0002, 15450: 0.0002, 28322: 0.0001, 57487: 0.0002, 22695: 0.0002, 30342: 0.0001, 42834: 0.0001, 7838: 0.0001, 38046: 0.0001, 19547: 0.0001, 47205: 0.0001, 37782: 0.0001, 57591: 0.0001, 5991: 0.0001, 52876: 0.0001, 46984: 0.0001, 43700: 0.0001, 15154: 0.0001, 39693: 0.0001, 2670: 0.0001, 35646: 0.0001, 28717: 0.0001, 49709: 0.0001, 19685: 0.0001, 27419: 0.0001, 52137: 0.0001, 14431: 0.0001, 42552: 0.0001, 12046: 0.0001, 60336: 0.0001, 44435: 0.0001, 52006: 0.0001, 58254: 0.0001, 58569: 0.0001, 60494: 0.0001, 63024: 0.0002, 25190: 0.0001, 45797: 0.0001, 8445: 0.0001, 23912: 0.0002, 46620: 0.0002, 5500: 0.0001, 17635: 0.0001, 6386: 0.0001, 48992: 0.0001, 30022: 0.0001, 38341: 0.0002, 41758: 0.0001, 20956: 0.0001, 24233: 0.0001, 51975: 0.0001, 5485: 0.0002, 23505: 0.0001, 45861: 0.0001, 51319: 0.0001, 57898: 0.0001, 7650: 0.0001, 33660: 0.0001, 50145: 0.0001, 53126: 0.0002, 6972: 0.0001, 3279: 0.0001, 35407: 0.0001, 3367: 0.0001, 42606: 0.0001, 50261: 0.0001, 16758: 0.0001, 38076: 0.0001, 47874: 0.0001, 49871: 0.0001, 2877: 0.0001, 22868: 0.0001, 41367: 0.0002, 31777: 0.0001, 21575: 0.0001, 57767: 0.0001, 54098: 0.0001, 51937: 0.0001, 58454: 0.0002, 23442: 0.0002, 51929: 0.0001, 9443: 0.0001, 28262: 0.0001, 13886: 0.0001, 20955: 0.0002, 42546: 0.0001, 63768: 0.0001, 50915: 0.0001, 31153: 0.0001, 47196: 0.0001, 47458: 0.0001, 49695: 0.0001, 33507: 0.0001, 21304: 0.0001, 12088: 0.0001, 17337: 0.0001, 46358: 0.0001, 3405: 0.0001, 17358: 0.0001, 55609: 0.0001, 36204: 0.0001, 46361: 0.0002, 44721: 0.0001, 10224: 0.0001, 23272: 0.0001, 56844: 0.0001, 34973: 0.0001, 26814: 0.0001, 41582: 0.0001, 59421: 0.0002, 13241: 0.0001, 22797: 0.0001, 20020: 0.0001, 38010: 0.0001, 7618: 0.0001, 37987: 0.0001, 60443: 0.0001, 10558: 0.0001, 53369: 0.0001, 13597: 0.0001, 46958: 0.0001, 7261: 0.0002, 36291: 0.0001, 39350: 0.0001, 31436: 0.0001, 17317: 0.0001, 15667: 0.0001, 42172: 0.0002, 58393: 0.0001, 23960: 0.0001, 48560: 0.0001, 37439: 0.0001, 23349: 0.0001, 3861: 0.0001, 28715: 0.0001, 50391: 0.0002, 94: 0.0001, 18378: 0.0002, 61494: 0.0001, 60969: 0.0001, 34458: 0.0001, 14958: 0.0001, 18777: 0.0001, 33765: 0.0001, 23344: 0.0001, 7515: 0.0001, 3179: 0.0002, 5835: 0.0002, 42102: 0.0001, 59570: 0.0001, 7355: 0.0001, 1913: 0.0003, 42649: 0.0002, 39509: 0.0002, 21594: 0.0001, 10617: 0.0001, 40388: 0.0001, 24106: 0.0002, 23718: 0.0001, 2677: 0.0002, 54960: 0.0001, 9905: 0.0001, 53556: 0.0001, 27203: 0.0001, 30530: 0.0001, 9651: 0.0002, 47529: 0.0001, 47189: 0.0001, 24232: 0.0001, 29870: 0.0001, 54917: 0.0001, 9134: 0.0001, 6896: 0.0001, 49470: 0.0001, 52421: 0.0001, 30791: 0.0001, 44833: 0.0001, 31879: 0.0001, 40705: 0.0001, 19254: 0.0001, 22663: 0.0001, 10537: 0.0001, 44931: 0.0001, 53978: 0.0001, 45483: 0.0002, 59463: 0.0003, 17982: 0.0001, 57832: 0.0001, 52271: 0.0001, 50357: 0.0001, 58531: 0.0001, 25388: 0.0001, 34991: 0.0001, 42840: 0.0001, 29340: 0.0001, 3517: 0.0001, 36741: 0.0001, 13034: 0.0001, 16629: 0.0001, 30825: 0.0002, 36181: 0.0001, 63523: 0.0001, 42665: 0.0002, 27766: 0.0001, 64705: 0.0001, 12172: 0.0001, 42810: 0.0002, 60550: 0.0001, 62001: 0.0001, 48516: 0.0001, 13929: 0.0003, 43098: 0.0001, 47249: 0.0001, 24327: 0.0003, 41954: 0.0001, 54580: 0.0001, 25820: 0.0002, 47635: 0.0001, 61925: 0.0001, 64848: 0.0001, 9575: 0.0001, 40581: 0.0001, 5593: 0.0001, 44620: 0.0002, 10168: 0.0001, 20728: 0.0001, 50763: 0.0001, 53618: 0.0002, 47072: 0.0001, 8942: 0.0003, 12918: 0.0003, 32064: 0.0002, 60458: 0.0001, 6375: 0.0002, 45341: 0.0001, 28974: 0.0001, 45175: 0.0001, 57548: 0.0001, 13970: 0.0002, 21164: 0.0001, 21927: 0.0001, 10609: 0.0001, 314: 0.0001, 15501: 0.0001, 18575: 0.0001, 52529: 0.0002, 24807: 0.0002, 50035: 0.0001, 34613: 0.0001, 20126: 0.0001, 61471: 0.0001, 47536: 0.0001, 19793: 0.0001, 14762: 0.0001, 34247: 0.0001, 2487: 0.0001, 25419: 0.0002, 55906: 0.0001, 29369: 0.0001, 57908: 0.0001, 29994: 0.0001, 52044: 0.0001, 54738: 0.0003, 60617: 0.0002, 50148: 0.0001, 25960: 0.0001, 20041: 0.0001, 62562: 0.0001, 32327: 0.0001, 3028: 0.0001, 13678: 0.0002, 61139: 0.0001, 37616: 0.0001, 19866: 0.0002, 3868: 0.0001, 9559: 0.0001, 61587: 0.0001, 61252: 0.0001, 57714: 0.0001, 7308: 0.0001, 43750: 0.0001, 56454: 0.0002, 47560: 0.0001, 7400: 0.0001, 50549: 0.0001, 11461: 0.0001, 21417: 0.0002, 22686: 0.0001, 12503: 0.0001, 29921: 0.0001, 25202: 0.0002, 33855: 0.0001, 26466: 0.0001, 34418: 0.0001, 22384: 0.0001, 26821: 0.0001, 45792: 0.0001, 7443: 0.0001, 43609: 0.0001, 29861: 0.0001, 62034: 0.0001, 22472: 0.0002, 9690: 0.0003, 37747: 0.0001, 31346: 0.0001, 47441: 0.0001, 29739: 0.0002, 31782: 0.0001, 19284: 0.0001, 18479: 0.0001, 57934: 0.0001, 23590: 0.0001, 7633: 0.0002, 47907: 0.0001, 11100: 0.0001, 9836: 0.0001, 38520: 0.0001, 9779: 0.0001, 62340: 0.0001, 34390: 0.0001, 50063: 0.0001, 49771: 0.0001, 30338: 0.0001, 45852: 0.0001, 61964: 0.0002, 58321: 0.0001, 9130: 0.0001, 15274: 0.0002, 15147: 0.0002, 40077: 0.0001, 39394: 0.0002, 20178: 0.0001, 60705: 0.0002, 46422: 0.0001, 43724: 0.0001, 62475: 0.0001, 21954: 0.0001, 47786: 0.0001, 55819: 0.0002, 51532: 0.0001, 54720: 0.0001, 39273: 0.0001, 60624: 0.0001, 7772: 0.0001, 2747: 0.0001, 32145: 0.0001, 50774: 0.0001, 33646: 0.0001, 44634: 0.0001, 21457: 0.0001, 56363: 0.0001, 22310: 0.0001, 22166: 0.0001, 38453: 0.0001, 38461: 0.0001, 30508: 0.0001, 43062: 0.0001, 43115: 0.0001, 39508: 0.0001, 21071: 0.0001, 3060: 0.0001, 25074: 0.0001, 49707: 0.0001, 21081: 0.0001, 61832: 0.0001, 37995: 0.0001, 53782: 0.0001, 62308: 0.0001, 19655: 0.0003, 61185: 0.0003, 28889: 0.0001, 6884: 0.0001, 55690: 0.0001, 30735: 0.0001, 14092: 0.0001, 45277: 0.0001, 60707: 0.0001, 41724: 0.0001, 34233: 0.0001, 46235: 0.0001, 21234: 0.0001, 44429: 0.0001, 2980: 0.0001, 15466: 0.0001, 4459: 0.0001, 7819: 0.0001, 7886: 0.0001, 6461: 0.0001, 61707: 0.0001, 29869: 0.0001, 6509: 0.0001, 61611: 0.0001, 25943: 0.0001, 45583: 0.0001, 34927: 0.0002, 63300: 0.0001, 34019: 0.0001, 44932: 0.0001, 13625: 0.0001, 14686: 0.0002, 34422: 0.0001, 58945: 0.0001, 44690: 0.0002, 30778: 0.0001, 37273: 0.0001, 16867: 0.0001, 40280: 0.0001, 40833: 0.0001, 29273: 0.0001, 22218: 0.0003, 5679: 0.0001, 14553: 0.0001, 45528: 0.0001, 55514: 0.0001, 22151: 0.0001, 55505: 0.0001, 7596: 0.0001, 26416: 0.0001, 22759: 0.0001, 50530: 0.0001, 35676: 0.0001, 39776: 0.0001, 11047: 0.0001, 12272: 0.0001, 13110: 0.0002, 30529: 0.0001, 4581: 0.0001, 3514: 0.0001, 21659: 0.0001, 30936: 0.0001, 64832: 0.0001, 61579: 0.0001, 3867: 0.0001, 6709: 0.0001, 14621: 0.0001, 50904: 0.0001, 18343: 0.0001, 48776: 0.0001, 51881: 0.0001, 51231: 0.0001, 18388: 0.0001, 10556: 0.0001, 52579: 0.0001, 5963: 0.0001, 59733: 0.0001, 53732: 0.0002, 38332: 0.0001, 43436: 0.0001, 23621: 0.0001, 17259: 0.0001, 12038: 0.0001, 27754: 0.0002, 30981: 0.0001, 1467: 0.0002, 43622: 0.0001, 47576: 0.0001, 18326: 0.0001, 21738: 0.0001, 9841: 0.0001, 23201: 0.0001, 3639: 0.0001, 46685: 0.0001, 2974: 0.0001, 58123: 0.0001, 30822: 0.0001, 52914: 0.0001, 22376: 0.0001, 47431: 0.0001, 47381: 0.0001, 51358: 0.0002, 10486: 0.0001, 43985: 0.0002, 37275: 0.0002, 13930: 0.0001, 45367: 0.0001, 46159: 0.0001, 32257: 0.0001, 31624: 0.0002, 28394: 0.0001, 2554: 0.0001, 57555: 0.0001, 41747: 0.0001, 2503: 0.0001, 35779: 0.0001, 35389: 0.0002, 54023: 0.0001, 22055: 0.0001, 49760: 0.0001, 8092: 0.0001, 43793: 0.0001, 3403: 0.0001, 6961: 0.0001, 21233: 0.0001, 23196: 0.0001, 53064: 0.0001, 20185: 0.0001, 10367: 0.0001, 15895: 0.0001, 27219: 0.0001, 35722: 0.0001, 5962: 0.0001, 3790: 0.0001, 24201: 0.0002, 18767: 0.0001, 61734: 0.0001, 2812: 0.0001, 27241: 0.0001, 34553: 0.0001, 54442: 0.0001, 31276: 0.0001, 22945: 0.0001, 51308: 0.0001, 49637: 0.0001, 24362: 0.0001, 22440: 0.0002, 46382: 0.0001, 11019: 0.0001, 63813: 0.0001, 29137: 0.0001, 52746: 0.0001, 22184: 0.0001, 46026: 0.0001, 1914: 0.0003, 37534: 0.0001, 22204: 0.0001, 20274: 0.0001, 58306: 0.0001, 27756: 0.0001, 12754: 0.0001, 22480: 0.0001, 9279: 0.0002, 7214: 0.0001, 1899: 0.0001, 8304: 0.0001, 9693: 0.0001, 20042: 0.0001, 60998: 0.0001, 62241: 0.0002, 56481: 0.0003, 35298: 0.0001, 10242: 0.0001, 17912: 0.0001, 60994: 0.0001, 31840: 0.0001, 37054: 0.0001, 63779: 0.0001, 60554: 0.0001, 40710: 0.0001, 47892: 0.0001, 20384: 0.0001, 50765: 0.0002, 8066: 0.0001, 51083: 0.0001, 8663: 0.0001, 19645: 0.0001, 37364: 0.0001, 16038: 0.0001, 64073: 0.0001, 60609: 0.0002, 37795: 0.0002, 45349: 0.0002, 51627: 0.0001, 6882: 0.0001, 28356: 0.0002, 62113: 0.0001, 18073: 0.0001, 19065: 0.0001, 23822: 0.0001, 26064: 0.0001, 11623: 0.0001, 48296: 0.0001, 21677: 0.0001, 48874: 0.0001, 53387: 0.0001, 23118: 0.0001, 48456: 0.0001, 49278: 0.0001, 38384: 0.0001, 48680: 0.0001, 26066: 0.0002, 26088: 0.0001, 28452: 0.0001, 4478: 0.0001, 64192: 0.0001, 38117: 0.0001, 36636: 0.0001, 7990: 0.0001, 23792: 0.0001, 7958: 0.0001, 21050: 0.0002, 61463: 0.0001, 38880: 0.0001, 30108: 0.0001, 24152: 0.0001, 5523: 0.0001, 42255: 0.0001, 51626: 0.0001, 57581: 0.0001, 36154: 0.0001, 35683: 0.0001, 24472: 0.0001, 27330: 0.0002, 61834: 0.0001, 21678: 0.0001, 50381: 0.0001, 12411: 0.0001, 10474: 0.0001, 47720: 0.0002, 20440: 0.0001, 47672: 0.0001, 37294: 0.0001, 55431: 0.0001, 47554: 0.0001, 39652: 0.0001, 24083: 0.0001, 51441: 0.0001, 11507: 0.0002, 5845: 0.0001, 21933: 0.0001, 26923: 0.0001, 48643: 0.0002, 41171: 0.0001, 6891: 0.0002, 53009: 0.0001, 5693: 0.0001, 7537: 0.0001, 27978: 0.0001, 52674: 0.0001, 43676: 0.0002, 58119: 0.0002, 55397: 0.0001, 20919: 0.0001, 28779: 0.0001, 29852: 0.0001, 57978: 0.0001, 33397: 0.0001, 14487: 0.0001, 11875: 0.0001, 43706: 0.0001, 15788: 0.0001, 22043: 0.0001, 20389: 0.0001, 53185: 0.0001, 42846: 0.0001, 10189: 0.0001, 19995: 0.0001, 64062: 0.0001, 59450: 0.0002, 20909: 0.0002, 20306: 0.0001, 43186: 0.0001, 10870: 0.0001, 61152: 0.0001, 29016: 0.0002, 59572: 0.0002, 34046: 0.0001, 3702: 0.0003, 10129: 0.0001, 37362: 0.0001, 45795: 0.0001, 7374: 0.0002, 44297: 0.0001, 11374: 0.0001, 6362: 0.0001, 26733: 0.0001, 25529: 0.0001, 45763: 0.0002, 14652: 0.0002, 54791: 0.0001, 24225: 0.0001, 60488: 0.0002, 31878: 0.0002, 18796: 0.0001, 45114: 0.0001, 3448: 0.0001, 25841: 0.0001, 39529: 0.0001, 62985: 0.0001, 40848: 0.0001, 43811: 0.0001, 35254: 0.0001, 7455: 0.0002, 62278: 0.0001, 30237: 0.0001, 3756: 0.0001, 1839: 0.0001, 39336: 0.0001, 14102: 0.0001, 53831: 0.0001, 28957: 0.0001, 51289: 0.0001, 9111: 0.0001, 64672: 0.0001, 35577: 0.0002, 12225: 0.0001, 55890: 0.0002, 8921: 0.0001, 24791: 0.0002, 30851: 0.0001, 14064: 0.0001, 19693: 0.0001, 23428: 0.0001, 59512: 0.0001, 7817: 0.0001, 60038: 0.0001, 59264: 0.0001, 60163: 0.0001, 49523: 0.0001, 55621: 0.0001, 14430: 0.0001, 33514: 0.0001, 58425: 0.0001, 29747: 0.0001, 40740: 0.0002, 34514: 0.0001, 20083: 0.0001, 19766: 0.0001, 13198: 0.0001, 59864: 0.0001, 42394: 0.0001, 49754: 0.0001, 7373: 0.0001, 31881: 0.0002, 6358: 0.0001, 39784: 0.0001, 34286: 0.0003, 14893: 0.0001, 39334: 0.0001, 55497: 0.0001, 46672: 0.0001, 30576: 0.0001, 9643: 0.0001, 27025: 0.0001, 21931: 0.0001, 30420: 0.0001, 32024: 0.0001, 29338: 0.0001, 1643: 0.0001, 49957: 0.0001, 15660: 0.0002, 50766: 0.0001, 4538: 0.0002, 19061: 0.0001, 62736: 0.0001, 4255: 0.0002, 28883: 0.0001, 42076: 0.0001, 52964: 0.0001, 50840: 0.0001, 5246: 0.0001, 18550: 0.0001, 61848: 0.0001, 56048: 0.0001, 3569: 0.0001, 33167: 0.0001, 14908: 0.0001, 45721: 0.0002, 34282: 0.0002, 43632: 0.0001, 48131: 0.0001, 29899: 0.0001, 62346: 0.0001, 23849: 0.0002, 5723: 0.0001, 32262: 0.0001, 30236: 0.0001, 6073: 0.0001, 11982: 0.0001, 37848: 0.0001, 19610: 0.0001, 43940: 0.0001, 58580: 0.0001, 52385: 0.0001, 45831: 0.0001, 54097: 0.0001, 20307: 0.0001, 44584: 0.0001, 9848: 0.0001, 17595: 0.0001, 36309: 0.0001, 1955: 0.0001, 58274: 0.0001, 8731: 0.0001, 63920: 0.0001, 17694: 0.0001, 11719: 0.0001, 51613: 0.0001, 49874: 0.0001, 38138: 0.0001, 9053: 0.0001, 1910: 0.0001, 7086: 0.0001, 35737: 0.0001, 59941: 0.0001, 15002: 0.0001, 51493: 0.0001, 40083: 0.0001, 56432: 0.0001, 47489: 0.0001, 26508: 0.0001, 45273: 0.0002, 6987: 0.0002, 18147: 0.0002, 55104: 0.0001, 54279: 0.0001, 5068: 0.0001, 45701: 0.0001, 21213: 0.0001, 3052: 0.0001, 52049: 0.0001, 43640: 0.0001, 29596: 0.0001, 59177: 0.0001, 25910: 0.0002, 15117: 0.0001, 60962: 0.0001, 20828: 0.0001, 43192: 0.0001, 34793: 0.0001, 747: 0.0001, 9767: 0.0001, 43491: 0.0001, 49974: 0.0001, 60104: 0.0001, 7834: 0.0002, 34661: 0.0002, 15752: 0.0001, 26084: 0.0001, 54864: 0.0001, 1979: 0.0001, 15299: 0.0001, 43736: 0.0001, 25882: 0.0001, 37116: 0.0001, 37211: 0.0001, 39381: 0.0001, 53291: 0.0001, 62668: 0.0001, 41912: 0.0001, 3409: 0.0001, 47222: 0.0001, 26849: 0.0001, 19663: 0.0001, 54102: 0.0001, 12981: 0.0001, 33530: 0.0002, 56106: 0.0001, 40840: 0.0002, 62220: 0.0002, 24140: 0.0002, 14519: 0.0002, 11868: 0.0001, 58065: 0.0001, 19059: 0.0001, 18247: 0.0001, 433: 0.0001, 5918: 0.0001, 39047: 0.0001, 49402: 0.0001, 63097: 0.0001, 27108: 0.0001, 24496: 0.0001, 5967: 0.0002, 21590: 0.0001, 28049: 0.0001, 24482: 0.0001, 10982: 0.0001, 15421: 0.0001, 35607: 0.0001, 52824: 0.0001, 60204: 0.0001, 15754: 0.0002, 14684: 0.0001, 13174: 0.0001, 24102: 0.0001, 40050: 0.0001, 58138: 0.0001, 26568: 0.0001, 50641: 0.0002, 41466: 0.0001, 56516: 0.0001, 27106: 0.0001, 7349: 0.0002, 10573: 0.0001, 59564: 0.0001, 3566: 0.0001, 45363: 0.0001, 13231: 0.0001, 9132: 0.0001, 58769: 0.0002, 29485: 0.0001, 37731: 0.0001, 53972: 0.0001, 6325: 0.0001, 34236: 0.0001, 25923: 0.0001, 58510: 0.0001, 26009: 0.0002, 55961: 0.0001, 29048: 0.0002, 56710: 0.0001, 64772: 0.0001, 6867: 0.0002, 25035: 0.0001, 40042: 0.0001, 47153: 0.0001, 35494: 0.0001, 25463: 0.0001, 51399: 0.0003, 47271: 0.0001, 7152: 0.0001, 17739: 0.0001, 20290: 0.0001, 51049: 0.0001, 14952: 0.0001, 37494: 0.0001, 29981: 0.0001, 58082: 0.0001, 31337: 0.0001, 60209: 0.0001, 5970: 0.0002, 63617: 0.0001, 40105: 0.0002, 57373: 0.0001, 39380: 0.0002, 34127: 0.0001, 31361: 0.0001, 43976: 0.0002, 36456: 0.0001, 55828: 0.0001, 22714: 0.0002, 4795: 0.0001, 53526: 0.0001, 26443: 0.0001, 35442: 0.0001, 21819: 0.0001, 27880: 0.0001, 18863: 0.0001, 60932: 0.0001, 34232: 0.0001, 9558: 0.0001, 4919: 0.0002, 19432: 0.0001, 26970: 0.0001, 59812: 0.0001, 42573: 0.0001, 16987: 0.0001, 27678: 0.0001, 31074: 0.0001, 53547: 0.0001, 42704: 0.0001, 41390: 0.0001, 30316: 0.0001, 40802: 0.0001, 13918: 0.0002, 49644: 0.0001, 19503: 0.0001, 5471: 0.0001, 51632: 0.0001, 28419: 0.0001, 18402: 0.0003, 14570: 0.0001, 51612: 0.0001, 22512: 0.0001, 47491: 0.0001, 14280: 0.0002, 60581: 0.0001, 38370: 0.0001, 13523: 0.0001, 18141: 0.0001, 20783: 0.0001, 22118: 0.0001, 46111: 0.0001, 12619: 0.0001, 13972: 0.0001, 24180: 0.0001, 50347: 0.0001, 27556: 0.0002, 50777: 0.0001, 9533: 0.0001, 7762: 0.0001, 23345: 0.0003, 14693: 0.0001, 45846: 0.0001, 41203: 0.0001, 43083: 0.0001, 33034: 0.0001, 21083: 0.0001, 11884: 0.0001, 62800: 0.0001, 19139: 0.0001, 25797: 0.0001, 43279: 0.0001, 58507: 0.0001, 24176: 0.0003, 7025: 0.0002, 58596: 0.0001, 40368: 0.0001, 2493: 0.0001, 48292: 0.0001, 61517: 0.0001, 44617: 0.0001, 11693: 0.0001, 8128: 0.0001, 54691: 0.0001, 28106: 0.0001, 29809: 0.0003, 31126: 0.0001, 58758: 0.0001, 44806: 0.0001, 6989: 0.0002, 6099: 0.0001, 61581: 0.0001, 5715: 0.0001, 51812: 0.0002, 21118: 0.0001, 50609: 0.0001, 39507: 0.0003, 3195: 0.0001, 47497: 0.0002, 15178: 0.0001, 24259: 0.0001, 21418: 0.0001, 57513: 0.0001, 43384: 0.0002, 5771: 0.0001, 21925: 0.0001, 28306: 0.0002, 39148: 0.0001, 41208: 0.0001, 18682: 0.0001, 9931: 0.0002, 28044: 0.0001, 17758: 0.0001, 11185: 0.0001, 18030: 0.0001, 25703: 0.0002, 25075: 0.0001, 46268: 0.0001, 48772: 0.0001, 56069: 0.0001, 25541: 0.0001, 24008: 0.0002, 15521: 0.0001, 54952: 0.0002, 29665: 0.0001, 46544: 0.0002, 17357: 0.0002, 21692: 0.0001, 52501: 0.0003, 57756: 0.0001, 39288: 0.0002, 9881: 0.0001, 19275: 0.0001, 50291: 0.0001, 9159: 0.0001, 12954: 0.0001, 33675: 0.0001, 28212: 0.0001, 14106: 0.0001, 15437: 0.0002, 28234: 0.0001, 20050: 0.0001, 46349: 0.0001, 27036: 0.0002, 9947: 0.0001, 11109: 0.0001, 11882: 0.0001, 55412: 0.0001, 18797: 0.0001, 44122: 0.0001, 26387: 0.0001, 59620: 0.0001, 7468: 0.0001, 37244: 0.0002, 7199: 0.0001, 23321: 0.0001, 36173: 0.0002, 31324: 0.0001, 10616: 0.0001, 44338: 0.0001, 52403: 0.0001, 13764: 0.0001, 25038: 0.0001, 21964: 0.0001, 42571: 0.0001, 28247: 0.0001, 58470: 0.0001, 9189: 0.0001, 64547: 0.0001, 4590: 0.0001, 57870: 0.0001, 39118: 0.0002, 25273: 0.0001, 62657: 0.0001, 7961: 0.0002, 19047: 0.0001, 4941: 0.0001, 32020: 0.0001, 46372: 0.0001, 60965: 0.0001, 52010: 0.0001, 7896: 0.0001, 15029: 0.0001, 61962: 0.0001, 3989: 0.0001, 37338: 0.0001, 29753: 0.0001, 1767: 0.0001, 42837: 0.0001, 21084: 0.0001, 23372: 0.0001, 12166: 0.0001, 29600: 0.0001, 48652: 0.0001, 52302: 0.0001, 13909: 0.0001, 42572: 0.0001, 43366: 0.0001, 13226: 0.0001, 22498: 0.0001, 21195: 0.0001, 37519: 0.0001, 22780: 0.0001, 31564: 0.0001, 25274: 0.0002, 11953: 0.0001, 11043: 0.0001, 23821: 0.0001, 23946: 0.0001, 52192: 0.0001, 6113: 0.0002, 1931: 0.0001, 22163: 0.0002, 25997: 0.0001, 6206: 0.0001, 45176: 0.0001, 56488: 0.0001, 29094: 0.0001, 7947: 0.0002, 50970: 0.0001, 31107: 0.0001, 44119: 0.0001, 35242: 0.0001, 42805: 0.0002, 35419: 0.0001, 58744: 0.0001, 3979: 0.0002, 22090: 0.0001, 45513: 0.0003, 50657: 0.0001, 59288: 0.0001, 47784: 0.0002, 57626: 0.0001, 25309: 0.0001, 7084: 0.0003, 11149: 0.0002, 42684: 0.0001, 10188: 0.0001, 16144: 0.0001, 24759: 0.0001, 25869: 0.0001, 9131: 0.0002, 8823: 0.0001, 58511: 0.0001, 19448: 0.0001, 6888: 0.0001, 40021: 0.0001, 28914: 0.0002, 5755: 0.0001, 41817: 0.0001, 37844: 0.0001, 54482: 0.0001, 9657: 0.0001, 47848: 0.0001, 20946: 0.0001, 38188: 0.0001, 54180: 0.0002, 6601: 0.0002, 53331: 0.0001, 46652: 0.0001, 55355: 0.0001, 24460: 0.0002, 61642: 0.0002, 17649: 0.0001, 34014: 0.0001, 16862: 0.0001, 19900: 0.0001, 63009: 0.0001, 53057: 0.0002, 62516: 0.0002, 22234: 0.0001, 52325: 0.0001, 30782: 0.0001, 59541: 0.0001, 6605: 0.0001, 55417: 0.0001, 60136: 0.0001, 52101: 0.0001, 39594: 0.0001, 58604: 0.0001, 3693: 0.0001, 9167: 0.0001, 32269: 0.0001, 13125: 0.0001, 34101: 0.0001, 9063: 0.0002, 33487: 0.0001, 56136: 0.0001, 11805: 0.0001, 41263: 0.0001, 12723: 0.0001, 13518: 0.0001, 18037: 0.0002, 439: 0.0001, 24137: 0.0001, 351: 0.0001, 41374: 0.0001, 45261: 0.0001, 21584: 0.0001, 20691: 0.0001, 9078: 0.0002, 57630: 0.0002, 7435: 0.0002, 47692: 0.0001, 39141: 0.0001, 921: 0.0001, 10767: 0.0001, 60438: 0.0001, 60561: 0.0001, 35623: 0.0001, 57886: 0.0002, 41844: 0.0001, 19661: 0.0002, 34997: 0.0001, 20659: 0.0001, 47270: 0.0001, 7081: 0.0001, 22058: 0.0001, 47755: 0.0001, 23635: 0.0001, 26264: 0.0001, 38558: 0.0002, 41768: 0.0001, 37979: 0.0001, 38173: 0.0001, 12521: 0.0001, 26236: 0.0001, 24364: 0.0001, 35899: 0.0001, 11879: 0.0001, 18557: 0.0001, 43858: 0.0002, 38990: 0.0001, 15059: 0.0001, 44572: 0.0001, 30502: 0.0001, 39315: 0.0002, 26865: 0.0002, 50335: 0.0001, 10653: 0.0001, 36709: 0.0001, 25050: 0.0001, 62093: 0.0001, 13599: 0.0001, 7542: 0.0001, 49673: 0.0001, 18138: 0.0002, 29898: 0.0001, 17870: 0.0001, 34195: 0.0001, 42729: 0.0001, 9327: 0.0002, 29816: 0.0001, 36773: 0.0001, 57529: 0.0001, 38733: 0.0001, 52074: 0.0001, 47494: 0.0002, 58460: 0.0001, 59872: 0.0001, 19699: 0.0001, 45865: 0.0001, 58648: 0.0001, 4999: 0.0002, 31288: 0.0001, 27799: 0.0002, 25046: 0.0001, 5944: 0.0001, 14145: 0.0001, 45301: 0.0001, 14129: 0.0002, 46636: 0.0001, 24344: 0.0001, 39929: 0.0001, 62597: 0.0002, 14052: 0.0001, 44496: 0.0001, 33959: 0.0001, 19101: 0.0001, 64550: 0.0001, 36426: 0.0001, 18874: 0.0001, 58571: 0.0001, 51819: 0.0001, 16272: 0.0001, 21583: 0.0001, 30162: 0.0001, 62726: 0.0001, 19313: 0.0001, 2237: 0.0001, 50517: 0.0001, 10925: 0.0001, 22591: 0.0001, 894: 0.0001, 35069: 0.0001, 11752: 0.0002, 34776: 0.0002, 26158: 0.0001, 37617: 0.0001, 39083: 0.0002, 62604: 0.0001, 2527: 0.0001, 2681: 0.0001, 41754: 0.0001, 48674: 0.0001, 45521: 0.0002, 42645: 0.0001, 16033: 0.0001, 19641: 0.0001, 31384: 0.0001, 48481: 0.0001, 51561: 0.0001, 22951: 0.0001, 59601: 0.0001, 19791: 0.0001, 8131: 0.0001, 59608: 0.0001, 40604: 0.0001, 52870: 0.0001, 23138: 0.0001, 56721: 0.0001, 38742: 0.0001, 23948: 0.0001, 58467: 0.0001, 38706: 0.0001, 42798: 0.0001, 50994: 0.0001, 14934: 0.0001, 55443: 0.0003, 26874: 0.0001, 46688: 0.0001, 3678: 0.0001, 20168: 0.0001, 38723: 0.0001, 53641: 0.0001, 9933: 0.0001, 36841: 0.0001, 22702: 0.0001, 30264: 0.0001, 18989: 0.0001, 38506: 0.0001, 46680: 0.0001, 8830: 0.0001, 28498: 0.0001, 47668: 0.0001, 56976: 0.0001, 12974: 0.0001, 27159: 0.0001, 26125: 0.0001, 22292: 0.0001, 10490: 0.0002, 16232: 0.0001, 10303: 0.0001, 42763: 0.0002, 63620: 0.0001, 42604: 0.0001, 61523: 0.0002, 3422: 0.0001, 22984: 0.0002, 9999: 0.0001, 6517: 0.0001, 30257: 0.0001, 12185: 0.0001, 36399: 0.0001, 63585: 0.0001, 12517: 0.0001, 33742: 0.0001, 61538: 0.0001, 1879: 0.0001, 5036: 0.0001, 19067: 0.0001, 52330: 0.0001, 11513: 0.0001, 5560: 0.0001, 45621: 0.0001, 16859: 0.0001, 32048: 0.0001, 52554: 0.0001, 47561: 0.0001, 50866: 0.0001, 41201: 0.0001, 62979: 0.0001, 10931: 0.0001, 34403: 0.0001, 17263: 0.0001, 61715: 0.0001, 34548: 0.0001, 62288: 0.0002, 51131: 0.0001, 41629: 0.0001, 27416: 0.0001, 50069: 0.0001, 51427: 0.0001, 13607: 0.0001, 34507: 0.0001, 43462: 0.0001, 62787: 0.0001, 1516: 0.0001, 31095: 0.0001, 51771: 0.0001, 38991: 0.0001, 28913: 0.0001, 35471: 0.0001, 23462: 0.0001, 42616: 0.0001, 2754: 0.0001, 1469: 0.0001, 41579: 0.0001, 6933: 0.0002, 19301: 0.0001, 4826: 0.0001, 5307: 0.0001, 21686: 0.0002, 15402: 0.0001, 54690: 0.0001, 11225: 0.0001, 20075: 0.0001, 42269: 0.0001, 30040: 0.0001, 62628: 0.0002, 17631: 0.0001, 26683: 0.0001, 53534: 0.0001, 58984: 0.0001, 59032: 0.0001, 47492: 0.0001, 20073: 0.0001, 42170: 0.0001, 47568: 0.0001, 38598: 0.0001, 49750: 0.0001, 49747: 0.0001, 24817: 0.0001, 56529: 0.0001, 44117: 0.0001, 24790: 0.0001, 1724: 0.0001, 51470: 0.0001, 31105: 0.0001, 20081: 0.0001, 46793: 0.0001, 2485: 0.0001, 23894: 0.0001, 17899: 0.0001, 26868: 0.0001, 34419: 0.0001, 42773: 0.0001, 53720: 0.0001, 55729: 0.0001, 56586: 0.0001, 55008: 0.0001, 59028: 0.0001, 48135: 0.0001, 21334: 0.0001, 55176: 0.0001, 28197: 0.0001, 16324: 0.0001, 24387: 0.0001, 21066: 0.0001, 46981: 0.0001, 47397: 0.0001, 12652: 0.0001, 35514: 0.0001, 11789: 0.0001, 60930: 0.0001, 21791: 0.0001, 54147: 0.0001, 39412: 0.0001, 34644: 0.0001, 49207: 0.0001, 20038: 0.0001, 64049: 0.0001, 43492: 0.0002, 49373: 0.0001, 13555: 0.0001, 54456: 0.0001, 4315: 0.0001, 24764: 0.0002, 50118: 0.0001, 32863: 0.0001, 15944: 0.0001, 30854: 0.0001, 58650: 0.0001, 12103: 0.0001, 19785: 0.0002, 4049: 0.0001, 58908: 0.0001, 39706: 0.0002, 20602: 0.0001, 11960: 0.0001, 28048: 0.0001, 41575: 0.0001, 45884: 0.0001, 42193: 0.0002, 40489: 0.0001, 7286: 0.0001, 64770: 0.0001, 9117: 0.0001, 28203: 0.0001, 36053: 0.0003, 13559: 0.0001, 12193: 0.0001, 10021: 0.0001, 58883: 0.0001, 15882: 0.0001, 61513: 0.0001, 39197: 0.0001, 6715: 0.0001, 21078: 0.0001, 18011: 0.0001, 53702: 0.0002, 29541: 0.0001, 17863: 0.0001, 54441: 0.0001, 16799: 0.0001, 22369: 0.0002, 61888: 0.0001, 26424: 0.0001, 8571: 0.0001, 26468: 0.0001, 6630: 0.0001, 26360: 0.0001, 19561: 0.0001, 41663: 0.0001, 33737: 0.0002, 9438: 0.0001, 42325: 0.0002, 49906: 0.0001, 36600: 0.0001, 23473: 0.0002, 16983: 0.0001, 45517: 0.0001, 28214: 0.0001, 62744: 0.0001, 53026: 0.0001, 52836: 0.0001, 52681: 0.0001, 13867: 0.0001, 43047: 0.0001, 30608: 0.0001, 53612: 0.0001, 14796: 0.0001, 55351: 0.0001, 61974: 0.0001, 22950: 0.0002, 34682: 0.0001, 19103: 0.0001, 58243: 0.0001, 59142: 0.0001, 1773: 0.0001, 37857: 0.0001, 24693: 0.0001, 20729: 0.0002, 62100: 0.0001, 28488: 0.0001, 10963: 0.0001, 1013: 0.0002, 30099: 0.0001, 10087: 0.0001, 19196: 0.0001, 33658: 0.0001, 35750: 0.0001, 36584: 0.0001, 5981: 0.0001, 3443: 0.0001, 48649: 0.0002, 11443: 0.0001, 26082: 0.0001, 10399: 0.0001, 59701: 0.0001, 44425: 0.0002, 37967: 0.0001, 36263: 0.0001, 54058: 0.0001, 21383: 0.0002, 25827: 0.0001, 26851: 0.0001, 59143: 0.0002, 31172: 0.0001, 13979: 0.0001, 7665: 0.0001, 55746: 0.0001, 25814: 0.0001, 51401: 0.0001, 9022: 0.0001, 58693: 0.0001, 52131: 0.0001, 59929: 0.0001, 22876: 0.0002, 46373: 0.0001, 42087: 0.0001, 7061: 0.0001, 27699: 0.0001, 37438: 0.0001, 50573: 0.0001, 21331: 0.0001, 34586: 0.0001, 46621: 0.0001, 9713: 0.0001, 46492: 0.0001, 4018: 0.0001, 30561: 0.0001, 15720: 0.0002, 57969: 0.0001, 46898: 0.0001, 8855: 0.0001, 49878: 0.0001, 8017: 0.0001, 48290: 0.0002, 27338: 0.0001, 11347: 0.0001, 26940: 0.0001, 2901: 0.0001, 52960: 0.0001, 10196: 0.0001, 42609: 0.0001, 23922: 0.0001, 64912: 0.0001, 35794: 0.0001, 57623: 0.0001, 37300: 0.0001, 60481: 0.0001, 39205: 0.0001, 58248: 0.0001, 51467: 0.0001, 61467: 0.0002, 20739: 0.0001, 48656: 0.0001, 60193: 0.0001, 62152: 0.0001, 34462: 0.0001, 4813: 0.0001, 7479: 0.0002, 48040: 0.0001, 31372: 0.0001, 60565: 0.0001, 55437: 0.0002, 8075: 0.0001, 24389: 0.0001, 3386: 0.0001, 14930: 0.0001, 2111: 0.0001, 39780: 0.0001, 42720: 0.0001, 26218: 0.0001, 36545: 0.0001, 21674: 0.0001, 54992: 0.0002, 50900: 0.0002, 25432: 0.0001, 2859: 0.0001, 13105: 0.0001, 34764: 0.0001, 31427: 0.0001, 51938: 0.0001, 11866: 0.0001, 7290: 0.0001, 33532: 0.0001, 54349: 0.0001, 34606: 0.0001, 6644: 0.0001, 25772: 0.0001, 24360: 0.0002, 52262: 0.0001, 14232: 0.0001, 48964: 0.0002, 26098: 0.0001, 53478: 0.0001, 7710: 0.0001, 31783: 0.0001, 50294: 0.0001, 42842: 0.0001, 40124: 0.0001, 15592: 0.0001, 32401: 0.0001, 57686: 0.0001, 6377: 0.0001, 17332: 0.0001, 41519: 0.0002, 55608: 0.0001, 55074: 0.0002, 60752: 0.0001, 37502: 0.0001, 20115: 0.0001, 48162: 0.0001, 29524: 0.0001, 57657: 0.0001, 2526: 0.0001, 24453: 0.0001, 54301: 0.0001, 50389: 0.0001, 55671: 0.0001, 2791: 0.0001, 37087: 0.0001, 12575: 0.0001, 47761: 0.0001, 5549: 0.0003, 52080: 0.0002, 17786: 0.0002, 27211: 0.0001, 5931: 0.0001, 50021: 0.0001, 57812: 0.0001, 4349: 0.0001, 21226: 0.0001, 60997: 0.0001, 23425: 0.0001, 51813: 0.0001, 9787: 0.0001, 25166: 0.0001, 13204: 0.0001, 39878: 0.0001, 10447: 0.0001, 33276: 0.0002, 59603: 0.0001, 28908: 0.0001, 46704: 0.0002, 39305: 0.0001, 3565: 0.0001, 43409: 0.0001, 29787: 0.0001, 41595: 0.0001, 12195: 0.0001, 58537: 0.0001, 53577: 0.0001, 29767: 0.0001, 36054: 0.0001, 39319: 0.0001, 60045: 0.0001, 59049: 0.0001, 55577: 0.0001, 11226: 0.0002, 11863: 0.0001, 19277: 0.0001, 53383: 0.0001, 6383: 0.0001, 21350: 0.0002, 58320: 0.0001, 19147: 0.0001, 38588: 0.0002, 42510: 0.0001, 48424: 0.0001, 35375: 0.0001, 17242: 0.0001, 50006: 0.0001, 36017: 0.0001, 29358: 0.0001, 17386: 0.0002, 41836: 0.0001, 28608: 0.0001, 7351: 0.0001, 53136: 0.0001, 50117: 0.0001, 36265: 0.0001, 46820: 0.0001, 45985: 0.0001, 17145: 0.0001, 43117: 0.0001, 5939: 0.0001, 23947: 0.0001, 29074: 0.0001, 30230: 0.0001, 46245: 0.0001, 45876: 0.0001, 59453: 0.0001, 45745: 0.0001, 19915: 0.0001, 5107: 0.0001, 14242: 0.0001, 32580: 0.0001, 60563: 0.0001, 52052: 0.0001, 8555: 0.0001, 58162: 0.0001, 33211: 0.0001, 56964: 0.0002, 15555: 0.0001, 39117: 0.0001, 52515: 0.0001, 20321: 0.0001, 28417: 0.0001, 60192: 0.0001, 13613: 0.0001, 37738: 0.0001, 18862: 0.0001, 33591: 0.0002, 9573: 0.0001, 1151: 0.0001, 39154: 0.0002, 35387: 0.0001, 5597: 0.0001, 7608: 0.0001, 47558: 0.0001, 51114: 0.0001, 63233: 0.0001, 18156: 0.0001, 14003: 0.0001, 24368: 0.0001, 19396: 0.0001, 9583: 0.0001, 22904: 0.0001, 26284: 0.0001, 49885: 0.0001, 44124: 0.0001, 53279: 0.0002, 23858: 0.0001, 44079: 0.0001, 59491: 0.0002, 3739: 0.0001, 25238: 0.0001, 11369: 0.0001, 12886: 0.0001, 7597: 0.0001, 12055: 0.0001, 37015: 0.0001, 40252: 0.0001, 5787: 0.0001, 30857: 0.0001, 61493: 0.0001, 27279: 0.0001, 41807: 0.0001, 12248: 0.0001, 25807: 0.0001, 54614: 0.0002, 8879: 0.0002, 25466: 0.0001, 62023: 0.0001, 51013: 0.0001, 57542: 0.0001, 13819: 0.0001, 25243: 0.0001, 61636: 0.0001, 55874: 0.0001, 47395: 0.0001, 8983: 0.0001, 58441: 0.0001, 53932: 0.0003, 35832: 0.0001, 11494: 0.0001, 38943: 0.0001, 52263: 0.0001, 24879: 0.0002, 9615: 0.0002, 10557: 0.0001, 22835: 0.0001, 23430: 0.0002, 40376: 0.0001, 52329: 0.0001, 55685: 0.0001, 23512: 0.0001, 33079: 0.0001, 38727: 0.0001, 13745: 0.0001, 13898: 0.0001, 30554: 0.0001, 2798: 0.0001, 23832: 0.0001, 23670: 0.0001, 39718: 0.0001, 36134: 0.0001, 28163: 0.0001, 27181: 0.0001, 55882: 0.0001, 49773: 0.0001, 17134: 0.0001, 38704: 0.0001, 59984: 0.0001, 13429: 0.0001, 33975: 0.0001, 35477: 0.0003, 45872: 0.0001, 47498: 0.0001, 9646: 0.0001, 51500: 0.0002, 43817: 0.0002, 26782: 0.0002, 26793: 0.0001, 63045: 0.0001, 50146: 0.0001, 27030: 0.0001, 44844: 0.0001, 63004: 0.0001, 6367: 0.0001, 27693: 0.0001, 30811: 0.0001, 18220: 0.0001, 18899: 0.0001, 63280: 0.0001, 6331: 0.0001, 5934: 0.0001, 23874: 0.0001, 33493: 0.0001, 11385: 0.0001, 19369: 0.0001, 11950: 0.0001, 29548: 0.0001, 3631: 0.0001, 36026: 0.0002, 20763: 0.0001, 62984: 0.0001, 15145: 0.0002, 57765: 0.0001, 33597: 0.0001, 15251: 0.0001, 63882: 0.0001, 59545: 0.0001, 59328: 0.0001, 21171: 0.0001, 24156: 0.0001, 44141: 0.0001, 47284: 0.0001, 56387: 0.0002, 10133: 0.0002, 31473: 0.0001, 46732: 0.0001, 22177: 0.0001, 15954: 0.0002, 35359: 0.0001, 55472: 0.0001, 51001: 0.0001, 23376: 0.0001, 28969: 0.0001, 59689: 0.0002, 29632: 0.0001, 50393: 0.0001, 20793: 0.0002, 22777: 0.0001, 18345: 0.0001, 49525: 0.0001, 56588: 0.0001, 57897: 0.0001, 42403: 0.0003, 22726: 0.0001, 31025: 0.0001, 45769: 0.0001, 28433: 0.0001, 18403: 0.0001, 34427: 0.0001, 11740: 0.0001, 24097: 0.0001, 59042: 0.0001, 10846: 0.0001, 54915: 0.0001, 14489: 0.0001, 64708: 0.0001, 4470: 0.0001, 54833: 0.0001, 29033: 0.0001, 10671: 0.0001, 59809: 0.0002, 29972: 0.0001, 20651: 0.0001, 30249: 0.0001, 17882: 0.0001, 24947: 0.0001, 54411: 0.0001, 41079: 0.0001, 27237: 0.0001, 9581: 0.0001, 47886: 0.0001, 7258: 0.0001, 25018: 0.0001, 56376: 0.0001, 31028: 0.0001, 39814: 0.0001, 5483: 0.0001, 30008: 0.0001, 28054: 0.0001, 893: 0.0001, 40739: 0.0001, 10363: 0.0001, 28616: 0.0001, 58936: 0.0001, 40300: 0.0001, 59914: 0.0001, 12916: 0.0001, 28206: 0.0001, 37360: 0.0001, 6485: 0.0001, 39800: 0.0001, 12839: 0.0001, 60968: 0.0001, 11700: 0.0002, 65025: 0.0001, 11596: 0.0001, 30400: 0.0001, 9819: 0.0001, 62664: 0.0002, 28227: 0.0002, 54083: 0.0001, 56145: 0.0001, 21581: 0.0001, 51032: 0.0001, 5052: 0.0001, 59724: 0.0001, 48208: 0.0001, 45984: 0.0001, 52609: 0.0001, 4046: 0.0001, 42789: 0.0001, 63502: 0.0001, 39881: 0.0001, 21458: 0.0001, 47698: 0.0001, 5235: 0.0001, 59510: 0.0001, 27853: 0.0001, 27057: 0.0001, 44978: 0.0001, 40211: 0.0001, 12463: 0.0001, 37702: 0.0001, 30072: 0.0001, 61843: 0.0001, 18615: 0.0001, 43848: 0.0002, 13761: 0.0001, 26869: 0.0001, 34539: 0.0001, 62598: 0.0001, 22727: 0.0001, 58244: 0.0001, 35231: 0.0001, 28907: 0.0001, 16097: 0.0001, 39090: 0.0001, 63057: 0.0001, 60472: 0.0001, 30235: 0.0001, 63044: 0.0001, 34769: 0.0001, 26195: 0.0001, 51822: 0.0001, 23753: 0.0001, 34604: 0.0001, 11124: 0.0001, 7311: 0.0001, 29164: 0.0001, 26842: 0.0001, 40026: 0.0001, 48169: 0.0001, 45628: 0.0001, 13343: 0.0001, 58818: 0.0001, 2667: 0.0001, 42551: 0.0001, 57549: 0.0001, 58195: 0.0001, 20245: 0.0001, 44480: 0.0001, 5491: 0.0001, 14125: 0.0001, 9187: 0.0002, 38854: 0.0001, 18044: 0.0001, 41923: 0.0002, 37047: 0.0001, 40273: 0.0001, 22097: 0.0001, 43713: 0.0001, 3302: 0.0001, 7201: 0.0001, 50077: 0.0001, 54758: 0.0001, 9146: 0.0001, 3901: 0.0001, 9964: 0.0002, 35513: 0.0001, 52374: 0.0001, 10935: 0.0002, 23844: 0.0001, 23834: 0.0002, 63563: 0.0001, 20261: 0.0001, 24329: 0.0003, 34139: 0.0001, 10803: 0.0001, 38691: 0.0001, 7381: 0.0001, 43694: 0.0001, 49886: 0.0001, 24256: 0.0001, 22078: 0.0001, 44452: 0.0001, 33255: 0.0003, 44242: 0.0001, 34327: 0.0001, 49965: 0.0001, 25955: 0.0001, 34732: 0.0002, 47212: 0.0001, 45956: 0.0001, 36245: 0.0001, 20829: 0.0001, 7532: 0.0001, 11325: 0.0001, 15623: 0.0001, 16635: 0.0001, 51875: 0.0001, 24637: 0.0001, 26216: 0.0001, 49987: 0.0001, 56614: 0.0001, 20292: 0.0001, 63638: 0.0002, 14437: 0.0002, 57805: 0.0001, 47705: 0.0001, 33768: 0.0001, 35752: 0.0001, 55754: 0.0001, 59824: 0.0002, 8072: 0.0001, 52042: 0.0002, 49891: 0.0001, 48177: 0.0001, 33244: 0.0001, 38697: 0.0001, 33630: 0.0003, 1875: 0.0001, 4286: 0.0001, 58923: 0.0001, 43318: 0.0001, 59169: 0.0001, 23014: 0.0001, 27165: 0.0001, 27562: 0.0001, 36174: 0.0001, 56440: 0.0001, 47448: 0.0001, 55713: 0.0001, 6969: 0.0001, 63200: 0.0001, 50803: 0.0001, 9006: 0.0001, 52372: 0.0001, 18205: 0.0001, 50349: 0.0001, 46259: 0.0001, 62768: 0.0001, 43196: 0.0001, 7609: 0.0001, 48395: 0.0001, 37231: 0.0001, 57120: 0.0001, 38456: 0.0001, 4918: 0.0001, 50787: 0.0001, 26798: 0.0001, 50394: 0.0001, 52934: 0.0001, 60020: 0.0001, 638: 0.0001, 44696: 0.0001, 7797: 0.0001, 59436: 0.0001, 25001: 0.0001, 31314: 0.0002, 25779: 0.0001, 2465: 0.0001, 52680: 0.0001, 51731: 0.0001, 29377: 0.0002, 9791: 0.0001, 49873: 0.0001, 40160: 0.0001, 22635: 0.0001, 60492: 0.0001, 50102: 0.0001, 23639: 0.0001, 6043: 0.0001, 40465: 0.0001, 59953: 0.0001, 51403: 0.0001, 6613: 0.0002, 17598: 0.0003, 6886: 0.0002, 59014: 0.0001, 54342: 0.0001, 24451: 0.0001, 54612: 0.0001, 61204: 0.0001, 29585: 0.0001, 45103: 0.0001, 47693: 0.0001, 25180: 0.0001, 19708: 0.0001, 41326: 0.0001, 47157: 0.0001, 54089: 0.0001, 26172: 0.0002, 13149: 0.0001, 2735: 0.0001, 16399: 0.0001, 51757: 0.0001, 20842: 0.0001, 22896: 0.0001, 34722: 0.0001, 50977: 0.0001, 53033: 0.0001, 54873: 0.0001, 13282: 0.0001, 60716: 0.0001, 40476: 0.0001, 63124: 0.0002, 10430: 0.0002, 26514: 0.0001, 14149: 0.0001, 56492: 0.0001, 62996: 0.0001, 43557: 0.0001, 19826: 0.0001, 36652: 0.0001, 16260: 0.0001, 39067: 0.0001, 5230: 0.0001, 40801: 0.0001, 44866: 0.0002, 31843: 0.0001, 2918: 0.0001, 31244: 0.0001, 57941: 0.0002, 43891: 0.0001, 31129: 0.0001, 29300: 0.0002, 49880: 0.0001, 20593: 0.0001, 8949: 0.0002, 34582: 0.0001, 14049: 0.0001, 54789: 0.0001, 14819: 0.0001, 14491: 0.0001, 42317: 0.0001, 13976: 0.0001, 25524: 0.0001, 37993: 0.0001, 11240: 0.0001, 10926: 0.0001, 8826: 0.0001, 45181: 0.0001, 15697: 0.0001, 13214: 0.0001, 62105: 0.0001, 31200: 0.0001, 7054: 0.0001, 1786: 0.0001, 48720: 0.0001, 57182: 0.0001, 8914: 0.0001, 26840: 0.0001, 11847: 0.0002, 10970: 0.0001, 52534: 0.0001, 59668: 0.0001, 24209: 0.0001, 31794: 0.0002, 29347: 0.0001, 44137: 0.0001, 14700: 0.0001, 15964: 0.0001, 53120: 0.0001, 6855: 0.0001, 11954: 0.0001, 53616: 0.0001, 51315: 0.0001, 6632: 0.0001, 51896: 0.0001, 45845: 0.0001, 28008: 0.0001, 51418: 0.0001, 59147: 0.0001, 24953: 0.0002, 34289: 0.0001, 47398: 0.0001, 18310: 0.0001, 53005: 0.0001, 39030: 0.0002, 35484: 0.0001, 42654: 0.0001, 20979: 0.0001, 35548: 0.0001, 35955: 0.0001, 57108: 0.0001, 7481: 0.0002, 64017: 0.0002, 19102: 0.0001, 30560: 0.0001, 61220: 0.0001, 20067: 0.0002, 36409: 0.0001, 27190: 0.0002, 4878: 0.0001, 43737: 0.0001, 45447: 0.0001, 2878: 0.0001, 29106: 0.0001, 55436: 0.0001, 38701: 0.0001, 54550: 0.0002, 5806: 0.0001, 46312: 0.0001, 45417: 0.0001, 34107: 0.0002, 13682: 0.0001, 24098: 0.0001, 28308: 0.0001, 39889: 0.0001, 13071: 0.0001, 29880: 0.0001, 28854: 0.0001, 50300: 0.0001, 23609: 0.0003, 62089: 0.0001, 42599: 0.0001, 43997: 0.0001, 55088: 0.0001, 17641: 0.0001, 46370: 0.0001, 43672: 0.0001, 29618: 0.0001, 27192: 0.0001, 52449: 0.0001, 10007: 0.0001, 9623: 0.0001}], metadata=[{'shots': 10000, 'circuit_metadata': {}}])"
      ]
     },
     "execution_count": 44,
     "metadata": {},
     "output_type": "execute_result"
    }
   ],
   "source": [
    "sampler.run(qc).result()"
   ]
  },
  {
   "cell_type": "code",
   "execution_count": 45,
   "metadata": {},
   "outputs": [],
   "source": [
    "binary_probs = samp_dist.binary_probabilities()"
   ]
  },
  {
   "cell_type": "code",
   "execution_count": 46,
   "metadata": {},
   "outputs": [],
   "source": [
    "df_binary_probs = pd.DataFrame(binary_probs.items(), columns=['bitstring', 'probability'])"
   ]
  },
  {
   "cell_type": "code",
   "execution_count": 47,
   "metadata": {},
   "outputs": [],
   "source": [
    "# rank by probability\n",
    "df_binary_probs.sort_values(by=['probability'], ascending=False, inplace=True)"
   ]
  },
  {
   "cell_type": "code",
   "execution_count": 48,
   "metadata": {},
   "outputs": [],
   "source": [
    "# save to csv\n",
    "df_binary_probs.to_csv('binary_probs_simulator.csv', index=False)"
   ]
  },
  {
   "cell_type": "code",
   "execution_count": 49,
   "metadata": {},
   "outputs": [
    {
     "name": "stdout",
     "output_type": "stream",
     "text": [
      "X_train: (8192, 9)\n",
      "Accuracy: 0.31982421875\n"
     ]
    }
   ],
   "source": [
    "# take the first row, convert bitstring to feature mask\n",
    "feature_mask = np.array([int(x) for x in df_binary_probs.iloc[0]['bitstring']])\n",
    "\n",
    "# apply feature mask to data, drop unselected features\n",
    "selected_features = np.where(feature_mask == 1)[0]\n",
    "image_selected = image[:, selected_features]\n",
    "\n",
    "# split data into training and testing\n",
    "X_train, X_test, y_train, y_test = train_test_split(image_selected, label, test_size=0.2, random_state=44)\n",
    "\n",
    "# print data shape\n",
    "print(f\"X_train: {X_train.shape}\")\n",
    "\n",
    "# train svm\n",
    "svm = SVC()\n",
    "svm.fit(X_train, y_train)\n",
    "\n",
    "# predict\n",
    "y_pred = svm.predict(X_test)\n",
    "\n",
    "# evaluate\n",
    "print(f\"Accuracy: {accuracy_score(y_test, y_pred)}\")"
   ]
  },
  {
   "cell_type": "code",
   "execution_count": null,
   "metadata": {},
   "outputs": [],
   "source": []
  }
 ],
 "metadata": {
  "kernelspec": {
   "display_name": "qiskit",
   "language": "python",
   "name": "python3"
  },
  "language_info": {
   "codemirror_mode": {
    "name": "ipython",
    "version": 3
   },
   "file_extension": ".py",
   "mimetype": "text/x-python",
   "name": "python",
   "nbconvert_exporter": "python",
   "pygments_lexer": "ipython3",
   "version": "3.11.5"
  }
 },
 "nbformat": 4,
 "nbformat_minor": 2
}
